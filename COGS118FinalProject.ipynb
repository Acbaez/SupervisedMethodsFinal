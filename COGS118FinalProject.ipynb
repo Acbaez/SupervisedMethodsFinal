{
 "cells": [
  {
   "cell_type": "markdown",
   "metadata": {},
   "source": [
    "# Imports"
   ]
  },
  {
   "cell_type": "code",
   "execution_count": 1,
   "metadata": {},
   "outputs": [],
   "source": [
    "import scipy.io as sio\n",
    "import matplotlib.pyplot as plt\n",
    "import seaborn as sns\n",
    "import numpy as np\n",
    "import pandas as pd\n",
    "from sklearn import tree\n",
    "from sklearn import svm\n",
    "from sklearn.neighbors import KNeighborsClassifier\n",
    "from sklearn.model_selection import GridSearchCV\n",
    "%config InlineBackend.figure_format = 'retina'\n",
    "from scipy.spatial import distance\n",
    "from scipy import stats \n",
    "import statistics"
   ]
  },
  {
   "cell_type": "code",
   "execution_count": 2,
   "metadata": {},
   "outputs": [],
   "source": [
    "#Initialize lists for results section\n",
    "SVM_8020_testing = []\n",
    "SVM_5050_testing = []\n",
    "SVM_2080_testing = []\n",
    "\n",
    "DT_8020_testing = []\n",
    "DT_5050_testing = []\n",
    "DT_2080_testing = []\n",
    "\n",
    "KNN_8020_testing = []\n",
    "KNN_5050_testing = []\n",
    "KNN_2080_testing = []\n",
    "\n",
    "SVM_8020_training = []\n",
    "SVM_5050_training = []\n",
    "SVM_2080_training = []\n",
    "\n",
    "DT_8020_training = []\n",
    "DT_5050_training = []\n",
    "DT_2080_training = []\n",
    "\n",
    "KNN_8020_training = []\n",
    "KNN_5050_training = []\n",
    "KNN_2080_training = []\n",
    "\n",
    "SVM_8020_validation = []\n",
    "SVM_5050_validation = []\n",
    "SVM_2080_validation = []\n",
    "\n",
    "DT_8020_validation = []\n",
    "DT_5050_validation = []\n",
    "DT_2080_validation = []\n",
    "\n",
    "KNN_8020_validation = []\n",
    "KNN_5050_validation = []\n",
    "KNN_2080_validation = []"
   ]
  },
  {
   "cell_type": "markdown",
   "metadata": {},
   "source": [
    "# Breast Cancer Dataset"
   ]
  },
  {
   "cell_type": "code",
   "execution_count": 3,
   "metadata": {},
   "outputs": [
    {
     "name": "stdout",
     "output_type": "stream",
     "text": [
      "(683, 10) (683,)\n"
     ]
    }
   ],
   "source": [
    "# Load data\n",
    "df_breast_cancer = pd.read_table('breast-cancer-wisconsin.data',',',header=None)\n",
    "df_breast_cancer.columns = ['ID','Clump Thickness','Unif. of Cell Size','Unif. of Cell Shape','Marginal Adhesion',\\\n",
    "                            'Single Epithelial Cell Size','Bare Nuclei','Bland Chromatin','Normal Nucleoli','Mitoses','Diagnosis']\n",
    "# Clean data\n",
    "df_breast_cancer.replace('?', np.nan, inplace=True)\n",
    "# drop rows with missing data\n",
    "df_breast_cancer.dropna(inplace=True)\n",
    "# Change labels from 2s and 4s to 1s and 0s\n",
    "df_breast_cancer['Diagnosis'].replace(2,0,inplace=True)\n",
    "df_breast_cancer['Diagnosis'].replace(4,1,inplace=True)\n",
    "\n",
    "X_and_Y = df_breast_cancer.values # Load data from file.\n",
    "X_and_Y = X_and_Y.astype('int')\n",
    "np.random.shuffle(X_and_Y)   # Shuffle the data.\n",
    "X = X_and_Y[:, 0:-1]         # First column to second last column: Features (numerical values) \n",
    "Y = X_and_Y[:, -1]           # Last column: Labels (0 or 1)\n",
    "print(X.shape, Y.shape)      # Check the shapes."
   ]
  },
  {
   "cell_type": "markdown",
   "metadata": {},
   "source": [
    "**TRIAL 1**"
   ]
  },
  {
   "cell_type": "markdown",
   "metadata": {},
   "source": [
    "**80/20 Training and Testing Split**"
   ]
  },
  {
   "cell_type": "code",
   "execution_count": 4,
   "metadata": {
    "scrolled": true
   },
   "outputs": [
    {
     "name": "stdout",
     "output_type": "stream",
     "text": [
      "(546, 10) (137, 10) (546,) (137,)\n"
     ]
    }
   ],
   "source": [
    "# 2) SPLIT DATA 80/20\n",
    "X_train_val = X[:int(0.8*len(X))] \n",
    "X_test      = X[int(0.8*len(X)):]    \n",
    "Y_train_val = Y[:int(0.8*len(Y))] \n",
    "Y_test      = Y[int(0.8*len(Y)):] \n",
    "print(X_train_val.shape, X_test.shape, Y_train_val.shape, Y_test.shape)"
   ]
  },
  {
   "cell_type": "markdown",
   "metadata": {},
   "source": [
    "**SVM with RBF Kernel**"
   ]
  },
  {
   "cell_type": "code",
   "execution_count": 5,
   "metadata": {
    "scrolled": true
   },
   "outputs": [
    {
     "name": "stdout",
     "output_type": "stream",
     "text": [
      "Best Parameters: {'C': 1, 'gamma': 0.0001, 'kernel': 'rbf'}\n",
      "Validation Accuracy: 0.6575091575091575\n"
     ]
    },
    {
     "name": "stderr",
     "output_type": "stream",
     "text": [
      "/anaconda3/lib/python3.6/site-packages/sklearn/utils/deprecation.py:125: FutureWarning: You are accessing a training score ('mean_train_score'), which will not be available by default any more in 0.21. If you need training scores, please set return_train_score=True\n",
      "  warnings.warn(*warn_args, **warn_kwargs)\n"
     ]
    }
   ],
   "source": [
    "#initialize SVM with rbf kernel\n",
    "classifier = svm.SVC(kernel='rbf')\n",
    "C_list     = [0.1, 1, 10, 100] # Different C to try.\n",
    "gamma_list = [1e-7, 1e-6, 1e-5, 1e-4] # Different gamma to try.\n",
    "#create parameter grid to be used in GridSearchCV\n",
    "param_grid = {'C': C_list,\"gamma\": gamma_list,'kernel':['rbf']}\n",
    "\n",
    "#Search for optimal C and Gamma values\n",
    "grid_search = GridSearchCV(classifier, param_grid, scoring='accuracy', cv= 3)\n",
    "grid_search = grid_search.fit(X_train_val, Y_train_val)\n",
    "\n",
    "#append training accuracy\n",
    "result = grid_search.cv_results_\n",
    "SVM_8020_training_acc = max(result['mean_train_score']) \n",
    "SVM_8020_training.append(SVM_8020_training_acc)\n",
    "\n",
    "#print accuracy score and optimal parameter\n",
    "print(\"Best Parameters:\", grid_search.best_params_)\n",
    "\n",
    "#Report Validation Accuracy\n",
    "validation_acc_SVM_1 = grid_search.best_score_\n",
    "SVM_8020_validation.append(validation_acc_SVM_1)\n",
    "print(\"Validation Accuracy:\", grid_search.best_score_)"
   ]
  },
  {
   "cell_type": "code",
   "execution_count": 6,
   "metadata": {},
   "outputs": [
    {
     "name": "stdout",
     "output_type": "stream",
     "text": [
      "Training Accuracy: 1.0\n"
     ]
    }
   ],
   "source": [
    "#Report Training Accuracy\n",
    "print(\"Training Accuracy:\", SVM_8020_training_acc)"
   ]
  },
  {
   "cell_type": "code",
   "execution_count": 7,
   "metadata": {},
   "outputs": [
    {
     "name": "stdout",
     "output_type": "stream",
     "text": [
      "Test accuracy: 0.6423357664233577\n"
     ]
    }
   ],
   "source": [
    "#Report Testing Accuracy for SVM w/ Optimal Hyperparameters\n",
    "classifier = svm.SVC(C = 1,kernel='rbf', gamma=.0001)\n",
    "classifier = classifier.fit(X_train_val, Y_train_val)\n",
    "test_acc_SVM_1 = classifier.score(X_test, Y_test)\n",
    "\n",
    "# Add to list of testing accuracies for 80/20\n",
    "SVM_8020_testing.append(test_acc_SVM_1)\n",
    "\n",
    "#Report Accuracy\n",
    "print('Test accuracy:',test_acc_SVM_1)"
   ]
  },
  {
   "cell_type": "markdown",
   "metadata": {},
   "source": [
    "**Decision Tree**"
   ]
  },
  {
   "cell_type": "code",
   "execution_count": 8,
   "metadata": {},
   "outputs": [
    {
     "name": "stdout",
     "output_type": "stream",
     "text": [
      "Best Parameters: {'max_depth': 4}\n",
      "Validation Accuracy: 0.9578754578754579\n"
     ]
    },
    {
     "name": "stderr",
     "output_type": "stream",
     "text": [
      "/anaconda3/lib/python3.6/site-packages/sklearn/utils/deprecation.py:125: FutureWarning: You are accessing a training score ('mean_train_score'), which will not be available by default any more in 0.21. If you need training scores, please set return_train_score=True\n",
      "  warnings.warn(*warn_args, **warn_kwargs)\n"
     ]
    }
   ],
   "source": [
    "#Define Parameters\n",
    "D_list = [1,2,3,4,5]\n",
    "param_grid = {'max_depth': D_list}\n",
    "#create tree classifier using sklearn\n",
    "classifier = tree.DecisionTreeClassifier(criterion=\"entropy\")\n",
    "#Use grid search to find the best D using 5 fold validation \n",
    "grid_search = GridSearchCV(classifier, param_grid, scoring='accuracy', cv= 3)\n",
    "grid_search = grid_search.fit(X_train_val, Y_train_val)\n",
    "\n",
    "\n",
    "#print accuracy score and optimal parameter\n",
    "print(\"Best Parameters:\", grid_search.best_params_)\n",
    "\n",
    "#append training accuracy\n",
    "result = grid_search.cv_results_\n",
    "DT_8020_training_acc = max(result['mean_train_score']) \n",
    "DT_8020_training.append(DT_8020_training_acc)\n",
    "\n",
    "#Report Validation Accuracy\n",
    "validation_acc_DT_1 = grid_search.best_score_\n",
    "DT_8020_validation.append(validation_acc_DT_1)\n",
    "\n",
    "#Report Validation Accuracy\n",
    "validation_acc_DT_1 = grid_search.best_score_\n",
    "DT_8020_validation.append(validation_acc_DT_1)\n",
    "print(\"Validation Accuracy:\", grid_search.best_score_)"
   ]
  },
  {
   "cell_type": "code",
   "execution_count": 9,
   "metadata": {},
   "outputs": [
    {
     "name": "stdout",
     "output_type": "stream",
     "text": [
      "Test accuracy: 0.927007299270073\n"
     ]
    }
   ],
   "source": [
    "\n",
    "#Report Testing Accuracy for Decision Tree w/ Optimal Depth\n",
    "classifier = tree.DecisionTreeClassifier(criterion=\"entropy\", max_depth=4)\n",
    "classifier = classifier.fit(X_train_val, Y_train_val)\n",
    "test_acc_DT_1 = classifier.score(X_test, Y_test)\n",
    "\n",
    "# Add to list of testing accuracies for 80/20\n",
    "DT_8020_testing.append(test_acc_DT_1)\n",
    "\n",
    "#Report Accuracy\n",
    "print(\"Test accuracy:\", test_acc_DT_1)"
   ]
  },
  {
   "cell_type": "markdown",
   "metadata": {},
   "source": [
    "**K Nearest Neighbors**"
   ]
  },
  {
   "cell_type": "code",
   "execution_count": 10,
   "metadata": {
    "scrolled": true
   },
   "outputs": [
    {
     "name": "stdout",
     "output_type": "stream",
     "text": [
      "Best Parameter: {'n_neighbors': 2}\n",
      "Validation Accuracy: 0.6428571428571429\n"
     ]
    },
    {
     "name": "stderr",
     "output_type": "stream",
     "text": [
      "/anaconda3/lib/python3.6/site-packages/sklearn/model_selection/_search.py:841: DeprecationWarning: The default of the `iid` parameter will change from True to False in version 0.22 and will be removed in 0.24. This will change numeric results when test-set sizes are unequal.\n",
      "  DeprecationWarning)\n",
      "/anaconda3/lib/python3.6/site-packages/sklearn/utils/deprecation.py:125: FutureWarning: You are accessing a training score ('mean_train_score'), which will not be available by default any more in 0.21. If you need training scores, please set return_train_score=True\n",
      "  warnings.warn(*warn_args, **warn_kwargs)\n"
     ]
    }
   ],
   "source": [
    "#Initialize KNN classifier using sklearn\n",
    "k_list = [1,2,3,4,5,6]\n",
    "param_grid = {'n_neighbors': k_list}\n",
    "#create KNN classifier using euclidean distance\n",
    "clf = KNeighborsClassifier(p=2)\n",
    "#Use grid search to find optimal K\n",
    "grid_search = GridSearchCV(clf, param_grid, scoring='accuracy', cv= 3)\n",
    "grid_search = grid_search.fit(X_train_val, Y_train_val)\n",
    "\n",
    "#Obtain Training Accuracy from Cross Validation\n",
    "train_acc_array = np.reshape(grid_search.cv_results_[\"mean_train_score\"],(-1,1))\n",
    "\n",
    "#Obtrain Validation Accuracy from Cross Validation\n",
    "val_acc_array = np.reshape(grid_search.cv_results_[\"mean_test_score\"],(-1,1))\n",
    "\n",
    "#append training accuracy\n",
    "result = grid_search.cv_results_\n",
    "KNN_8020_training_acc = max(result['mean_train_score']) \n",
    "KNN_8020_training.append(KNN_8020_training_acc)\n",
    "\n",
    "#Print Optimal Parameters and Accuracy\n",
    "print(\"Best Parameter:\",  grid_search.best_params_)\n",
    "\n",
    "#Report Validation Accuracy\n",
    "validation_acc_KNN_1 = grid_search.best_score_\n",
    "KNN_8020_validation.append(validation_acc_KNN_1)\n",
    "print(\"Validation Accuracy:\", validation_acc_KNN_1)"
   ]
  },
  {
   "cell_type": "code",
   "execution_count": 11,
   "metadata": {},
   "outputs": [
    {
     "name": "stdout",
     "output_type": "stream",
     "text": [
      "Test Accuracy: 0.6642335766423357\n"
     ]
    }
   ],
   "source": [
    "# Report Testing Accuracy w/ optimal number of neighbors \n",
    "# and Euclidean distance measure\n",
    "classifier = KNeighborsClassifier(n_neighbors=2, p=2)\n",
    "classifier = classifier.fit(X_train_val, Y_train_val)\n",
    "test_acc_KNN_1 = classifier.score(X_test, Y_test)\n",
    "\n",
    "# Add to list of testing accuracies for 80/20\n",
    "KNN_8020_testing.append(test_acc_KNN_1)\n",
    "\n",
    "# Report Accuracy\n",
    "print(\"Test Accuracy:\", test_acc_KNN_1)"
   ]
  },
  {
   "cell_type": "markdown",
   "metadata": {},
   "source": [
    "**50/50 Training and Testing Split**"
   ]
  },
  {
   "cell_type": "code",
   "execution_count": 12,
   "metadata": {},
   "outputs": [
    {
     "name": "stdout",
     "output_type": "stream",
     "text": [
      "(341, 10) (342, 10) (341,) (342,)\n"
     ]
    }
   ],
   "source": [
    "# 2) SPLIT DATA 50/50\n",
    "X_train_val = X[:int(0.5*len(X))] # Get features from train + val set.\n",
    "X_test      = X[int(0.5*len(X)):] # Get features from test set.     \n",
    "Y_train_val = Y[:int(0.5*len(Y))] # Get labels from train + val set.\n",
    "Y_test      = Y[int(0.5*len(Y)):] # Get labels from test set.\n",
    "print(X_train_val.shape, X_test.shape, Y_train_val.shape, Y_test.shape)"
   ]
  },
  {
   "cell_type": "markdown",
   "metadata": {},
   "source": [
    "**SVM with RBF Kernel**"
   ]
  },
  {
   "cell_type": "code",
   "execution_count": 13,
   "metadata": {},
   "outputs": [
    {
     "name": "stdout",
     "output_type": "stream",
     "text": [
      "Best Parameters: {'C': 1, 'gamma': 1e-07, 'kernel': 'rbf'}\n",
      "Validation Accuracy: 0.656891495601173\n"
     ]
    },
    {
     "name": "stderr",
     "output_type": "stream",
     "text": [
      "/anaconda3/lib/python3.6/site-packages/sklearn/utils/deprecation.py:125: FutureWarning: You are accessing a training score ('mean_train_score'), which will not be available by default any more in 0.21. If you need training scores, please set return_train_score=True\n",
      "  warnings.warn(*warn_args, **warn_kwargs)\n"
     ]
    }
   ],
   "source": [
    "#initialize SVM with rbf kernel\n",
    "classifier = svm.SVC(kernel='rbf')\n",
    "C_list     = [0.1, 1, 10, 100] # Different C to try.\n",
    "gamma_list = [1e-7, 1e-6, 1e-5, 1e-4] # Different gamma to try.\n",
    "#create parameter grid to be used in GridSearchCV\n",
    "param_grid = {'C': C_list,\"gamma\": gamma_list,'kernel':['rbf']}\n",
    "\n",
    "#Search for optimal C and Gamma values\n",
    "grid_search = GridSearchCV(classifier, param_grid, scoring='accuracy', cv= 3)\n",
    "grid_search = grid_search.fit(X_train_val, Y_train_val)\n",
    "\n",
    "#append training accuracy\n",
    "result = grid_search.cv_results_\n",
    "SVM_5050_training_acc = max(result['mean_train_score'])  \n",
    "SVM_5050_training.append(SVM_5050_training_acc)\n",
    "\n",
    "#print accuracy score and optimal parameter\n",
    "print(\"Best Parameters:\", grid_search.best_params_)\n",
    "\n",
    "#Report Validation Accuracy\n",
    "validation_acc_SVM_1 = grid_search.best_score_\n",
    "SVM_5050_validation.append(validation_acc_SVM_1)\n",
    "print(\"Validation Accuracy:\", grid_search.best_score_)"
   ]
  },
  {
   "cell_type": "code",
   "execution_count": 14,
   "metadata": {},
   "outputs": [
    {
     "name": "stdout",
     "output_type": "stream",
     "text": [
      "Test Accuracy: 0.6023391812865497\n"
     ]
    }
   ],
   "source": [
    "#Report Testing Accuracy for SVM w/ Optimal Hyperparameters\n",
    "classifier = svm.SVC(C = 1,kernel='rbf', gamma=.0000001)\n",
    "classifier = classifier.fit(X_train_val, Y_train_val)\n",
    "test_acc_SVM_1 = classifier.score(X_test, Y_test)\n",
    "\n",
    "# Add to list of testing accuracies for 50/50\n",
    "SVM_5050_testing.append(test_acc_SVM_1)\n",
    "\n",
    "#Report Testing Accuracy\n",
    "print('Test Accuracy:',test_acc_SVM_1)"
   ]
  },
  {
   "cell_type": "markdown",
   "metadata": {},
   "source": [
    "**Decision Tree**"
   ]
  },
  {
   "cell_type": "code",
   "execution_count": 15,
   "metadata": {
    "scrolled": true
   },
   "outputs": [
    {
     "name": "stdout",
     "output_type": "stream",
     "text": [
      "Best Parameters: {'max_depth': 3}\n",
      "Validation Accuracy: 0.9560117302052786\n"
     ]
    },
    {
     "name": "stderr",
     "output_type": "stream",
     "text": [
      "/anaconda3/lib/python3.6/site-packages/sklearn/utils/deprecation.py:125: FutureWarning: You are accessing a training score ('mean_train_score'), which will not be available by default any more in 0.21. If you need training scores, please set return_train_score=True\n",
      "  warnings.warn(*warn_args, **warn_kwargs)\n"
     ]
    }
   ],
   "source": [
    "#Define Parameters\n",
    "D_list = [1,2,3,4,5]\n",
    "param_grid = {'max_depth': D_list}\n",
    "#create tree classifier using sklearn\n",
    "classifier = tree.DecisionTreeClassifier(criterion=\"entropy\")\n",
    "#Use grid search to find the best D using 5 fold validation \n",
    "grid_search = GridSearchCV(classifier, param_grid, scoring='accuracy', cv= 3)\n",
    "grid_search = grid_search.fit(X_train_val, Y_train_val)\n",
    "\n",
    "\n",
    "#print accuracy score and optimal parameter\n",
    "print(\"Best Parameters:\", grid_search.best_params_)\n",
    "\n",
    "#append training accuracy\n",
    "result = grid_search.cv_results_\n",
    "DT_5050_training_acc = max(result['mean_train_score']) \n",
    "DT_5050_training.append(SVM_8020_training_acc)\n",
    "\n",
    "#Report Validation Accuracy\n",
    "validation_acc_DT_1 = grid_search.best_score_\n",
    "DT_5050_validation.append(validation_acc_DT_1)\n",
    "\n",
    "#Report Validation Accuracy\n",
    "validation_acc_DT_1 = grid_search.best_score_\n",
    "DT_5050_validation.append(validation_acc_DT_1)\n",
    "print(\"Validation Accuracy:\", grid_search.best_score_)"
   ]
  },
  {
   "cell_type": "code",
   "execution_count": 16,
   "metadata": {},
   "outputs": [
    {
     "name": "stdout",
     "output_type": "stream",
     "text": [
      "Test Accuracy: 0.9649122807017544\n"
     ]
    }
   ],
   "source": [
    "#Report Testing Accuracy for Decision Tree w/ Optimal Depth\n",
    "classifier = tree.DecisionTreeClassifier(criterion=\"entropy\", max_depth=3)\n",
    "classifier = classifier.fit(X_train_val, Y_train_val)\n",
    "test_acc_DT_1 = classifier.score(X_test, Y_test)\n",
    "\n",
    "# Add to list of testing accuracies for 50/50\n",
    "DT_5050_testing.append(test_acc_DT_1)\n",
    "\n",
    "#Report Testing Accuracy \n",
    "print(\"Test Accuracy:\", test_acc_DT_1)"
   ]
  },
  {
   "cell_type": "markdown",
   "metadata": {},
   "source": [
    "**K Nearest Neighbors**"
   ]
  },
  {
   "cell_type": "code",
   "execution_count": 17,
   "metadata": {
    "scrolled": true
   },
   "outputs": [
    {
     "name": "stdout",
     "output_type": "stream",
     "text": [
      "Best Parameter: {'n_neighbors': 6}\n",
      "Validation Accuracy: 0.6686217008797654\n"
     ]
    },
    {
     "name": "stderr",
     "output_type": "stream",
     "text": [
      "/anaconda3/lib/python3.6/site-packages/sklearn/model_selection/_search.py:841: DeprecationWarning: The default of the `iid` parameter will change from True to False in version 0.22 and will be removed in 0.24. This will change numeric results when test-set sizes are unequal.\n",
      "  DeprecationWarning)\n",
      "/anaconda3/lib/python3.6/site-packages/sklearn/utils/deprecation.py:125: FutureWarning: You are accessing a training score ('mean_train_score'), which will not be available by default any more in 0.21. If you need training scores, please set return_train_score=True\n",
      "  warnings.warn(*warn_args, **warn_kwargs)\n"
     ]
    }
   ],
   "source": [
    "#Initialize KNN classifier using sklearn\n",
    "k_list = [1,2,3,4,5,6]\n",
    "param_grid = {'n_neighbors': k_list}\n",
    "#create KNN classifier using euclidean distance\n",
    "clf = KNeighborsClassifier(p=2)\n",
    "#Use grid search to find optimal K\n",
    "grid_search = GridSearchCV(clf, param_grid, scoring='accuracy', cv= 3)\n",
    "grid_search = grid_search.fit(X_train_val, Y_train_val)\n",
    "\n",
    "#Obtain Training Accuracy from Cross Validation\n",
    "train_acc_array = np.reshape(grid_search.cv_results_[\"mean_train_score\"],(-1,1))\n",
    "\n",
    "#Obtrain Validation Accuracy from Cross Validation\n",
    "val_acc_array = np.reshape(grid_search.cv_results_[\"mean_test_score\"],(-1,1))\n",
    "\n",
    "#append training accuracy\n",
    "result = grid_search.cv_results_\n",
    "KNN_5050_training_acc = max(result['mean_train_score']) \n",
    "KNN_5050_training.append(KNN_5050_training_acc)\n",
    "\n",
    "#Print Optimal Parameters and Accuracy\n",
    "print(\"Best Parameter:\",  grid_search.best_params_)\n",
    "\n",
    "#Report Validation Accuracy\n",
    "validation_acc_KNN_1 = grid_search.best_score_\n",
    "KNN_5050_validation.append(validation_acc_KNN_1)\n",
    "print(\"Validation Accuracy:\", validation_acc_KNN_1)"
   ]
  },
  {
   "cell_type": "code",
   "execution_count": 18,
   "metadata": {},
   "outputs": [
    {
     "name": "stdout",
     "output_type": "stream",
     "text": [
      "Test Accuracy: 0.6023391812865497\n"
     ]
    }
   ],
   "source": [
    "# Report Testing Accuracy w/ optimal number of neighbors \n",
    "# and Euclidean distance measure\n",
    "classifier = KNeighborsClassifier(n_neighbors=6, p=2)\n",
    "classifier = classifier.fit(X_train_val, Y_train_val)\n",
    "test_acc_KNN_1 = classifier.score(X_test, Y_test)\n",
    "\n",
    "# Add to list of testing accuracies for 50/50\n",
    "KNN_5050_testing.append(test_acc_KNN_1)\n",
    "\n",
    "# Report testing accuracy\n",
    "print(\"Test Accuracy:\", test_acc_KNN_1)"
   ]
  },
  {
   "cell_type": "markdown",
   "metadata": {},
   "source": [
    "**20/80 Training and Testing Split**"
   ]
  },
  {
   "cell_type": "code",
   "execution_count": 19,
   "metadata": {},
   "outputs": [
    {
     "name": "stdout",
     "output_type": "stream",
     "text": [
      "(136, 10) (547, 10) (136,) (547,)\n"
     ]
    }
   ],
   "source": [
    "# 2) SPLIT DATA 20/80\n",
    "X_train_val = X[:int(0.2*len(X))] # Get features from train + val set.\n",
    "X_test      = X[int(0.2*len(X)):] # Get features from test set.     \n",
    "Y_train_val = Y[:int(0.2*len(Y))] # Get labels from train + val set.\n",
    "Y_test      = Y[int(0.2*len(Y)):] # Get labels from test set.\n",
    "print(X_train_val.shape, X_test.shape, Y_train_val.shape, Y_test.shape)"
   ]
  },
  {
   "cell_type": "markdown",
   "metadata": {},
   "source": [
    "**SVM with RBF Kernel**"
   ]
  },
  {
   "cell_type": "code",
   "execution_count": 20,
   "metadata": {},
   "outputs": [
    {
     "name": "stdout",
     "output_type": "stream",
     "text": [
      "Best Parameters: {'C': 0.1, 'gamma': 1e-07, 'kernel': 'rbf'}\n",
      "Validation Accuracy: 0.6544117647058824\n"
     ]
    },
    {
     "name": "stderr",
     "output_type": "stream",
     "text": [
      "/anaconda3/lib/python3.6/site-packages/sklearn/model_selection/_search.py:841: DeprecationWarning: The default of the `iid` parameter will change from True to False in version 0.22 and will be removed in 0.24. This will change numeric results when test-set sizes are unequal.\n",
      "  DeprecationWarning)\n",
      "/anaconda3/lib/python3.6/site-packages/sklearn/utils/deprecation.py:125: FutureWarning: You are accessing a training score ('mean_train_score'), which will not be available by default any more in 0.21. If you need training scores, please set return_train_score=True\n",
      "  warnings.warn(*warn_args, **warn_kwargs)\n"
     ]
    }
   ],
   "source": [
    "#initialize SVM with rbf kernel\n",
    "classifier = svm.SVC(kernel='rbf')\n",
    "C_list     = [0.1, 1, 10, 100] # Different C to try.\n",
    "gamma_list = [1e-7, 1e-6, 1e-5, 1e-4] # Different gamma to try.\n",
    "#create parameter grid to be used in GridSearchCV\n",
    "param_grid = {'C': C_list,\"gamma\": gamma_list,'kernel':['rbf']}\n",
    "\n",
    "#Search for optimal C and Gamma values\n",
    "grid_search = GridSearchCV(classifier, param_grid, scoring='accuracy', cv= 3)\n",
    "grid_search = grid_search.fit(X_train_val, Y_train_val)\n",
    "\n",
    "\n",
    "#print accuracy score and optimal parameter\n",
    "print(\"Best Parameters:\", grid_search.best_params_)\n",
    "\n",
    "#append training accuracy\n",
    "result = grid_search.cv_results_\n",
    "SVM_2080_training_acc = max(result['mean_train_score']) \n",
    "SVM_2080_training.append(SVM_2080_training_acc)\n",
    "\n",
    "#Report Validation Accuracy\n",
    "validation_acc_SVM_1 = grid_search.best_score_\n",
    "SVM_2080_validation.append(validation_acc_SVM_1)\n",
    "print(\"Validation Accuracy:\", grid_search.best_score_)"
   ]
  },
  {
   "cell_type": "code",
   "execution_count": 21,
   "metadata": {},
   "outputs": [
    {
     "name": "stdout",
     "output_type": "stream",
     "text": [
      "Test Accuracy: 0.6489945155393053\n"
     ]
    }
   ],
   "source": [
    "#Report Testing Accuracy for SVM w/ Optimal Hyperparameters\n",
    "classifier = svm.SVC(C = 0.1,kernel='rbf', gamma=.0000001)\n",
    "classifier = classifier.fit(X_train_val, Y_train_val)\n",
    "test_acc_SVM_1 = classifier.score(X_test, Y_test)\n",
    "\n",
    "# Add to list of testing accuracies for 20/80\n",
    "SVM_2080_testing.append(test_acc_SVM_1)\n",
    "\n",
    "# Report Testing Accuracy\n",
    "print('Test Accuracy:',test_acc_SVM_1)"
   ]
  },
  {
   "cell_type": "markdown",
   "metadata": {},
   "source": [
    "**Decision Tree**"
   ]
  },
  {
   "cell_type": "code",
   "execution_count": 22,
   "metadata": {
    "scrolled": true
   },
   "outputs": [
    {
     "name": "stdout",
     "output_type": "stream",
     "text": [
      "Best Parameters: {'max_depth': 3}\n",
      "Validation Accuracy: 0.8602941176470589\n"
     ]
    },
    {
     "name": "stderr",
     "output_type": "stream",
     "text": [
      "/anaconda3/lib/python3.6/site-packages/sklearn/model_selection/_search.py:841: DeprecationWarning: The default of the `iid` parameter will change from True to False in version 0.22 and will be removed in 0.24. This will change numeric results when test-set sizes are unequal.\n",
      "  DeprecationWarning)\n",
      "/anaconda3/lib/python3.6/site-packages/sklearn/utils/deprecation.py:125: FutureWarning: You are accessing a training score ('mean_train_score'), which will not be available by default any more in 0.21. If you need training scores, please set return_train_score=True\n",
      "  warnings.warn(*warn_args, **warn_kwargs)\n"
     ]
    }
   ],
   "source": [
    "#Define Parameters\n",
    "D_list = [1,2,3,4,5]\n",
    "param_grid = {'max_depth': D_list}\n",
    "#create tree classifier using sklearn\n",
    "classifier = tree.DecisionTreeClassifier(criterion=\"entropy\")\n",
    "#Use grid search to find the best D using 5 fold validation \n",
    "grid_search = GridSearchCV(classifier, param_grid, scoring='accuracy', cv= 3)\n",
    "grid_search = grid_search.fit(X_train_val, Y_train_val)\n",
    "\n",
    "#print accuracy score and optimal parameter\n",
    "print(\"Best Parameters:\", grid_search.best_params_)\n",
    "\n",
    "#append training accuracy\n",
    "result = grid_search.cv_results_\n",
    "DT_2080_training_acc = max(result['mean_train_score']) \n",
    "DT_2080_training.append(DT_2080_training_acc)\n",
    "\n",
    "#Report Validation Accuracy\n",
    "validation_acc_DT_1 = grid_search.best_score_\n",
    "DT_2080_validation.append(validation_acc_DT_1)\n",
    "print(\"Validation Accuracy:\", grid_search.best_score_)"
   ]
  },
  {
   "cell_type": "code",
   "execution_count": 23,
   "metadata": {},
   "outputs": [
    {
     "name": "stdout",
     "output_type": "stream",
     "text": [
      "Test Accuracy: 0.9506398537477148\n"
     ]
    }
   ],
   "source": [
    "#Report Testing Accuracy for Decision Tree w/ Optimal Depth\n",
    "classifier = tree.DecisionTreeClassifier(criterion=\"entropy\", max_depth=3)\n",
    "classifier = classifier.fit(X_train_val, Y_train_val)\n",
    "test_acc_DT_1 = classifier.score(X_test, Y_test)\n",
    "\n",
    "# Add to list of testing accuracies for 20/80\n",
    "DT_2080_testing.append(test_acc_DT_1)\n",
    "\n",
    "# Report Testing Accuracy\n",
    "print(\"Test Accuracy:\", test_acc_DT_1)"
   ]
  },
  {
   "cell_type": "markdown",
   "metadata": {},
   "source": [
    "**K Nearest Neighbors**"
   ]
  },
  {
   "cell_type": "code",
   "execution_count": 24,
   "metadata": {},
   "outputs": [
    {
     "name": "stdout",
     "output_type": "stream",
     "text": [
      "Best Parameter: {'n_neighbors': 4}\n",
      "Validation Accuracy: 0.6911764705882353\n",
      "Validation Accuracy: 0.6911764705882353\n"
     ]
    },
    {
     "name": "stderr",
     "output_type": "stream",
     "text": [
      "/anaconda3/lib/python3.6/site-packages/sklearn/model_selection/_search.py:841: DeprecationWarning: The default of the `iid` parameter will change from True to False in version 0.22 and will be removed in 0.24. This will change numeric results when test-set sizes are unequal.\n",
      "  DeprecationWarning)\n",
      "/anaconda3/lib/python3.6/site-packages/sklearn/utils/deprecation.py:125: FutureWarning: You are accessing a training score ('mean_train_score'), which will not be available by default any more in 0.21. If you need training scores, please set return_train_score=True\n",
      "  warnings.warn(*warn_args, **warn_kwargs)\n"
     ]
    }
   ],
   "source": [
    "#Initialize KNN classifier using sklearn\n",
    "k_list = [1,2,3,4,5,6]\n",
    "param_grid = {'n_neighbors': k_list}\n",
    "#create KNN classifier using euclidean distance\n",
    "clf = KNeighborsClassifier(p=2)\n",
    "#Use grid search to find optimal K\n",
    "grid_search = GridSearchCV(clf, param_grid, scoring='accuracy', cv= 3)\n",
    "grid_search = grid_search.fit(X_train_val, Y_train_val)\n",
    "\n",
    "#Print Optimal Parameters and Accuracy\n",
    "print(\"Best Parameter:\",  grid_search.best_params_)\n",
    "\n",
    "#append training accuracy\n",
    "result = grid_search.cv_results_\n",
    "KNN_2080_training_acc = max(result['mean_train_score']) \n",
    "KNN_2080_training.append(KNN_2080_training_acc)\n",
    "\n",
    "#Report Validation Accuracy\n",
    "validation_acc_KNN_1 = grid_search.best_score_\n",
    "KNN_2080_validation.append(validation_acc_KNN_1)\n",
    "\n",
    "print(\"Validation Accuracy:\", validation_acc_KNN_1)\n",
    "print(\"Validation Accuracy:\", grid_search.best_score_)"
   ]
  },
  {
   "cell_type": "code",
   "execution_count": 25,
   "metadata": {},
   "outputs": [
    {
     "name": "stdout",
     "output_type": "stream",
     "text": [
      "Test Accuracy: 0.6380255941499086\n"
     ]
    }
   ],
   "source": [
    "# Report Testing Accuracy w/ optimal number of neighbors \n",
    "# and Euclidean distance measure\n",
    "classifier = KNeighborsClassifier(n_neighbors=4, p=2)\n",
    "classifier = classifier.fit(X_train_val, Y_train_val)\n",
    "test_acc_KNN_1 = classifier.score(X_test, Y_test)\n",
    "\n",
    "# Add to list of testing accuracies for 20/80\n",
    "KNN_2080_testing.append(test_acc_KNN_1)\n",
    "\n",
    "#Report Testing Accuracy\n",
    "print(\"Test Accuracy:\", test_acc_KNN_1)"
   ]
  },
  {
   "cell_type": "markdown",
   "metadata": {},
   "source": [
    "**TRIAL 2**"
   ]
  },
  {
   "cell_type": "code",
   "execution_count": 26,
   "metadata": {},
   "outputs": [],
   "source": [
    "#Shuffle data again\n",
    "X_and_Y = df_breast_cancer.values # Load data from file.\n",
    "X_and_Y = X_and_Y.astype('int')\n",
    "np.random.shuffle(X_and_Y)   # Shuffle the data.\n",
    "X = X_and_Y[:, 0:-1]         # First column to second last column: Features (numerical values) \n",
    "Y = X_and_Y[:, -1]           # Last column: Labels (0 or 1)"
   ]
  },
  {
   "cell_type": "code",
   "execution_count": 27,
   "metadata": {},
   "outputs": [
    {
     "name": "stdout",
     "output_type": "stream",
     "text": [
      "(546, 10) (137, 10) (546,) (137,)\n"
     ]
    }
   ],
   "source": [
    "# 2) SPLIT DATA 80/20\n",
    "X_train_val = X[:int(0.8*len(X))] \n",
    "X_test      = X[int(0.8*len(X)):]    \n",
    "Y_train_val = Y[:int(0.8*len(Y))] \n",
    "Y_test      = Y[int(0.8*len(Y)):] \n",
    "print(X_train_val.shape, X_test.shape, Y_train_val.shape, Y_test.shape)"
   ]
  },
  {
   "cell_type": "markdown",
   "metadata": {},
   "source": [
    "**SVM with RBF Kernel**"
   ]
  },
  {
   "cell_type": "code",
   "execution_count": 28,
   "metadata": {},
   "outputs": [
    {
     "name": "stdout",
     "output_type": "stream",
     "text": [
      "Best Parameters: {'C': 1, 'gamma': 1e-06, 'kernel': 'rbf'}\n",
      "Validation Accuracy: 0.6703296703296703\n"
     ]
    },
    {
     "name": "stderr",
     "output_type": "stream",
     "text": [
      "/anaconda3/lib/python3.6/site-packages/sklearn/utils/deprecation.py:125: FutureWarning: You are accessing a training score ('mean_train_score'), which will not be available by default any more in 0.21. If you need training scores, please set return_train_score=True\n",
      "  warnings.warn(*warn_args, **warn_kwargs)\n"
     ]
    }
   ],
   "source": [
    "#initialize SVM with rbf kernel\n",
    "classifier = svm.SVC(kernel='rbf')\n",
    "C_list     = [0.1, 1, 10, 100] # Different C to try.\n",
    "gamma_list = [1e-7, 1e-6, 1e-5, 1e-4] # Different gamma to try.\n",
    "#create parameter grid to be used in GridSearchCV\n",
    "param_grid = {'C': C_list,\"gamma\": gamma_list,'kernel':['rbf']}\n",
    "\n",
    "#Search for optimal C and Gamma values\n",
    "grid_search = GridSearchCV(classifier, param_grid, scoring='accuracy', cv= 3)\n",
    "grid_search = grid_search.fit(X_train_val, Y_train_val)\n",
    "\n",
    "#print accuracy score and optimal parameter\n",
    "print(\"Best Parameters:\", grid_search.best_params_)\n",
    "\n",
    "#append training accuracy\n",
    "result = grid_search.cv_results_\n",
    "SVM_8020_training_acc = max(result['mean_train_score']) \n",
    "SVM_8020_training.append(SVM_8020_training_acc)\n",
    "\n",
    "#Report Validation Accuracy\n",
    "validation_acc_SVM_1 = grid_search.best_score_\n",
    "SVM_8020_validation.append(validation_acc_SVM_1)\n",
    "print(\"Validation Accuracy:\", grid_search.best_score_)"
   ]
  },
  {
   "cell_type": "code",
   "execution_count": 29,
   "metadata": {},
   "outputs": [
    {
     "name": "stdout",
     "output_type": "stream",
     "text": [
      "Test Accuracy: 0.5985401459854015\n"
     ]
    }
   ],
   "source": [
    "#Report Testing Accuracy for SVM w/ Optimal Hyperparameters\n",
    "classifier = svm.SVC(C = 1,kernel='rbf', gamma=.000001)\n",
    "classifier = classifier.fit(X_train_val, Y_train_val)\n",
    "test_acc_SVM_1 = classifier.score(X_test, Y_test)\n",
    "\n",
    "# Add to list of 80/20 accuracy\n",
    "SVM_8020_testing.append(test_acc_SVM_1)\n",
    "\n",
    "# Report Test Accuracy\n",
    "print('Test Accuracy:',test_acc_SVM_1)"
   ]
  },
  {
   "cell_type": "markdown",
   "metadata": {},
   "source": [
    "**Decision Tree**"
   ]
  },
  {
   "cell_type": "code",
   "execution_count": 30,
   "metadata": {},
   "outputs": [
    {
     "name": "stdout",
     "output_type": "stream",
     "text": [
      "Best Parameters: {'max_depth': 5}\n",
      "Validation Accuracy: 0.9487179487179487\n"
     ]
    },
    {
     "name": "stderr",
     "output_type": "stream",
     "text": [
      "/anaconda3/lib/python3.6/site-packages/sklearn/utils/deprecation.py:125: FutureWarning: You are accessing a training score ('mean_train_score'), which will not be available by default any more in 0.21. If you need training scores, please set return_train_score=True\n",
      "  warnings.warn(*warn_args, **warn_kwargs)\n"
     ]
    }
   ],
   "source": [
    "#Define Parameters\n",
    "D_list = [1,2,3,4,5]\n",
    "param_grid = {'max_depth': D_list}\n",
    "#create tree classifier using sklearn\n",
    "classifier = tree.DecisionTreeClassifier(criterion=\"entropy\")\n",
    "#Use grid search to find the best D using 5 fold validation \n",
    "grid_search = GridSearchCV(classifier, param_grid, scoring='accuracy', cv= 3)\n",
    "grid_search = grid_search.fit(X_train_val, Y_train_val)\n",
    "\n",
    "#print accuracy score and optimal parameter\n",
    "print(\"Best Parameters:\", grid_search.best_params_)\n",
    "\n",
    "\n",
    "#append training accuracy\n",
    "result = grid_search.cv_results_\n",
    "DT_8020_training_acc = max(result['mean_train_score']) \n",
    "DT_8020_training.append(DT_8020_training_acc)\n",
    "\n",
    "#Report Validation Accuracy\n",
    "validation_acc_DT_1 = grid_search.best_score_\n",
    "DT_8020_validation.append(validation_acc_DT_1)\n",
    "print(\"Validation Accuracy:\", grid_search.best_score_)"
   ]
  },
  {
   "cell_type": "code",
   "execution_count": 31,
   "metadata": {},
   "outputs": [
    {
     "name": "stdout",
     "output_type": "stream",
     "text": [
      "Test Accuracy: 0.9635036496350365\n"
     ]
    }
   ],
   "source": [
    "#Report Testing Accuracy for Decision Tree w/ Optimal Depth\n",
    "classifier = tree.DecisionTreeClassifier(criterion=\"entropy\", max_depth=5)\n",
    "classifier = classifier.fit(X_train_val, Y_train_val)\n",
    "test_acc_DT_1 = classifier.score(X_test, Y_test)\n",
    "\n",
    "# Add to list of 80/20 accuracy\n",
    "DT_8020_testing.append(test_acc_DT_1)\n",
    "\n",
    "#Report Testing Accuracy\n",
    "print(\"Test Accuracy:\", test_acc_DT_1)"
   ]
  },
  {
   "cell_type": "markdown",
   "metadata": {},
   "source": [
    "**K Nearest Neighbors**"
   ]
  },
  {
   "cell_type": "code",
   "execution_count": 32,
   "metadata": {},
   "outputs": [
    {
     "name": "stdout",
     "output_type": "stream",
     "text": [
      "Best Parameter: {'n_neighbors': 2}\n",
      "Validation Accuracy: 0.663003663003663\n"
     ]
    },
    {
     "name": "stderr",
     "output_type": "stream",
     "text": [
      "/anaconda3/lib/python3.6/site-packages/sklearn/utils/deprecation.py:125: FutureWarning: You are accessing a training score ('mean_train_score'), which will not be available by default any more in 0.21. If you need training scores, please set return_train_score=True\n",
      "  warnings.warn(*warn_args, **warn_kwargs)\n"
     ]
    }
   ],
   "source": [
    "#Initialize KNN classifier using sklearn\n",
    "k_list = [1,2,3,4,5,6]\n",
    "param_grid = {'n_neighbors': k_list}\n",
    "#create KNN classifier using euclidean distance\n",
    "clf = KNeighborsClassifier(p=2)\n",
    "#Use grid search to find optimal K\n",
    "grid_search = GridSearchCV(clf, param_grid, scoring='accuracy', cv= 3)\n",
    "grid_search = grid_search.fit(X_train_val, Y_train_val)\n",
    "\n",
    "#Print Optimal Parameters and Accuracy\n",
    "print(\"Best Parameter:\",  grid_search.best_params_)\n",
    "\n",
    "#append training accuracy\n",
    "result = grid_search.cv_results_\n",
    "KNN_8020_training_acc = max(result['mean_train_score']) \n",
    "KNN_8020_training.append(KNN_8020_training_acc)\n",
    "\n",
    "#Report Validation Accuracy\n",
    "validation_acc_KNN_1 = grid_search.best_score_\n",
    "KNN_8020_validation.append(validation_acc_KNN_1)\n",
    "print(\"Validation Accuracy:\", validation_acc_KNN_1)"
   ]
  },
  {
   "cell_type": "code",
   "execution_count": 33,
   "metadata": {},
   "outputs": [
    {
     "name": "stdout",
     "output_type": "stream",
     "text": [
      "Test Accuracy: 0.6496350364963503\n"
     ]
    }
   ],
   "source": [
    "# Report Testing Accuracy w/ optimal number of neighbors \n",
    "# and Euclidean distance measure\n",
    "classifier = KNeighborsClassifier(n_neighbors=2, p=2)\n",
    "classifier = classifier.fit(X_train_val, Y_train_val)\n",
    "test_acc_KNN_1 = classifier.score(X_test, Y_test)\n",
    "\n",
    "# Add to list of 80/20 accuracy\n",
    "KNN_8020_testing.append(test_acc_KNN_1)\n",
    "\n",
    "#Report Testing Accuracy\n",
    "print(\"Test Accuracy:\", test_acc_KNN_1)"
   ]
  },
  {
   "cell_type": "code",
   "execution_count": 34,
   "metadata": {},
   "outputs": [
    {
     "name": "stdout",
     "output_type": "stream",
     "text": [
      "(341, 10) (342, 10) (341,) (342,)\n"
     ]
    }
   ],
   "source": [
    "#50/50 Training and Testing Split\n",
    "X_train_val = X[:int(0.5*len(X))] \n",
    "X_test      = X[int(0.5*len(X)):]\n",
    "Y_train_val = Y[:int(0.5*len(Y))] \n",
    "Y_test      = Y[int(0.5*len(Y)):]\n",
    "print(X_train_val.shape, X_test.shape, Y_train_val.shape, Y_test.shape)"
   ]
  },
  {
   "cell_type": "markdown",
   "metadata": {},
   "source": [
    "**SVM with RBF Kernel**"
   ]
  },
  {
   "cell_type": "code",
   "execution_count": 35,
   "metadata": {
    "scrolled": true
   },
   "outputs": [
    {
     "name": "stdout",
     "output_type": "stream",
     "text": [
      "Best Parameters: {'C': 10, 'gamma': 0.0001, 'kernel': 'rbf'}\n",
      "Validation Accuracy: 0.6862170087976539\n"
     ]
    },
    {
     "name": "stderr",
     "output_type": "stream",
     "text": [
      "/anaconda3/lib/python3.6/site-packages/sklearn/utils/deprecation.py:125: FutureWarning: You are accessing a training score ('mean_train_score'), which will not be available by default any more in 0.21. If you need training scores, please set return_train_score=True\n",
      "  warnings.warn(*warn_args, **warn_kwargs)\n"
     ]
    }
   ],
   "source": [
    "#initialize SVM with rbf kernel\n",
    "classifier = svm.SVC(kernel='rbf')\n",
    "C_list     = [0.1, 1, 10, 100] # Different C to try.\n",
    "gamma_list = [1e-7, 1e-6, 1e-5, 1e-4] # Different gamma to try.\n",
    "#create parameter grid to be used in GridSearchCV\n",
    "param_grid = {'C': C_list,\"gamma\": gamma_list,'kernel':['rbf']}\n",
    "\n",
    "#Search for optimal C and Gamma values\n",
    "grid_search = GridSearchCV(classifier, param_grid, scoring='accuracy', cv= 3)\n",
    "grid_search = grid_search.fit(X_train_val, Y_train_val)\n",
    "\n",
    "#print accuracy score and optimal parameter\n",
    "print(\"Best Parameters:\", grid_search.best_params_)\n",
    "\n",
    "#append training accuracy\n",
    "result = grid_search.cv_results_\n",
    "SVM_5050_training_acc = max(result['mean_train_score']) \n",
    "SVM_5050_training.append(SVM_5050_training_acc)\n",
    "\n",
    "#Report Validation Accuracy\n",
    "validation_acc_SVM_1 = grid_search.best_score_\n",
    "SVM_5050_validation.append(validation_acc_SVM_1)\n",
    "print(\"Validation Accuracy:\", grid_search.best_score_)"
   ]
  },
  {
   "cell_type": "code",
   "execution_count": 36,
   "metadata": {},
   "outputs": [
    {
     "name": "stdout",
     "output_type": "stream",
     "text": [
      "Test Accuracy: 0.6198830409356725\n"
     ]
    }
   ],
   "source": [
    "#Report Testing Accuracy for SVM w/ Optimal Hyperparameters\n",
    "classifier = svm.SVC(C = 10,kernel='rbf', gamma=.0001)\n",
    "classifier = classifier.fit(X_train_val, Y_train_val)\n",
    "test_acc_SVM_1 = classifier.score(X_test, Y_test)\n",
    "\n",
    "# Add to list of testing accuracies for 50/50\n",
    "SVM_5050_testing.append(test_acc_SVM_1)\n",
    "\n",
    "#Report Testing Accuracy\n",
    "print('Test Accuracy:',test_acc_SVM_1)"
   ]
  },
  {
   "cell_type": "markdown",
   "metadata": {},
   "source": [
    "**Decision Tree**"
   ]
  },
  {
   "cell_type": "code",
   "execution_count": 37,
   "metadata": {},
   "outputs": [
    {
     "name": "stdout",
     "output_type": "stream",
     "text": [
      "Best Parameters: {'max_depth': 4}\n",
      "Validation Accuracy: 0.9530791788856305\n"
     ]
    },
    {
     "name": "stderr",
     "output_type": "stream",
     "text": [
      "/anaconda3/lib/python3.6/site-packages/sklearn/utils/deprecation.py:125: FutureWarning: You are accessing a training score ('mean_train_score'), which will not be available by default any more in 0.21. If you need training scores, please set return_train_score=True\n",
      "  warnings.warn(*warn_args, **warn_kwargs)\n"
     ]
    }
   ],
   "source": [
    "#Define Parameters\n",
    "D_list = [1,2,3,4,5]\n",
    "param_grid = {'max_depth': D_list}\n",
    "#create tree classifier using sklearn\n",
    "classifier = tree.DecisionTreeClassifier(criterion=\"entropy\")\n",
    "#Use grid search to find the best D using 5 fold validation \n",
    "grid_search = GridSearchCV(classifier, param_grid, scoring='accuracy', cv= 3)\n",
    "grid_search = grid_search.fit(X_train_val, Y_train_val)\n",
    "\n",
    "#print accuracy score and optimal parameter\n",
    "print(\"Best Parameters:\", grid_search.best_params_)\n",
    "\n",
    "#append training accuracy\n",
    "result = grid_search.cv_results_\n",
    "DT_5050_training_acc = max(result['mean_train_score']) \n",
    "DT_5050_training.append(DT_5050_training_acc)\n",
    "\n",
    "#Report Validation Accuracy\n",
    "validation_acc_DT_1 = grid_search.best_score_\n",
    "DT_5050_validation.append(validation_acc_DT_1)\n",
    "print(\"Validation Accuracy:\", grid_search.best_score_)"
   ]
  },
  {
   "cell_type": "code",
   "execution_count": 38,
   "metadata": {},
   "outputs": [
    {
     "name": "stdout",
     "output_type": "stream",
     "text": [
      "Test Accuracy: 0.9444444444444444\n"
     ]
    }
   ],
   "source": [
    "#Report Testing Accuracy for Decision Tree w/ Optimal Depth\n",
    "classifier = tree.DecisionTreeClassifier(criterion=\"entropy\", max_depth=4)\n",
    "classifier = classifier.fit(X_train_val, Y_train_val)\n",
    "test_acc_DT_1 = classifier.score(X_test, Y_test)\n",
    "\n",
    "# Add to list of testing accuracies for 50/50\n",
    "DT_5050_testing.append(test_acc_DT_1)\n",
    "\n",
    "# Report testing accuracy\n",
    "print(\"Test Accuracy:\", test_acc_DT_1)"
   ]
  },
  {
   "cell_type": "markdown",
   "metadata": {},
   "source": [
    "**K Nearest Neighbors**"
   ]
  },
  {
   "cell_type": "code",
   "execution_count": 39,
   "metadata": {},
   "outputs": [
    {
     "name": "stdout",
     "output_type": "stream",
     "text": [
      "Best Parameter: {'n_neighbors': 4}\n",
      "Validation Accuracy: 0.6950146627565983\n"
     ]
    },
    {
     "name": "stderr",
     "output_type": "stream",
     "text": [
      "/anaconda3/lib/python3.6/site-packages/sklearn/utils/deprecation.py:125: FutureWarning: You are accessing a training score ('mean_train_score'), which will not be available by default any more in 0.21. If you need training scores, please set return_train_score=True\n",
      "  warnings.warn(*warn_args, **warn_kwargs)\n"
     ]
    }
   ],
   "source": [
    "#Initialize KNN classifier using sklearn\n",
    "k_list = [1,2,3,4,5,6]\n",
    "param_grid = {'n_neighbors': k_list}\n",
    "#create KNN classifier using euclidean distance\n",
    "clf = KNeighborsClassifier(p=2)\n",
    "#Use grid search to find optimal K\n",
    "grid_search = GridSearchCV(clf, param_grid, scoring='accuracy', cv= 3)\n",
    "grid_search = grid_search.fit(X_train_val, Y_train_val)\n",
    "\n",
    "#Print Optimal Parameters and Accuracy\n",
    "print(\"Best Parameter:\",  grid_search.best_params_)\n",
    "\n",
    "#append training accuracy\n",
    "result = grid_search.cv_results_\n",
    "KNN_5050_training_acc = max(result['mean_train_score']) \n",
    "KNN_5050_training.append(KNN_5050_training_acc)\n",
    "\n",
    "#Report Validation Accuracy\n",
    "validation_acc_KNN_1 = grid_search.best_score_\n",
    "KNN_5050_validation.append(validation_acc_KNN_1)\n",
    "print(\"Validation Accuracy:\", validation_acc_KNN_1)"
   ]
  },
  {
   "cell_type": "code",
   "execution_count": 40,
   "metadata": {},
   "outputs": [
    {
     "name": "stdout",
     "output_type": "stream",
     "text": [
      "Test Accuracy: 0.6257309941520468\n"
     ]
    }
   ],
   "source": [
    "# Report Testing Accuracy w/ optimal number of neighbors \n",
    "# and Euclidean distance measure\n",
    "classifier = KNeighborsClassifier(n_neighbors=4, p=2)\n",
    "classifier = classifier.fit(X_train_val, Y_train_val)\n",
    "test_acc_KNN_1 = classifier.score(X_test, Y_test)\n",
    "\n",
    "# Add to list of testing accuracies for 50/50\n",
    "KNN_5050_testing.append(test_acc_KNN_1)\n",
    "\n",
    "# Report Testing Accuracy\n",
    "print(\"Test Accuracy:\", test_acc_KNN_1)"
   ]
  },
  {
   "cell_type": "code",
   "execution_count": 41,
   "metadata": {},
   "outputs": [
    {
     "name": "stdout",
     "output_type": "stream",
     "text": [
      "(136, 10) (547, 10) (136,) (547,)\n"
     ]
    }
   ],
   "source": [
    "#20/80 Training and Testing Split\n",
    "X_train_val = X[:int(0.2*len(X))] \n",
    "X_test      = X[int(0.2*len(X)):] \n",
    "Y_train_val = Y[:int(0.2*len(Y))] \n",
    "Y_test      = Y[int(0.2*len(Y)):] \n",
    "print(X_train_val.shape, X_test.shape, Y_train_val.shape, Y_test.shape)"
   ]
  },
  {
   "cell_type": "markdown",
   "metadata": {},
   "source": [
    "**SVM with RBF Kernel**"
   ]
  },
  {
   "cell_type": "code",
   "execution_count": 42,
   "metadata": {
    "scrolled": true
   },
   "outputs": [
    {
     "name": "stdout",
     "output_type": "stream",
     "text": [
      "Best Parameters: {'C': 0.1, 'gamma': 1e-07, 'kernel': 'rbf'}\n",
      "Validation Accuracy: 0.6617647058823529\n"
     ]
    },
    {
     "name": "stderr",
     "output_type": "stream",
     "text": [
      "/anaconda3/lib/python3.6/site-packages/sklearn/model_selection/_search.py:841: DeprecationWarning: The default of the `iid` parameter will change from True to False in version 0.22 and will be removed in 0.24. This will change numeric results when test-set sizes are unequal.\n",
      "  DeprecationWarning)\n",
      "/anaconda3/lib/python3.6/site-packages/sklearn/utils/deprecation.py:125: FutureWarning: You are accessing a training score ('mean_train_score'), which will not be available by default any more in 0.21. If you need training scores, please set return_train_score=True\n",
      "  warnings.warn(*warn_args, **warn_kwargs)\n"
     ]
    }
   ],
   "source": [
    "#initialize SVM with rbf kernel\n",
    "classifier = svm.SVC(kernel='rbf')\n",
    "C_list     = [0.1, 1, 10, 100] # Different C to try.\n",
    "gamma_list = [1e-7, 1e-6, 1e-5, 1e-4] # Different gamma to try.\n",
    "#create parameter grid to be used in GridSearchCV\n",
    "param_grid = {'C': C_list,\"gamma\": gamma_list,'kernel':['rbf']}\n",
    "\n",
    "#Search for optimal C and Gamma values\n",
    "grid_search = GridSearchCV(classifier, param_grid, scoring='accuracy', cv= 3)\n",
    "grid_search = grid_search.fit(X_train_val, Y_train_val)\n",
    "\n",
    "#print accuracy score and optimal parameter\n",
    "print(\"Best Parameters:\", grid_search.best_params_)\n",
    "\n",
    "#append training accuracy\n",
    "result = grid_search.cv_results_\n",
    "SVM_2080_training_acc = max(result['mean_train_score']) \n",
    "SVM_2080_training.append(SVM_2080_training_acc)\n",
    "\n",
    "#Report Validation Accuracy\n",
    "validation_acc_SVM_1 = grid_search.best_score_\n",
    "SVM_2080_validation.append(validation_acc_SVM_1)\n",
    "print(\"Validation Accuracy:\", grid_search.best_score_)"
   ]
  },
  {
   "cell_type": "code",
   "execution_count": 43,
   "metadata": {},
   "outputs": [
    {
     "name": "stdout",
     "output_type": "stream",
     "text": [
      "Test Accuracy: 0.6471663619744058\n"
     ]
    }
   ],
   "source": [
    "#Report Testing Accuracy for SVM w/ Optimal Hyperparameters\n",
    "classifier = svm.SVC(C = 0.1,kernel='rbf', gamma=.0000001)\n",
    "classifier = classifier.fit(X_train_val, Y_train_val)\n",
    "test_acc_SVM_1 = classifier.score(X_test, Y_test)\n",
    "\n",
    "# Add to list of testing accuracies for 20/80\n",
    "SVM_2080_testing.append(test_acc_SVM_1)\n",
    "\n",
    "#Report Testing Accuracy\n",
    "print('Test Accuracy:',test_acc_SVM_1)"
   ]
  },
  {
   "cell_type": "markdown",
   "metadata": {},
   "source": [
    "**Decision Tree**"
   ]
  },
  {
   "cell_type": "code",
   "execution_count": 44,
   "metadata": {},
   "outputs": [
    {
     "name": "stdout",
     "output_type": "stream",
     "text": [
      "Best Parameters: {'max_depth': 3}\n",
      "Validation Accuracy: 0.9191176470588235\n"
     ]
    },
    {
     "name": "stderr",
     "output_type": "stream",
     "text": [
      "/anaconda3/lib/python3.6/site-packages/sklearn/model_selection/_search.py:841: DeprecationWarning: The default of the `iid` parameter will change from True to False in version 0.22 and will be removed in 0.24. This will change numeric results when test-set sizes are unequal.\n",
      "  DeprecationWarning)\n",
      "/anaconda3/lib/python3.6/site-packages/sklearn/utils/deprecation.py:125: FutureWarning: You are accessing a training score ('mean_train_score'), which will not be available by default any more in 0.21. If you need training scores, please set return_train_score=True\n",
      "  warnings.warn(*warn_args, **warn_kwargs)\n"
     ]
    }
   ],
   "source": [
    "#Define Parameters\n",
    "D_list = [1,2,3,4,5]\n",
    "param_grid = {'max_depth': D_list}\n",
    "#create tree classifier using sklearn\n",
    "classifier = tree.DecisionTreeClassifier(criterion=\"entropy\")\n",
    "#Use grid search to find the best D using 5 fold validation \n",
    "grid_search = GridSearchCV(classifier, param_grid, scoring='accuracy', cv= 3)\n",
    "grid_search = grid_search.fit(X_train_val, Y_train_val)\n",
    "\n",
    "#print accuracy score and optimal parameter\n",
    "print(\"Best Parameters:\", grid_search.best_params_)\n",
    "\n",
    "#append training accuracy\n",
    "result = grid_search.cv_results_\n",
    "DT_2080_training_acc = max(result['mean_train_score']) \n",
    "DT_2080_training.append(DT_2080_training_acc)\n",
    "\n",
    "#Report Validation Accuracy\n",
    "validation_acc_DT_1 = grid_search.best_score_\n",
    "DT_2080_validation.append(validation_acc_DT_1)\n",
    "print(\"Validation Accuracy:\", grid_search.best_score_)"
   ]
  },
  {
   "cell_type": "code",
   "execution_count": 45,
   "metadata": {},
   "outputs": [
    {
     "name": "stdout",
     "output_type": "stream",
     "text": [
      "Test Accuracy: 0.9542961608775137\n"
     ]
    }
   ],
   "source": [
    "#Report Testing Accuracy for Decision Tree w/ Optimal Depth\n",
    "classifier = tree.DecisionTreeClassifier(criterion=\"entropy\", max_depth=3)\n",
    "classifier = classifier.fit(X_train_val, Y_train_val)\n",
    "test_acc_DT_1 = classifier.score(X_test, Y_test)\n",
    "\n",
    "# Add to list of testing accuracies for 20/80\n",
    "DT_2080_testing.append(test_acc_DT_1)\n",
    "\n",
    "#Report Testing Accuracy\n",
    "print(\"Test Accuracy:\", test_acc_DT_1)"
   ]
  },
  {
   "cell_type": "markdown",
   "metadata": {},
   "source": [
    "**K Nearest Neighbors**"
   ]
  },
  {
   "cell_type": "code",
   "execution_count": 46,
   "metadata": {},
   "outputs": [
    {
     "name": "stdout",
     "output_type": "stream",
     "text": [
      "Best Parameter: {'n_neighbors': 2}\n",
      "Validation Accuracy: 0.6691176470588235\n"
     ]
    },
    {
     "name": "stderr",
     "output_type": "stream",
     "text": [
      "/anaconda3/lib/python3.6/site-packages/sklearn/model_selection/_search.py:841: DeprecationWarning: The default of the `iid` parameter will change from True to False in version 0.22 and will be removed in 0.24. This will change numeric results when test-set sizes are unequal.\n",
      "  DeprecationWarning)\n",
      "/anaconda3/lib/python3.6/site-packages/sklearn/utils/deprecation.py:125: FutureWarning: You are accessing a training score ('mean_train_score'), which will not be available by default any more in 0.21. If you need training scores, please set return_train_score=True\n",
      "  warnings.warn(*warn_args, **warn_kwargs)\n"
     ]
    }
   ],
   "source": [
    "#Initialize KNN classifier using sklearn\n",
    "k_list = [1,2,3,4,5,6]\n",
    "param_grid = {'n_neighbors': k_list}\n",
    "#create KNN classifier using euclidean distance\n",
    "clf = KNeighborsClassifier(p=2)\n",
    "#Use grid search to find optimal K\n",
    "grid_search = GridSearchCV(clf, param_grid, scoring='accuracy', cv= 3)\n",
    "grid_search = grid_search.fit(X_train_val, Y_train_val)\n",
    "\n",
    "#Print Optimal Parameters and Accuracy\n",
    "print(\"Best Parameter:\",  grid_search.best_params_)\n",
    "\n",
    "#append training accuracy\n",
    "result = grid_search.cv_results_\n",
    "KNN_2080_training_acc = max(result['mean_train_score']) \n",
    "KNN_2080_training.append(KNN_2080_training_acc)\n",
    "\n",
    "#Report Validation Accuracy\n",
    "validation_acc_KNN_1 = grid_search.best_score_\n",
    "KNN_2080_validation.append(validation_acc_KNN_1)\n",
    "print(\"Validation Accuracy:\", validation_acc_KNN_1)"
   ]
  },
  {
   "cell_type": "code",
   "execution_count": 47,
   "metadata": {},
   "outputs": [
    {
     "name": "stdout",
     "output_type": "stream",
     "text": [
      "Test Accuracy: 0.6307129798903108\n"
     ]
    }
   ],
   "source": [
    "# Report Testing Accuracy w/ optimal number of neighbors \n",
    "# and Euclidean distance measure\n",
    "classifier = KNeighborsClassifier(n_neighbors=2, p=2)\n",
    "classifier = classifier.fit(X_train_val, Y_train_val)\n",
    "test_acc_KNN_1 = classifier.score(X_test, Y_test)\n",
    "\n",
    "# Add to list of testing accuracies for 20/80\n",
    "KNN_2080_testing.append(test_acc_KNN_1)\n",
    "\n",
    "#Report Testing Accuracy\n",
    "print(\"Test Accuracy:\", test_acc_KNN_1)"
   ]
  },
  {
   "cell_type": "markdown",
   "metadata": {},
   "source": [
    "**TRIAL 3**"
   ]
  },
  {
   "cell_type": "code",
   "execution_count": 48,
   "metadata": {},
   "outputs": [],
   "source": [
    "#Shuffle Data and Split data for third trial\n",
    "X_and_Y = df_breast_cancer.values \n",
    "X_and_Y = X_and_Y.astype('int')\n",
    "np.random.shuffle(X_and_Y)   \n",
    "X = X_and_Y[:, 0:-1]          \n",
    "Y = X_and_Y[:, -1]   "
   ]
  },
  {
   "cell_type": "code",
   "execution_count": 49,
   "metadata": {},
   "outputs": [
    {
     "name": "stdout",
     "output_type": "stream",
     "text": [
      "(546, 10) (137, 10) (546,) (137,)\n"
     ]
    }
   ],
   "source": [
    "#80/20 Training and Testing Split \n",
    "X_train_val = X[:int(0.8*len(X))] \n",
    "X_test      = X[int(0.8*len(X)):]    \n",
    "Y_train_val = Y[:int(0.8*len(Y))] \n",
    "Y_test      = Y[int(0.8*len(Y)):] \n",
    "print(X_train_val.shape, X_test.shape, Y_train_val.shape, Y_test.shape)"
   ]
  },
  {
   "cell_type": "markdown",
   "metadata": {},
   "source": [
    "**SVM with RBF Kernel**"
   ]
  },
  {
   "cell_type": "code",
   "execution_count": 50,
   "metadata": {},
   "outputs": [
    {
     "name": "stdout",
     "output_type": "stream",
     "text": [
      "Best Parameters: {'C': 0.1, 'gamma': 1e-07, 'kernel': 'rbf'}\n",
      "Validation Accuracy: 0.6611721611721612\n"
     ]
    },
    {
     "name": "stderr",
     "output_type": "stream",
     "text": [
      "/anaconda3/lib/python3.6/site-packages/sklearn/model_selection/_search.py:841: DeprecationWarning: The default of the `iid` parameter will change from True to False in version 0.22 and will be removed in 0.24. This will change numeric results when test-set sizes are unequal.\n",
      "  DeprecationWarning)\n",
      "/anaconda3/lib/python3.6/site-packages/sklearn/utils/deprecation.py:125: FutureWarning: You are accessing a training score ('mean_train_score'), which will not be available by default any more in 0.21. If you need training scores, please set return_train_score=True\n",
      "  warnings.warn(*warn_args, **warn_kwargs)\n"
     ]
    }
   ],
   "source": [
    "#initialize SVM with rbf kernel\n",
    "classifier = svm.SVC(kernel='rbf')\n",
    "C_list     = [0.1, 1, 10, 100] # Different C to try.\n",
    "gamma_list = [1e-7, 1e-6, 1e-5, 1e-4] # Different gamma to try.\n",
    "#create parameter grid to be used in GridSearchCV\n",
    "param_grid = {'C': C_list,\"gamma\": gamma_list,'kernel':['rbf']}\n",
    "\n",
    "#Search for optimal C and Gamma values\n",
    "grid_search = GridSearchCV(classifier, param_grid, scoring='accuracy', cv= 3)\n",
    "grid_search = grid_search.fit(X_train_val, Y_train_val)\n",
    "\n",
    "#print accuracy score and optimal parameter\n",
    "print(\"Best Parameters:\", grid_search.best_params_)\n",
    "\n",
    "#append training accuracy\n",
    "result = grid_search.cv_results_\n",
    "SVM_8020_training_acc = max(result['mean_train_score']) \n",
    "SVM_8020_training.append(SVM_8020_training_acc)\n",
    "\n",
    "#Report Validation Accuracy\n",
    "validation_acc_SVM_1 = grid_search.best_score_\n",
    "SVM_8020_validation.append(validation_acc_SVM_1)\n",
    "print(\"Validation Accuracy:\", grid_search.best_score_)"
   ]
  },
  {
   "cell_type": "code",
   "execution_count": 51,
   "metadata": {},
   "outputs": [
    {
     "name": "stdout",
     "output_type": "stream",
     "text": [
      "Test Accuracy: 0.6058394160583942\n"
     ]
    }
   ],
   "source": [
    "#Report Testing Accuracy for SVM w/ Optimal Hyperparameters\n",
    "classifier = svm.SVC(C = 0.1,kernel='rbf', gamma=.0000001)\n",
    "classifier = classifier.fit(X_train_val, Y_train_val)\n",
    "test_acc_SVM_1 = classifier.score(X_test, Y_test)\n",
    "\n",
    "SVM_8020_testing.append(test_acc_SVM_1)\n",
    "\n",
    "# Report Testing Accuracy\n",
    "print('Test Accuracy:',test_acc_SVM_1)"
   ]
  },
  {
   "cell_type": "markdown",
   "metadata": {},
   "source": [
    "**Decision Tree**"
   ]
  },
  {
   "cell_type": "code",
   "execution_count": 52,
   "metadata": {},
   "outputs": [
    {
     "name": "stdout",
     "output_type": "stream",
     "text": [
      "Best Parameters: {'max_depth': 3}\n",
      "Validation Accuracy: 0.945054945054945\n"
     ]
    },
    {
     "name": "stderr",
     "output_type": "stream",
     "text": [
      "/anaconda3/lib/python3.6/site-packages/sklearn/utils/deprecation.py:125: FutureWarning: You are accessing a training score ('mean_train_score'), which will not be available by default any more in 0.21. If you need training scores, please set return_train_score=True\n",
      "  warnings.warn(*warn_args, **warn_kwargs)\n"
     ]
    }
   ],
   "source": [
    "#Define Parameters\n",
    "D_list = [1,2,3,4,5]\n",
    "param_grid = {'max_depth': D_list}\n",
    "#create tree classifier using sklearn\n",
    "classifier = tree.DecisionTreeClassifier(criterion=\"entropy\")\n",
    "#Use grid search to find the best D using 5 fold validation \n",
    "grid_search = GridSearchCV(classifier, param_grid, scoring='accuracy', cv= 3)\n",
    "grid_search = grid_search.fit(X_train_val, Y_train_val)\n",
    "\n",
    "#print accuracy score and optimal parameter\n",
    "print(\"Best Parameters:\", grid_search.best_params_)\n",
    "\n",
    "#append training accuracy\n",
    "result = grid_search.cv_results_\n",
    "DT_8020_training_acc = max(result['mean_train_score']) \n",
    "DT_8020_training.append(DT_8020_training_acc)\n",
    "\n",
    "#Report Validation Accuracy\n",
    "validation_acc_DT_1 = grid_search.best_score_\n",
    "DT_8020_validation.append(validation_acc_DT_1)\n",
    "print(\"Validation Accuracy:\", grid_search.best_score_)"
   ]
  },
  {
   "cell_type": "code",
   "execution_count": 53,
   "metadata": {},
   "outputs": [
    {
     "name": "stdout",
     "output_type": "stream",
     "text": [
      "Test Accuracy: 0.9343065693430657\n"
     ]
    }
   ],
   "source": [
    "#Report Testing Accuracy for Decision Tree w/ Optimal Depth\n",
    "classifier = tree.DecisionTreeClassifier(criterion=\"entropy\", max_depth=3)\n",
    "classifier = classifier.fit(X_train_val, Y_train_val)\n",
    "test_acc_DT_1 = classifier.score(X_test, Y_test)\n",
    "\n",
    "# Add to list of 80/20 accuracy\n",
    "DT_8020_testing.append(test_acc_DT_1)\n",
    "\n",
    "# Report Testing Accuracy\n",
    "print(\"Test Accuracy:\", test_acc_DT_1)"
   ]
  },
  {
   "cell_type": "markdown",
   "metadata": {},
   "source": [
    "**K Nearest Neighbors**"
   ]
  },
  {
   "cell_type": "code",
   "execution_count": 54,
   "metadata": {},
   "outputs": [
    {
     "name": "stdout",
     "output_type": "stream",
     "text": [
      "Best Parameter: {'n_neighbors': 6}\n",
      "Validation Accuracy: 0.6538461538461539\n"
     ]
    },
    {
     "name": "stderr",
     "output_type": "stream",
     "text": [
      "/anaconda3/lib/python3.6/site-packages/sklearn/utils/deprecation.py:125: FutureWarning: You are accessing a training score ('mean_train_score'), which will not be available by default any more in 0.21. If you need training scores, please set return_train_score=True\n",
      "  warnings.warn(*warn_args, **warn_kwargs)\n"
     ]
    }
   ],
   "source": [
    "#Initialize KNN classifier using sklearn\n",
    "k_list = [1,2,3,4,5,6]\n",
    "param_grid = {'n_neighbors': k_list}\n",
    "#create KNN classifier using euclidean distance\n",
    "clf = KNeighborsClassifier(p=2)\n",
    "#Use grid search to find optimal K\n",
    "grid_search = GridSearchCV(clf, param_grid, scoring='accuracy', cv= 3)\n",
    "grid_search = grid_search.fit(X_train_val, Y_train_val)\n",
    "\n",
    "#Print Optimal Parameters and Accuracy\n",
    "print(\"Best Parameter:\",  grid_search.best_params_)\n",
    "\n",
    "#append training accuracy\n",
    "result = grid_search.cv_results_\n",
    "KNN_8020_training_acc = max(result['mean_train_score']) \n",
    "KNN_8020_training.append(KNN_8020_training_acc)\n",
    "\n",
    "#Report Validation Accuracy\n",
    "validation_acc_KNN_1 = grid_search.best_score_\n",
    "KNN_8020_validation.append(validation_acc_KNN_1)\n",
    "print(\"Validation Accuracy:\", validation_acc_KNN_1)"
   ]
  },
  {
   "cell_type": "code",
   "execution_count": 55,
   "metadata": {},
   "outputs": [
    {
     "name": "stdout",
     "output_type": "stream",
     "text": [
      "Test Accuracy: 0.583941605839416\n"
     ]
    }
   ],
   "source": [
    "# Report Testing Accuracy w/ optimal number of neighbors \n",
    "# and Euclidean distance measure\n",
    "classifier = KNeighborsClassifier(n_neighbors=6, p=2)\n",
    "classifier = classifier.fit(X_train_val, Y_train_val)\n",
    "test_acc_KNN_1 = classifier.score(X_test, Y_test)\n",
    "\n",
    "# Add to list of 80/20 accuracy\n",
    "KNN_8020_testing.append(test_acc_KNN_1)\n",
    "\n",
    "# Report Testing Accuracy\n",
    "print(\"Test Accuracy:\", test_acc_KNN_1)"
   ]
  },
  {
   "cell_type": "code",
   "execution_count": 56,
   "metadata": {},
   "outputs": [
    {
     "name": "stdout",
     "output_type": "stream",
     "text": [
      "(341, 10) (342, 10) (341,) (342,)\n"
     ]
    }
   ],
   "source": [
    "#50/50 Training and Testing Split\n",
    "X_train_val = X[:int(0.5*len(X))] \n",
    "X_test      = X[int(0.5*len(X)):]\n",
    "Y_train_val = Y[:int(0.5*len(Y))] \n",
    "Y_test      = Y[int(0.5*len(Y)):]\n",
    "print(X_train_val.shape, X_test.shape, Y_train_val.shape, Y_test.shape)"
   ]
  },
  {
   "cell_type": "markdown",
   "metadata": {},
   "source": [
    "**SVM with RBF Kernel**"
   ]
  },
  {
   "cell_type": "code",
   "execution_count": 57,
   "metadata": {},
   "outputs": [
    {
     "name": "stdout",
     "output_type": "stream",
     "text": [
      "Best Parameters: {'C': 0.1, 'gamma': 1e-07, 'kernel': 'rbf'}\n",
      "Validation Accuracy: 0.6598240469208211\n"
     ]
    },
    {
     "name": "stderr",
     "output_type": "stream",
     "text": [
      "/anaconda3/lib/python3.6/site-packages/sklearn/utils/deprecation.py:125: FutureWarning: You are accessing a training score ('mean_train_score'), which will not be available by default any more in 0.21. If you need training scores, please set return_train_score=True\n",
      "  warnings.warn(*warn_args, **warn_kwargs)\n"
     ]
    }
   ],
   "source": [
    "#initialize SVM with rbf kernel\n",
    "classifier = svm.SVC(kernel='rbf')\n",
    "C_list     = [0.1, 1, 10, 100] # Different C to try.\n",
    "gamma_list = [1e-7, 1e-6, 1e-5, 1e-4] # Different gamma to try.\n",
    "#create parameter grid to be used in GridSearchCV\n",
    "param_grid = {'C': C_list,\"gamma\": gamma_list,'kernel':['rbf']}\n",
    "\n",
    "#Search for optimal C and Gamma values\n",
    "grid_search = GridSearchCV(classifier, param_grid, scoring='accuracy', cv= 3)\n",
    "grid_search = grid_search.fit(X_train_val, Y_train_val)\n",
    "\n",
    "#print accuracy score and optimal parameter\n",
    "print(\"Best Parameters:\", grid_search.best_params_)\n",
    "\n",
    "#append training accuracy\n",
    "result = grid_search.cv_results_\n",
    "SVM_5050_training_acc = max(result['mean_train_score']) \n",
    "SVM_5050_training.append(SVM_5050_training_acc)\n",
    "\n",
    "#Report Validation Accuracy\n",
    "validation_acc_SVM_1 = grid_search.best_score_\n",
    "SVM_5050_validation.append(validation_acc_SVM_1)\n",
    "print(\"Validation Accuracy:\", grid_search.best_score_)"
   ]
  },
  {
   "cell_type": "code",
   "execution_count": 58,
   "metadata": {},
   "outputs": [
    {
     "name": "stdout",
     "output_type": "stream",
     "text": [
      "Test Accuracy: 0.6403508771929824\n"
     ]
    }
   ],
   "source": [
    "#Report Testing Accuracy for SVM w/ Optimal Hyperparameters\n",
    "classifier = svm.SVC(C = 0.1,kernel='rbf', gamma=.0000001)\n",
    "classifier = classifier.fit(X_train_val, Y_train_val)\n",
    "test_acc_SVM_1 = classifier.score(X_test, Y_test)\n",
    "\n",
    "# Add to list of testing accuracies for 50/50\n",
    "SVM_5050_testing.append(test_acc_SVM_1)\n",
    "\n",
    "#Report Testing Accuracy\n",
    "print('Test Accuracy:',test_acc_SVM_1)"
   ]
  },
  {
   "cell_type": "markdown",
   "metadata": {},
   "source": [
    "**Decision Tree**"
   ]
  },
  {
   "cell_type": "code",
   "execution_count": 59,
   "metadata": {
    "scrolled": true
   },
   "outputs": [
    {
     "name": "stdout",
     "output_type": "stream",
     "text": [
      "Best Parameters: {'max_depth': 3}\n",
      "Validation Accuracy: 0.9589442815249267\n"
     ]
    },
    {
     "name": "stderr",
     "output_type": "stream",
     "text": [
      "/anaconda3/lib/python3.6/site-packages/sklearn/utils/deprecation.py:125: FutureWarning: You are accessing a training score ('mean_train_score'), which will not be available by default any more in 0.21. If you need training scores, please set return_train_score=True\n",
      "  warnings.warn(*warn_args, **warn_kwargs)\n"
     ]
    }
   ],
   "source": [
    "#Define Parameters\n",
    "D_list = [1,2,3,4,5]\n",
    "param_grid = {'max_depth': D_list}\n",
    "#create tree classifier using sklearn\n",
    "classifier = tree.DecisionTreeClassifier(criterion=\"entropy\")\n",
    "#Use grid search to find the best D using 5 fold validation \n",
    "grid_search = GridSearchCV(classifier, param_grid, scoring='accuracy', cv= 3)\n",
    "grid_search = grid_search.fit(X_train_val, Y_train_val)\n",
    "\n",
    "#print accuracy score and optimal parameter\n",
    "print(\"Best Parameters:\", grid_search.best_params_)\n",
    "\n",
    "#append training accuracy\n",
    "result = grid_search.cv_results_\n",
    "DT_5050_training_acc = max(result['mean_train_score']) \n",
    "DT_5050_training.append(DT_5050_training_acc)\n",
    "\n",
    "#Report Validation Accuracy\n",
    "validation_acc_DT_1 = grid_search.best_score_\n",
    "DT_5050_validation.append(validation_acc_DT_1)\n",
    "print(\"Validation Accuracy:\", grid_search.best_score_)"
   ]
  },
  {
   "cell_type": "code",
   "execution_count": 60,
   "metadata": {},
   "outputs": [
    {
     "name": "stdout",
     "output_type": "stream",
     "text": [
      "Test Accuracy: 0.9298245614035088\n"
     ]
    }
   ],
   "source": [
    "#Report Testing Accuracy for Decision Tree w/ Optimal Depth\n",
    "classifier = tree.DecisionTreeClassifier(criterion=\"entropy\", max_depth=3)\n",
    "classifier = classifier.fit(X_train_val, Y_train_val)\n",
    "test_acc_DT_1 = classifier.score(X_test, Y_test)\n",
    "\n",
    "# Add to list of testing accuracies for 50/50\n",
    "DT_5050_testing.append(test_acc_DT_1)\n",
    "\n",
    "# Report Testing Accuracy\n",
    "print(\"Test Accuracy:\", test_acc_DT_1)"
   ]
  },
  {
   "cell_type": "markdown",
   "metadata": {},
   "source": [
    "**K Nearest Neighbors**"
   ]
  },
  {
   "cell_type": "code",
   "execution_count": 61,
   "metadata": {},
   "outputs": [
    {
     "name": "stdout",
     "output_type": "stream",
     "text": [
      "Best Parameter: {'n_neighbors': 4}\n",
      "Validation Accuracy: 0.6598240469208211\n"
     ]
    },
    {
     "name": "stderr",
     "output_type": "stream",
     "text": [
      "/anaconda3/lib/python3.6/site-packages/sklearn/utils/deprecation.py:125: FutureWarning: You are accessing a training score ('mean_train_score'), which will not be available by default any more in 0.21. If you need training scores, please set return_train_score=True\n",
      "  warnings.warn(*warn_args, **warn_kwargs)\n"
     ]
    }
   ],
   "source": [
    "#Initialize KNN classifier using sklearn\n",
    "k_list = [1,2,3,4,5,6]\n",
    "param_grid = {'n_neighbors': k_list}\n",
    "#create KNN classifier using euclidean distance\n",
    "clf = KNeighborsClassifier(p=2)\n",
    "#Use grid search to find optimal K\n",
    "grid_search = GridSearchCV(clf, param_grid, scoring='accuracy', cv= 3)\n",
    "grid_search = grid_search.fit(X_train_val, Y_train_val)\n",
    "\n",
    "#Print Optimal Parameters and Accuracy\n",
    "print(\"Best Parameter:\",  grid_search.best_params_)\n",
    "\n",
    "#append training accuracy\n",
    "result = grid_search.cv_results_\n",
    "KNN_5050_training_acc = max(result['mean_train_score']) \n",
    "KNN_5050_training.append(KNN_5050_training_acc)\n",
    "\n",
    "#Report Validation Accuracy\n",
    "validation_acc_KNN_1 = grid_search.best_score_\n",
    "KNN_5050_validation.append(validation_acc_KNN_1)\n",
    "print(\"Validation Accuracy:\", validation_acc_KNN_1)"
   ]
  },
  {
   "cell_type": "code",
   "execution_count": 62,
   "metadata": {},
   "outputs": [
    {
     "name": "stdout",
     "output_type": "stream",
     "text": [
      "Test Accuracy: 0.6432748538011696\n"
     ]
    }
   ],
   "source": [
    "# Report Testing Accuracy w/ optimal number of neighbors \n",
    "# and Euclidean distance measure\n",
    "classifier = KNeighborsClassifier(n_neighbors=4, p=2)\n",
    "classifier = classifier.fit(X_train_val, Y_train_val)\n",
    "test_acc_KNN_1 = classifier.score(X_test, Y_test)\n",
    "\n",
    "# Add to list of testing accuracies for 50/50\n",
    "KNN_5050_testing.append(test_acc_KNN_1)\n",
    "\n",
    "#Report Testing Accuracy\n",
    "print(\"Test Accuracy:\", test_acc_KNN_1)"
   ]
  },
  {
   "cell_type": "code",
   "execution_count": 63,
   "metadata": {},
   "outputs": [
    {
     "name": "stdout",
     "output_type": "stream",
     "text": [
      "(136, 10) (547, 10) (136,) (547,)\n"
     ]
    }
   ],
   "source": [
    "#20/80 Training and Testing Split\n",
    "X_train_val = X[:int(0.2*len(X))] \n",
    "X_test      = X[int(0.2*len(X)):] \n",
    "Y_train_val = Y[:int(0.2*len(Y))] \n",
    "Y_test      = Y[int(0.2*len(Y)):] \n",
    "print(X_train_val.shape, X_test.shape, Y_train_val.shape, Y_test.shape)"
   ]
  },
  {
   "cell_type": "markdown",
   "metadata": {},
   "source": [
    "**SVM with RBF Kernel**"
   ]
  },
  {
   "cell_type": "code",
   "execution_count": 64,
   "metadata": {},
   "outputs": [
    {
     "name": "stdout",
     "output_type": "stream",
     "text": [
      "Best Parameters: {'C': 1, 'gamma': 0.0001, 'kernel': 'rbf'}\n",
      "Validation Accuracy: 0.7352941176470589\n"
     ]
    },
    {
     "name": "stderr",
     "output_type": "stream",
     "text": [
      "/anaconda3/lib/python3.6/site-packages/sklearn/model_selection/_search.py:841: DeprecationWarning: The default of the `iid` parameter will change from True to False in version 0.22 and will be removed in 0.24. This will change numeric results when test-set sizes are unequal.\n",
      "  DeprecationWarning)\n",
      "/anaconda3/lib/python3.6/site-packages/sklearn/utils/deprecation.py:125: FutureWarning: You are accessing a training score ('mean_train_score'), which will not be available by default any more in 0.21. If you need training scores, please set return_train_score=True\n",
      "  warnings.warn(*warn_args, **warn_kwargs)\n"
     ]
    }
   ],
   "source": [
    "#initialize SVM with rbf kernel\n",
    "classifier = svm.SVC(kernel='rbf')\n",
    "C_list     = [0.1, 1, 10, 100] # Different C to try.\n",
    "gamma_list = [1e-7, 1e-6, 1e-5, 1e-4] # Different gamma to try.\n",
    "#create parameter grid to be used in GridSearchCV\n",
    "param_grid = {'C': C_list,\"gamma\": gamma_list,'kernel':['rbf']}\n",
    "\n",
    "#Search for optimal C and Gamma values\n",
    "grid_search = GridSearchCV(classifier, param_grid, scoring='accuracy', cv= 3)\n",
    "grid_search = grid_search.fit(X_train_val, Y_train_val)\n",
    "\n",
    "#print accuracy score and optimal parameter\n",
    "print(\"Best Parameters:\", grid_search.best_params_)\n",
    "\n",
    "#append training accuracy\n",
    "result = grid_search.cv_results_\n",
    "SVM_2080_training_acc = max(result['mean_train_score']) \n",
    "SVM_2080_training.append(SVM_2080_training_acc)\n",
    "\n",
    "#Report Validation Accuracy\n",
    "validation_acc_SVM_1 = grid_search.best_score_\n",
    "SVM_2080_validation.append(validation_acc_SVM_1)\n",
    "print(\"Validation Accuracy:\", grid_search.best_score_)"
   ]
  },
  {
   "cell_type": "code",
   "execution_count": 65,
   "metadata": {},
   "outputs": [
    {
     "name": "stdout",
     "output_type": "stream",
     "text": [
      "Test Accuracy: 0.6288848263254113\n"
     ]
    }
   ],
   "source": [
    "#Report Testing Accuracy for SVM w/ Optimal Hyperparameters\n",
    "classifier = svm.SVC(C = 1,kernel='rbf', gamma=.0001)\n",
    "classifier = classifier.fit(X_train_val, Y_train_val)\n",
    "test_acc_SVM_1 = classifier.score(X_test, Y_test)\n",
    "\n",
    "# Add to list of testing accuracies for 20/80\n",
    "SVM_2080_testing.append(test_acc_SVM_1)\n",
    "\n",
    "# Report Testing Accuracy\n",
    "print('Test Accuracy:',test_acc_SVM_1)"
   ]
  },
  {
   "cell_type": "markdown",
   "metadata": {},
   "source": [
    "**Decision Tree**"
   ]
  },
  {
   "cell_type": "code",
   "execution_count": 66,
   "metadata": {
    "scrolled": true
   },
   "outputs": [
    {
     "name": "stdout",
     "output_type": "stream",
     "text": [
      "Best Parameters: {'max_depth': 5}\n",
      "Validation Accuracy: 0.9191176470588235\n"
     ]
    },
    {
     "name": "stderr",
     "output_type": "stream",
     "text": [
      "/anaconda3/lib/python3.6/site-packages/sklearn/model_selection/_search.py:841: DeprecationWarning: The default of the `iid` parameter will change from True to False in version 0.22 and will be removed in 0.24. This will change numeric results when test-set sizes are unequal.\n",
      "  DeprecationWarning)\n",
      "/anaconda3/lib/python3.6/site-packages/sklearn/utils/deprecation.py:125: FutureWarning: You are accessing a training score ('mean_train_score'), which will not be available by default any more in 0.21. If you need training scores, please set return_train_score=True\n",
      "  warnings.warn(*warn_args, **warn_kwargs)\n"
     ]
    }
   ],
   "source": [
    "#Define Parameters\n",
    "D_list = [1,2,3,4,5]\n",
    "param_grid = {'max_depth': D_list}\n",
    "#create tree classifier using sklearn\n",
    "classifier = tree.DecisionTreeClassifier(criterion=\"entropy\")\n",
    "\n",
    "#Use grid search to find the best D using 5 fold validation \n",
    "grid_search = GridSearchCV(classifier, param_grid, scoring='accuracy', cv= 3)\n",
    "grid_search = grid_search.fit(X_train_val, Y_train_val)\n",
    "\n",
    "#print accuracy score and optimal parameter\n",
    "print(\"Best Parameters:\", grid_search.best_params_)\n",
    "\n",
    "#append training accuracy\n",
    "result = grid_search.cv_results_\n",
    "DT_2080_training_acc = max(result['mean_train_score']) \n",
    "DT_2080_training.append(DT_2080_training_acc)\n",
    "\n",
    "#Report Validation Accuracy\n",
    "validation_acc_DT_1 = grid_search.best_score_\n",
    "DT_2080_validation.append(validation_acc_DT_1)\n",
    "print(\"Validation Accuracy:\", grid_search.best_score_)"
   ]
  },
  {
   "cell_type": "code",
   "execution_count": 67,
   "metadata": {},
   "outputs": [
    {
     "name": "stdout",
     "output_type": "stream",
     "text": [
      "Test Accuracy: 0.9360146252285192\n"
     ]
    }
   ],
   "source": [
    "#Report Testing Accuracy for Decision Tree w/ Optimal Depth\n",
    "classifier = tree.DecisionTreeClassifier(criterion=\"entropy\", max_depth=5)\n",
    "classifier = classifier.fit(X_train_val, Y_train_val)\n",
    "test_acc_DT_1 = classifier.score(X_test, Y_test)\n",
    "\n",
    "# Add to list of testing accuracies for 20/80\n",
    "DT_2080_testing.append(test_acc_DT_1)\n",
    "\n",
    "#Report Testing Accuracy\n",
    "print(\"Test Accuracy:\", test_acc_DT_1)"
   ]
  },
  {
   "cell_type": "markdown",
   "metadata": {},
   "source": [
    "**K Nearest Neighbors**"
   ]
  },
  {
   "cell_type": "code",
   "execution_count": 68,
   "metadata": {
    "scrolled": true
   },
   "outputs": [
    {
     "name": "stdout",
     "output_type": "stream",
     "text": [
      "Best Parameter: {'n_neighbors': 6}\n",
      "Validation Accuracy: 0.6838235294117647\n"
     ]
    },
    {
     "name": "stderr",
     "output_type": "stream",
     "text": [
      "/anaconda3/lib/python3.6/site-packages/sklearn/model_selection/_search.py:841: DeprecationWarning: The default of the `iid` parameter will change from True to False in version 0.22 and will be removed in 0.24. This will change numeric results when test-set sizes are unequal.\n",
      "  DeprecationWarning)\n",
      "/anaconda3/lib/python3.6/site-packages/sklearn/utils/deprecation.py:125: FutureWarning: You are accessing a training score ('mean_train_score'), which will not be available by default any more in 0.21. If you need training scores, please set return_train_score=True\n",
      "  warnings.warn(*warn_args, **warn_kwargs)\n"
     ]
    }
   ],
   "source": [
    "#Initialize KNN classifier using sklearn\n",
    "k_list = [1,2,3,4,5,6]\n",
    "param_grid = {'n_neighbors': k_list}\n",
    "#create KNN classifier using euclidean distance\n",
    "clf = KNeighborsClassifier(p=2)\n",
    "#Use grid search to find optimal K\n",
    "grid_search = GridSearchCV(clf, param_grid, scoring='accuracy', cv= 3)\n",
    "grid_search = grid_search.fit(X_train_val, Y_train_val)\n",
    "\n",
    "#Print Optimal Parameters and Accuracy\n",
    "print(\"Best Parameter:\",  grid_search.best_params_)\n",
    "\n",
    "#append training accuracy\n",
    "result = grid_search.cv_results_\n",
    "KNN_2080_training_acc = max(result['mean_train_score']) \n",
    "KNN_2080_training.append(KNN_2080_training_acc)\n",
    "\n",
    "#Report Validation Accuracy\n",
    "validation_acc_KNN_1 = grid_search.best_score_\n",
    "KNN_2080_validation.append(validation_acc_KNN_1)\n",
    "print(\"Validation Accuracy:\", validation_acc_KNN_1)"
   ]
  },
  {
   "cell_type": "code",
   "execution_count": 69,
   "metadata": {},
   "outputs": [
    {
     "name": "stdout",
     "output_type": "stream",
     "text": [
      "Test Accuracy: 0.6544789762340036\n"
     ]
    }
   ],
   "source": [
    "# Report Testing Accuracy w/ optimal number of neighbors \n",
    "# and Euclidean distance measure\n",
    "classifier = KNeighborsClassifier(n_neighbors=6, p=2)\n",
    "classifier = classifier.fit(X_train_val, Y_train_val)\n",
    "test_acc_KNN_1 = classifier.score(X_test, Y_test)\n",
    "\n",
    "# Add to list of testing accuracies for 20/80\n",
    "KNN_2080_testing.append(test_acc_KNN_1)\n",
    "\n",
    "# Report Testing Accuracy\n",
    "print(\"Test Accuracy:\", test_acc_KNN_1)"
   ]
  },
  {
   "cell_type": "markdown",
   "metadata": {},
   "source": [
    "** Accuracies Over Partitions: Breast Cancer Dataset **"
   ]
  },
  {
   "cell_type": "markdown",
   "metadata": {},
   "source": [
    "**SVM Test, Training, and Validation Accuracies **"
   ]
  },
  {
   "cell_type": "code",
   "execution_count": 70,
   "metadata": {},
   "outputs": [
    {
     "name": "stdout",
     "output_type": "stream",
     "text": [
      "SVM TEST ACCURACIES\n",
      "SVM 80/20 Testing Accuracy: 0.6155717761557178\n",
      "SVM 50/50 Testing Accuracy: 0.6208576998050682\n",
      "SVM 20/80 Testing Accuracy: 0.6416819012797075\n",
      "SVM VALIDATION ACCURACIES\n",
      "SVM 80/20 Validation Accuracy: 0.663003663003663\n",
      "SVM 50/50 Validation Accuracy: 0.667644183773216\n",
      "SVM 20/80 Validation Accuracy: 0.6838235294117647\n",
      "SVM TRAINING ACCURACIES\n",
      "SVM 80/20 Training Accuracy: 1.0\n",
      "SVM 50/50 Training Accuracy: 1.0\n",
      "SVM 20/80 Training Accuracy: 1.0\n"
     ]
    }
   ],
   "source": [
    "# Report SVM test accuracies by partition\n",
    "print(\"SVM TEST ACCURACIES\")\n",
    "SVM_Testing_Accuracy_8020_Breast_Cancer = statistics.mean(SVM_8020_testing)\n",
    "print(\"SVM 80/20 Testing Accuracy:\", SVM_Testing_Accuracy_8020_Breast_Cancer)\n",
    "\n",
    "SVM_Testing_Accuracy_5050_Breast_Cancer = statistics.mean(SVM_5050_testing)\n",
    "print(\"SVM 50/50 Testing Accuracy:\", SVM_Testing_Accuracy_5050_Breast_Cancer)\n",
    "\n",
    "SVM_Testing_Accuracy_2080_Breast_Cancer = statistics.mean(SVM_2080_testing)\n",
    "print(\"SVM 20/80 Testing Accuracy:\", SVM_Testing_Accuracy_2080_Breast_Cancer)\n",
    "\n",
    "print(\"SVM VALIDATION ACCURACIES\")\n",
    "SVM_Validation_Accuracy_8020_Breast_Cancer = statistics.mean(SVM_8020_validation)\n",
    "print(\"SVM 80/20 Validation Accuracy:\", SVM_Validation_Accuracy_8020_Breast_Cancer)\n",
    "\n",
    "SVM_Validation_Accuracy_5050_Breast_Cancer = statistics.mean(SVM_5050_validation)\n",
    "print(\"SVM 50/50 Validation Accuracy:\", SVM_Validation_Accuracy_5050_Breast_Cancer)\n",
    "\n",
    "SVM_Validation_Accuracy_2080_Breast_Cancer = statistics.mean(SVM_2080_validation)\n",
    "print(\"SVM 20/80 Validation Accuracy:\", SVM_Validation_Accuracy_2080_Breast_Cancer)\n",
    "\n",
    "print(\"SVM TRAINING ACCURACIES\")\n",
    "SVM_Training_Accuracy_8020_Breast_Cancer = statistics.mean(SVM_8020_training)\n",
    "print(\"SVM 80/20 Training Accuracy:\", SVM_Training_Accuracy_8020_Breast_Cancer)\n",
    "\n",
    "SVM_Training_Accuracy_5050_Breast_Cancer = statistics.mean(SVM_5050_training)\n",
    "print(\"SVM 50/50 Training Accuracy:\", SVM_Training_Accuracy_5050_Breast_Cancer)\n",
    "\n",
    "SVM_Training_Accuracy_2080_Breast_Cancer = statistics.mean(SVM_2080_training)\n",
    "print(\"SVM 20/80 Training Accuracy:\", SVM_Training_Accuracy_2080_Breast_Cancer)"
   ]
  },
  {
   "cell_type": "markdown",
   "metadata": {},
   "source": [
    "**DT Test, Training, and Validation Accuracies **"
   ]
  },
  {
   "cell_type": "code",
   "execution_count": 71,
   "metadata": {
    "scrolled": true
   },
   "outputs": [
    {
     "name": "stdout",
     "output_type": "stream",
     "text": [
      "DECISION TREE TESTING ACCURACIES\n",
      "DT 80/20 Testing Accuracy: 0.9416058394160584\n",
      "DT 50/50 Testing Accuracy: 0.9463937621832359\n",
      "DT 20/80 Testing Accuracy: 0.9469835466179158\n",
      "DECISION TREE VALIDATION ACCURACIES\n",
      "DT 80/20 Validation Accuracy: 0.9523809523809523\n",
      "DT 50/50 Validation Accuracy: 0.9560117302052786\n",
      "DT 20/80 Validation Accuracy: 0.8995098039215687\n",
      "DECISION TREE TRAINING ACCURACIES\n",
      "DT 80/20 Training Accuracy: 0.9890084386348397\n",
      "DT 50/50 Training Accuracy: 0.9912044550926999\n",
      "DT 20/80 Training Accuracy: 1.0\n"
     ]
    }
   ],
   "source": [
    "#Report Decision Tree accuracies by partition\n",
    "print(\"DECISION TREE TESTING ACCURACIES\")\n",
    "DT_Testing_Accuracy_8020_Breast_Cancer = statistics.mean(DT_8020_testing)\n",
    "print(\"DT 80/20 Testing Accuracy:\", DT_Testing_Accuracy_8020_Breast_Cancer)\n",
    "\n",
    "DT_Testing_Accuracy_5050_Breast_Cancer = statistics.mean(DT_5050_testing)\n",
    "print(\"DT 50/50 Testing Accuracy:\", DT_Testing_Accuracy_5050_Breast_Cancer)\n",
    "\n",
    "DT_Testing_Accuracy_2080_Breast_Cancer = statistics.mean(DT_2080_testing)\n",
    "print(\"DT 20/80 Testing Accuracy:\", DT_Testing_Accuracy_2080_Breast_Cancer)\n",
    "\n",
    "print(\"DECISION TREE VALIDATION ACCURACIES\")\n",
    "DT_Validation_Accuracy_8020_Breast_Cancer = statistics.mean(DT_8020_validation)\n",
    "print(\"DT 80/20 Validation Accuracy:\", DT_Validation_Accuracy_8020_Breast_Cancer)\n",
    "\n",
    "DT_Validation_Accuracy_5050_Breast_Cancer = statistics.mean(DT_5050_validation)\n",
    "print(\"DT 50/50 Validation Accuracy:\", DT_Validation_Accuracy_5050_Breast_Cancer)\n",
    "\n",
    "DT_Validation_Accuracy_2080_Breast_Cancer = statistics.mean(DT_2080_validation)\n",
    "print(\"DT 20/80 Validation Accuracy:\", DT_Validation_Accuracy_2080_Breast_Cancer)\n",
    "\n",
    "print(\"DECISION TREE TRAINING ACCURACIES\")\n",
    "DT_Training_Accuracy_8020_Breast_Cancer = statistics.mean(DT_8020_training)\n",
    "print(\"DT 80/20 Training Accuracy:\", DT_Training_Accuracy_8020_Breast_Cancer)\n",
    "\n",
    "DT_Training_Accuracy_5050_Breast_Cancer = statistics.mean(DT_5050_training)\n",
    "print(\"DT 50/50 Training Accuracy:\", DT_Training_Accuracy_5050_Breast_Cancer)\n",
    "\n",
    "DT_Training_Accuracy_2080_Breast_Cancer = statistics.mean(DT_2080_training)\n",
    "print(\"DT 20/80 Training Accuracy:\", DT_Training_Accuracy_2080_Breast_Cancer)\n"
   ]
  },
  {
   "cell_type": "markdown",
   "metadata": {},
   "source": [
    "**KNN Test, Training, and Validation Accuracies **"
   ]
  },
  {
   "cell_type": "code",
   "execution_count": 72,
   "metadata": {},
   "outputs": [
    {
     "name": "stdout",
     "output_type": "stream",
     "text": [
      "KNN TREE TESTING ACCURACIES\n",
      "KNN 80/20 Testing Accuracy: 0.6326034063260341\n",
      "KNN 50/50 Testing Accuracy: 0.6237816764132553\n",
      "KNN 20/80 Testing Accuracy: 0.6410725167580743\n",
      "KNN TREE VALIDATION ACCURACIES\n",
      "KNN 80/20 Validation Accuracy: 0.6532356532356532\n",
      "KNN 50/50 Validation Accuracy: 0.6744868035190615\n",
      "KNN 20/80 Validation Accuracy: 0.6813725490196079\n",
      "KNN TREE TRAINING ACCURACIES\n",
      "KNN 80/20 Training Accuracy: 1.0\n",
      "KNN 50/50 Training Accuracy: 1.0\n",
      "KNN 20/80 Training Accuracy: 1.0\n"
     ]
    }
   ],
   "source": [
    "#Report KNN accuracies by partition\n",
    "print(\"KNN TREE TESTING ACCURACIES\")\n",
    "KNN_Testing_Accuracy_8020_Breast_Cancer = statistics.mean(KNN_8020_testing)\n",
    "print(\"KNN 80/20 Testing Accuracy:\", KNN_Testing_Accuracy_8020_Breast_Cancer)\n",
    "\n",
    "KNN_Testing_Accuracy_5050_Breast_Cancer = statistics.mean(KNN_5050_testing)\n",
    "print(\"KNN 50/50 Testing Accuracy:\", KNN_Testing_Accuracy_5050_Breast_Cancer)\n",
    "\n",
    "KNN_Testing_Accuracy_2080_Breast_Cancer = statistics.mean(KNN_2080_testing)\n",
    "print(\"KNN 20/80 Testing Accuracy:\", KNN_Testing_Accuracy_2080_Breast_Cancer)\n",
    "\n",
    "print(\"KNN TREE VALIDATION ACCURACIES\")\n",
    "KNN_Accuracy_Validation_8020_Breast_Cancer = statistics.mean(KNN_8020_validation)\n",
    "print(\"KNN 80/20 Validation Accuracy:\", KNN_Accuracy_Validation_8020_Breast_Cancer)\n",
    "\n",
    "KNN_Accuracy_Validation_5050_Breast_Cancer = statistics.mean(KNN_5050_validation)\n",
    "print(\"KNN 50/50 Validation Accuracy:\", KNN_Accuracy_Validation_5050_Breast_Cancer)\n",
    "\n",
    "KNN_Accuracy_Validation_2080_Breast_Cancer = statistics.mean(KNN_2080_validation)\n",
    "print(\"KNN 20/80 Validation Accuracy:\", KNN_Accuracy_Validation_2080_Breast_Cancer)\n",
    "\n",
    "print(\"KNN TREE TRAINING ACCURACIES\")\n",
    "KNN_Accuracy_Training_8020_Breast_Cancer = statistics.mean(KNN_8020_training)\n",
    "print(\"KNN 80/20 Training Accuracy:\", KNN_Accuracy_Training_8020_Breast_Cancer)\n",
    "\n",
    "KNN_Accuracy_Training_5050_Breast_Cancer = statistics.mean(KNN_5050_training)\n",
    "print(\"KNN 50/50 Training Accuracy:\", KNN_Accuracy_Training_5050_Breast_Cancer)\n",
    "\n",
    "KNN_Accuracy_Training_2080_Breast_Cancer = statistics.mean(KNN_2080_training)\n",
    "print(\"KNN 20/80 Training Accuracy:\", KNN_Accuracy_Training_2080_Breast_Cancer)"
   ]
  },
  {
   "cell_type": "markdown",
   "metadata": {},
   "source": [
    "# Heart Disease Dataset"
   ]
  },
  {
   "cell_type": "code",
   "execution_count": null,
   "metadata": {},
   "outputs": [],
   "source": [
    "#Initialize lists for results section\n",
    "SVM_8020_testing = []\n",
    "SVM_5050_testing = []\n",
    "SVM_2080_testing = []\n",
    "\n",
    "DT_8020_testing = []\n",
    "DT_5050_testing = []\n",
    "DT_2080_testing = []\n",
    "\n",
    "KNN_8020_testing = []\n",
    "KNN_5050_testing = []\n",
    "KNN_2080_testing = []\n",
    "\n",
    "SVM_8020_training = []\n",
    "SVM_5050_training = []\n",
    "SVM_2080_training = []\n",
    "\n",
    "DT_8020_training = []\n",
    "DT_5050_training = []\n",
    "DT_2080_training = []\n",
    "\n",
    "KNN_8020_training = []\n",
    "KNN_5050_training = []\n",
    "KNN_2080_training = []\n",
    "\n",
    "SVM_8020_validation = []\n",
    "SVM_5050_validation = []\n",
    "SVM_2080_validation = []\n",
    "\n",
    "DT_8020_validation = []\n",
    "DT_5050_validation = []\n",
    "DT_2080_validation = []\n",
    "\n",
    "KNN_8020_validation = []\n",
    "KNN_5050_validation = []\n",
    "KNN_2080_validation = []"
   ]
  },
  {
   "cell_type": "code",
   "execution_count": null,
   "metadata": {},
   "outputs": [],
   "source": [
    "# 1) Load data.\n",
    "df_heart_disease = pd.read_table('processed.cleveland.data',',',header=None)\n",
    "df_heart_disease.columns = ['Age','Sex','Chest pain','Resting Blood Pressure','Cholesterol','Fasting Blood Sugar','Rest ECG', \\\n",
    "                           'Thalac','Exang','Oldpeak','Slope','Ca','Thal','Diagnosis']\n",
    "#Drop rows with missing data\n",
    "df_heart_disease.replace('?', np.nan, inplace=True)\n",
    "df_heart_disease.dropna(inplace=True)\n",
    "#Replace values 1,2,3,4 in diagnosis to 1 for presence of heart disease\n",
    "df_heart_disease['Diagnosis'].replace([1,2,3,4],1,inplace=True)\n",
    "X_and_Y = df_heart_disease.values # Load data from file.\n",
    "X_and_Y = X_and_Y.astype('float')\n",
    "np.random.shuffle(X_and_Y)   # Shuffle the data.\n",
    "X = X_and_Y[:, 0:-1]         # First column to second last column: Features (numerical values) \n",
    "Y = X_and_Y[:, -1]           # Last column: Labels (0 or 1)\n",
    "print(X.shape, Y.shape)      # Check the shapes."
   ]
  },
  {
   "cell_type": "markdown",
   "metadata": {},
   "source": [
    "**TRIAL 1**"
   ]
  },
  {
   "cell_type": "code",
   "execution_count": null,
   "metadata": {},
   "outputs": [],
   "source": [
    "# 2) SPLIT DATA 80/20\n",
    "X_train_val = X[:int(0.8*len(X))]\n",
    "X[:int(0.8*len(X))] # Get features from train + val set.\n",
    "X_test      = X[int(0.8*len(X)):] # Get features from test set.     \n",
    "Y_train_val = Y[:int(0.8*len(Y))] # Get labels from train + val set.\n",
    "Y_test      = Y[int(0.8*len(Y)):] # Get labels from test set.\n",
    "print(X_train_val.shape, X_test.shape, Y_train_val.shape, Y_test.shape)"
   ]
  },
  {
   "cell_type": "markdown",
   "metadata": {},
   "source": [
    "**SVM with RBF Kernel**"
   ]
  },
  {
   "cell_type": "code",
   "execution_count": null,
   "metadata": {},
   "outputs": [],
   "source": [
    "#initialize SVM with rbf kernel\n",
    "classifier = svm.SVC(kernel='rbf')\n",
    "C_list     = [0.1, 1, 10, 100] # Different C to try.\n",
    "gamma_list = [1e-7, 1e-6, 1e-5, 1e-4] # Different gamma to try.\n",
    "#create parameter grid to be used in GridSearchCV\n",
    "param_grid = {'C': C_list,\"gamma\": gamma_list,'kernel':['rbf']}\n",
    "\n",
    "#Search for optimal C and Gamma values\n",
    "grid_search = GridSearchCV(classifier, param_grid, scoring='accuracy', cv= 3)\n",
    "grid_search = grid_search.fit(X_train_val, Y_train_val)\n",
    "\n",
    "#append training accuracy\n",
    "result = grid_search.cv_results_\n",
    "SVM_8020_training_acc = max(result['mean_train_score']) \n",
    "SVM_8020_training.append(SVM_8020_training_acc)\n",
    "\n",
    "#print accuracy score and optimal parameter\n",
    "print(\"Best Parameters:\", grid_search.best_params_)\n",
    "\n",
    "#Report Validation Accuracy\n",
    "validation_acc_SVM_1 = grid_search.best_score_\n",
    "SVM_8020_validation.append(validation_acc_SVM_1)\n",
    "print(\"Validation Accuracy:\", grid_search.best_score_)"
   ]
  },
  {
   "cell_type": "code",
   "execution_count": null,
   "metadata": {},
   "outputs": [],
   "source": [
    "#Report Testing Accuracy for SVM w/ Optimal Hyperparameters\n",
    "classifier = svm.SVC(C = 100,kernel='rbf', gamma=.0001)\n",
    "classifier = classifier.fit(X_train_val, Y_train_val)\n",
    "test_acc_SVM_1 = classifier.score(X_test, Y_test)\n",
    "\n",
    "# Add to list of testing accuracies for 80/20\n",
    "SVM_8020_testing.append(test_acc_SVM_1)\n",
    "\n",
    "#Report Accuracy\n",
    "print('Test accuracy:',test_acc_SVM_1)"
   ]
  },
  {
   "cell_type": "markdown",
   "metadata": {},
   "source": [
    "**Decision Tree**"
   ]
  },
  {
   "cell_type": "code",
   "execution_count": null,
   "metadata": {},
   "outputs": [],
   "source": [
    "#Define Parameters\n",
    "D_list = [1,2,3,4,5]\n",
    "param_grid = {'max_depth': D_list}\n",
    "#create tree classifier using sklearn\n",
    "classifier = tree.DecisionTreeClassifier(criterion=\"entropy\")\n",
    "#Use grid search to find the best D using 5 fold validation \n",
    "grid_search = GridSearchCV(classifier, param_grid, scoring='accuracy', cv= 3)\n",
    "grid_search = grid_search.fit(X_train_val, Y_train_val)\n",
    "\n",
    "\n",
    "#print accuracy score and optimal parameter\n",
    "print(\"Best Parameters:\", grid_search.best_params_)\n",
    "\n",
    "#append training accuracy\n",
    "result = grid_search.cv_results_\n",
    "DT_8020_training_acc = max(result['mean_train_score']) \n",
    "DT_8020_training.append(DT_8020_training_acc)\n",
    "\n",
    "#Report Validation Accuracy\n",
    "validation_acc_DT_1 = grid_search.best_score_\n",
    "DT_8020_validation.append(validation_acc_DT_1)\n",
    "\n",
    "#Report Validation Accuracy\n",
    "validation_acc_DT_1 = grid_search.best_score_\n",
    "DT_8020_validation.append(validation_acc_DT_1)\n",
    "print(\"Validation Accuracy:\", grid_search.best_score_)"
   ]
  },
  {
   "cell_type": "code",
   "execution_count": null,
   "metadata": {},
   "outputs": [],
   "source": [
    "#Report Testing Accuracy for Decision Tree w/ Optimal Depth\n",
    "classifier = tree.DecisionTreeClassifier(criterion=\"entropy\", max_depth=3)\n",
    "classifier = classifier.fit(X_train_val, Y_train_val)\n",
    "test_acc_DT_1 = classifier.score(X_test, Y_test)\n",
    "\n",
    "# Add to list of testing accuracies for 80/20\n",
    "DT_8020_testing.append(test_acc_DT_1)\n",
    "\n",
    "#Report Accuracy\n",
    "print(\"Test accuracy:\", test_acc_DT_1)"
   ]
  },
  {
   "cell_type": "markdown",
   "metadata": {},
   "source": [
    "**K Nearest Neighbors**"
   ]
  },
  {
   "cell_type": "code",
   "execution_count": null,
   "metadata": {},
   "outputs": [],
   "source": [
    "#Initialize KNN classifier using sklearn\n",
    "k_list = [1,2,3,4,5,6]\n",
    "param_grid = {'n_neighbors': k_list}\n",
    "#create KNN classifier using euclidean distance\n",
    "clf = KNeighborsClassifier(p=2)\n",
    "#Use grid search to find optimal K\n",
    "grid_search = GridSearchCV(clf, param_grid, scoring='accuracy', cv= 3)\n",
    "grid_search = grid_search.fit(X_train_val, Y_train_val)\n",
    "\n",
    "#Obtain Training Accuracy from Cross Validation\n",
    "train_acc_array = np.reshape(grid_search.cv_results_[\"mean_train_score\"],(-1,1))\n",
    "\n",
    "#Obtrain Validation Accuracy from Cross Validation\n",
    "val_acc_array = np.reshape(grid_search.cv_results_[\"mean_test_score\"],(-1,1))\n",
    "\n",
    "#append training accuracy\n",
    "result = grid_search.cv_results_\n",
    "KNN_8020_training_acc = max(result['mean_train_score']) \n",
    "KNN_8020_training.append(KNN_8020_training_acc)\n",
    "\n",
    "#Print Optimal Parameters and Accuracy\n",
    "print(\"Best Parameter:\",  grid_search.best_params_)\n",
    "\n",
    "#Report Validation Accuracy\n",
    "validation_acc_KNN_1 = grid_search.best_score_\n",
    "KNN_8020_validation.append(validation_acc_KNN_1)\n",
    "print(\"Validation Accuracy:\", validation_acc_KNN_1)"
   ]
  },
  {
   "cell_type": "code",
   "execution_count": null,
   "metadata": {},
   "outputs": [],
   "source": [
    "# Report Testing Accuracy w/ optimal number of neighbors \n",
    "# and Euclidean distance measure\n",
    "classifier = KNeighborsClassifier(n_neighbors=5, p=2)\n",
    "classifier = classifier.fit(X_train_val, Y_train_val)\n",
    "test_acc_KNN_1 = classifier.score(X_test, Y_test)\n",
    "\n",
    "# Add to list of testing accuracies for 80/20\n",
    "KNN_8020_testing.append(test_acc_KNN_1)\n",
    "\n",
    "# Report Accuracy\n",
    "print(\"Test Accuracy:\", test_acc_KNN_1)"
   ]
  },
  {
   "cell_type": "code",
   "execution_count": null,
   "metadata": {},
   "outputs": [],
   "source": [
    "# 2) SPLIT DATA 50/50\n",
    "X_train_val = X[:int(0.5*len(X))] # Get features from train + val set.\n",
    "X_test      = X[int(0.5*len(X)):] # Get features from test set.     \n",
    "Y_train_val = Y[:int(0.5*len(Y))] # Get labels from train + val set.\n",
    "Y_test      = Y[int(0.5*len(Y)):] # Get labels from test set.\n",
    "print(X_train_val.shape, X_test.shape, Y_train_val.shape, Y_test.shape)"
   ]
  },
  {
   "cell_type": "markdown",
   "metadata": {},
   "source": [
    "**SVM w/ RBF Kernel**"
   ]
  },
  {
   "cell_type": "code",
   "execution_count": null,
   "metadata": {},
   "outputs": [],
   "source": [
    "#initialize SVM with rbf kernel\n",
    "classifier = svm.SVC(kernel='rbf')\n",
    "C_list     = [0.1, 1, 10, 100] # Different C to try.\n",
    "gamma_list = [1e-7, 1e-6, 1e-5, 1e-4] # Different gamma to try.\n",
    "#create parameter grid to be used in GridSearchCV\n",
    "param_grid = {'C': C_list,\"gamma\": gamma_list,'kernel':['rbf']}\n",
    "\n",
    "#Search for optimal C and Gamma values\n",
    "grid_search = GridSearchCV(classifier, param_grid, scoring='accuracy', cv= 3)\n",
    "grid_search = grid_search.fit(X_train_val, Y_train_val)\n",
    "\n",
    "#append training accuracy\n",
    "result = grid_search.cv_results_\n",
    "SVM_5050_training_acc = max(result['mean_train_score']) \n",
    "SVM_5050_training.append(SVM_5050_training_acc)\n",
    "\n",
    "#print accuracy score and optimal parameter\n",
    "print(\"Best Parameters:\", grid_search.best_params_)\n",
    "\n",
    "#Report Validation Accuracy\n",
    "validation_acc_SVM_1 = grid_search.best_score_\n",
    "SVM_5050_validation.append(validation_acc_SVM_1)\n",
    "print(\"Validation Accuracy:\", grid_search.best_score_)\n",
    "\n",
    "#Report Training Accuracy\n",
    "print(\"Training Accuracy:\", SVM_5050_training_acc)"
   ]
  },
  {
   "cell_type": "code",
   "execution_count": null,
   "metadata": {},
   "outputs": [],
   "source": [
    "#Report Testing Accuracy for SVM w/ Optimal Hyperparameters\n",
    "classifier = svm.SVC(C = 100,kernel='rbf', gamma=.0001)\n",
    "classifier = classifier.fit(X_train_val, Y_train_val)\n",
    "test_acc_SVM_1 = classifier.score(X_test, Y_test)\n",
    "\n",
    "# Add to list of testing accuracies for 50/50\n",
    "SVM_5050_testing.append(test_acc_SVM_1)\n",
    "\n",
    "#Report Accuracy\n",
    "print('Test accuracy:',test_acc_SVM_1)"
   ]
  },
  {
   "cell_type": "markdown",
   "metadata": {},
   "source": [
    "**Decision Tree**"
   ]
  },
  {
   "cell_type": "code",
   "execution_count": null,
   "metadata": {},
   "outputs": [],
   "source": [
    "#Define Parameters\n",
    "D_list = [1,2,3,4,5]\n",
    "param_grid = {'max_depth': D_list}\n",
    "#create tree classifier using sklearn\n",
    "classifier = tree.DecisionTreeClassifier(criterion=\"entropy\")\n",
    "#Use grid search to find the best D using 5 fold validation \n",
    "grid_search = GridSearchCV(classifier, param_grid, scoring='accuracy', cv= 3)\n",
    "grid_search = grid_search.fit(X_train_val, Y_train_val)\n",
    "\n",
    "\n",
    "#print accuracy score and optimal parameter\n",
    "print(\"Best Parameters:\", grid_search.best_params_)\n",
    "\n",
    "#append training accuracy\n",
    "result = grid_search.cv_results_\n",
    "DT_5050_training_acc = max(result['mean_train_score']) \n",
    "DT_5050_training.append(DT_5050_training_acc)\n",
    "\n",
    "#Report Validation Accuracy\n",
    "validation_acc_DT_1 = grid_search.best_score_\n",
    "DT_5050_validation.append(validation_acc_DT_1)\n",
    "\n",
    "#Report Validation Accuracy\n",
    "validation_acc_DT_1 = grid_search.best_score_\n",
    "DT_5050_validation.append(validation_acc_DT_1)\n",
    "print(\"Validation Accuracy:\", grid_search.best_score_)"
   ]
  },
  {
   "cell_type": "code",
   "execution_count": null,
   "metadata": {},
   "outputs": [],
   "source": [
    "#Report Testing Accuracy for Decision Tree w/ Optimal Depth\n",
    "classifier = tree.DecisionTreeClassifier(criterion=\"entropy\", max_depth=3)\n",
    "classifier = classifier.fit(X_train_val, Y_train_val)\n",
    "test_acc_DT_1 = classifier.score(X_test, Y_test)\n",
    "\n",
    "# Add to list of testing accuracies for 50/50\n",
    "DT_5050_testing.append(test_acc_DT_1)\n",
    "\n",
    "#Report Accuracy\n",
    "print(\"Test accuracy:\", test_acc_DT_1)"
   ]
  },
  {
   "cell_type": "markdown",
   "metadata": {},
   "source": [
    "**K Nearest Neighbors**"
   ]
  },
  {
   "cell_type": "code",
   "execution_count": null,
   "metadata": {},
   "outputs": [],
   "source": [
    "#Initialize KNN classifier using sklearn\n",
    "k_list = [1,2,3,4,5,6]\n",
    "param_grid = {'n_neighbors': k_list}\n",
    "#create KNN classifier using euclidean distance\n",
    "clf = KNeighborsClassifier(p=2)\n",
    "#Use grid search to find optimal K\n",
    "grid_search = GridSearchCV(clf, param_grid, scoring='accuracy', cv= 3)\n",
    "grid_search = grid_search.fit(X_train_val, Y_train_val)\n",
    "\n",
    "#Obtain Training Accuracy from Cross Validation\n",
    "train_acc_array = np.reshape(grid_search.cv_results_[\"mean_train_score\"],(-1,1))\n",
    "\n",
    "#Obtrain Validation Accuracy from Cross Validation\n",
    "val_acc_array = np.reshape(grid_search.cv_results_[\"mean_test_score\"],(-1,1))\n",
    "\n",
    "#append training accuracy\n",
    "result = grid_search.cv_results_\n",
    "KNN_5050_training_acc = max(result['mean_train_score']) \n",
    "KNN_5050_training.append(KNN_5050_training_acc)\n",
    "\n",
    "#Print Optimal Parameters and Accuracy\n",
    "print(\"Best Parameter:\",  grid_search.best_params_)\n",
    "\n",
    "#Report Validation Accuracy\n",
    "validation_acc_KNN_1 = grid_search.best_score_\n",
    "KNN_5050_validation.append(validation_acc_KNN_1)\n",
    "print(\"Validation Accuracy:\", validation_acc_KNN_1)\n"
   ]
  },
  {
   "cell_type": "code",
   "execution_count": null,
   "metadata": {},
   "outputs": [],
   "source": [
    "# Report Testing Accuracy w/ optimal number of neighbors \n",
    "# and Euclidean distance measure\n",
    "classifier = KNeighborsClassifier(n_neighbors=6, p=2)\n",
    "classifier = classifier.fit(X_train_val, Y_train_val)\n",
    "test_acc_KNN_1 = classifier.score(X_test, Y_test)\n",
    "\n",
    "# Add to list of testing accuracies for 50/50\n",
    "KNN_5050_testing.append(test_acc_KNN_1)\n",
    "\n",
    "# Report Accuracy\n",
    "print(\"Test Accuracy:\", test_acc_KNN_1)"
   ]
  },
  {
   "cell_type": "code",
   "execution_count": null,
   "metadata": {},
   "outputs": [],
   "source": [
    "# 2) SPLIT DATA 20/80\n",
    "X_train_val = X[:int(0.2*len(X))] # Get features from train + val set.\n",
    "X_test      = X[int(0.2*len(X)):] # Get features from test set.     \n",
    "Y_train_val = Y[:int(0.2*len(Y))] # Get labels from train + val set.\n",
    "Y_test      = Y[int(0.2*len(Y)):] # Get labels from test set.\n",
    "print(X_train_val.shape, X_test.shape, Y_train_val.shape, Y_test.shape)"
   ]
  },
  {
   "cell_type": "markdown",
   "metadata": {},
   "source": [
    "**SVM w/ RBF Kernel**"
   ]
  },
  {
   "cell_type": "code",
   "execution_count": null,
   "metadata": {},
   "outputs": [],
   "source": [
    "#initialize SVM with rbf kernel\n",
    "classifier = svm.SVC(kernel='rbf')\n",
    "C_list     = [0.1, 1, 10, 100] # Different C to try.\n",
    "gamma_list = [1e-7, 1e-6, 1e-5, 1e-4] # Different gamma to try.\n",
    "#create parameter grid to be used in GridSearchCV\n",
    "param_grid = {'C': C_list,\"gamma\": gamma_list,'kernel':['rbf']}\n",
    "\n",
    "#Search for optimal C and Gamma values\n",
    "grid_search = GridSearchCV(classifier, param_grid, scoring='accuracy', cv= 3)\n",
    "grid_search = grid_search.fit(X_train_val, Y_train_val)\n",
    "\n",
    "#append training accuracy\n",
    "result = grid_search.cv_results_\n",
    "SVM_2080_training_acc = max(result['mean_train_score']) \n",
    "SVM_2080_training.append(SVM_2080_training_acc)\n",
    "\n",
    "#print accuracy score and optimal parameter\n",
    "print(\"Best Parameters:\", grid_search.best_params_)\n",
    "\n",
    "#Report Validation Accuracy\n",
    "validation_acc_SVM_1 = grid_search.best_score_\n",
    "SVM_2080_validation.append(validation_acc_SVM_1)\n",
    "print(\"Validation Accuracy:\", grid_search.best_score_)\n",
    "\n",
    "#Report Training Accuracy\n",
    "print(\"Training Accuracy:\", SVM_2080_training_acc)"
   ]
  },
  {
   "cell_type": "code",
   "execution_count": null,
   "metadata": {},
   "outputs": [],
   "source": [
    "#Report Testing Accuracy for SVM w/ Optimal Hyperparameters\n",
    "classifier = svm.SVC(C = 100,kernel='rbf', gamma=.0001)\n",
    "classifier = classifier.fit(X_train_val, Y_train_val)\n",
    "test_acc_SVM_1 = classifier.score(X_test, Y_test)\n",
    "\n",
    "# Add to list of testing accuracies for 20/80\n",
    "SVM_2080_testing.append(test_acc_SVM_1)\n",
    "\n",
    "#Report Accuracy\n",
    "print('Test accuracy:',test_acc_SVM_1)"
   ]
  },
  {
   "cell_type": "markdown",
   "metadata": {},
   "source": [
    "**Decision Tree**"
   ]
  },
  {
   "cell_type": "code",
   "execution_count": null,
   "metadata": {},
   "outputs": [],
   "source": [
    "#Define Parameters\n",
    "D_list = [1,2,3,4,5]\n",
    "param_grid = {'max_depth': D_list}\n",
    "#create tree classifier using sklearn\n",
    "classifier = tree.DecisionTreeClassifier(criterion=\"entropy\")\n",
    "#Use grid search to find the best D using 5 fold validation \n",
    "grid_search = GridSearchCV(classifier, param_grid, scoring='accuracy', cv= 3)\n",
    "grid_search = grid_search.fit(X_train_val, Y_train_val)\n",
    "\n",
    "\n",
    "#print accuracy score and optimal parameter\n",
    "print(\"Best Parameters:\", grid_search.best_params_)\n",
    "\n",
    "#append training accuracy\n",
    "result = grid_search.cv_results_\n",
    "DT_5050_training_acc = max(result['mean_train_score']) \n",
    "DT_5050_training.append(DT_2080_training_acc)\n",
    "\n",
    "#Report Validation Accuracy\n",
    "validation_acc_DT_1 = grid_search.best_score_\n",
    "DT_2080_validation.append(validation_acc_DT_1)\n",
    "\n",
    "#Report Validation Accuracy\n",
    "validation_acc_DT_1 = grid_search.best_score_\n",
    "DT_2080_validation.append(validation_acc_DT_1)\n",
    "print(\"Validation Accuracy:\", grid_search.best_score_)"
   ]
  },
  {
   "cell_type": "code",
   "execution_count": null,
   "metadata": {},
   "outputs": [],
   "source": [
    "#Report Testing Accuracy for Decision Tree w/ Optimal Depth\n",
    "classifier = tree.DecisionTreeClassifier(criterion=\"entropy\", max_depth=1)\n",
    "classifier = classifier.fit(X_train_val, Y_train_val)\n",
    "test_acc_DT_1 = classifier.score(X_test, Y_test)\n",
    "\n",
    "# Add to list of testing accuracies for 20/80\n",
    "DT_2080_testing.append(test_acc_DT_1)\n",
    "\n",
    "#Report Accuracy\n",
    "print(\"Test accuracy:\", test_acc_DT_1)"
   ]
  },
  {
   "cell_type": "markdown",
   "metadata": {},
   "source": [
    "**K Nearest Neighbors**"
   ]
  },
  {
   "cell_type": "code",
   "execution_count": null,
   "metadata": {},
   "outputs": [],
   "source": [
    "#Initialize KNN classifier using sklearn\n",
    "k_list = [1,2,3,4,5,6]\n",
    "param_grid = {'n_neighbors': k_list}\n",
    "#create KNN classifier using euclidean distance\n",
    "clf = KNeighborsClassifier(p=2)\n",
    "#Use grid search to find optimal K\n",
    "grid_search = GridSearchCV(clf, param_grid, scoring='accuracy', cv= 3)\n",
    "grid_search = grid_search.fit(X_train_val, Y_train_val)\n",
    "\n",
    "#Obtain Training Accuracy from Cross Validation\n",
    "train_acc_array = np.reshape(grid_search.cv_results_[\"mean_train_score\"],(-1,1))\n",
    "\n",
    "#Obtrain Validation Accuracy from Cross Validation\n",
    "val_acc_array = np.reshape(grid_search.cv_results_[\"mean_test_score\"],(-1,1))\n",
    "\n",
    "#append training accuracy\n",
    "result = grid_search.cv_results_\n",
    "KNN_2080_training_acc = max(result['mean_train_score']) \n",
    "KNN_2080_training.append(KNN_2080_training_acc)\n",
    "\n",
    "#Print Optimal Parameters and Accuracy\n",
    "print(\"Best Parameter:\",  grid_search.best_params_)\n",
    "\n",
    "#Report Validation Accuracy\n",
    "validation_acc_KNN_1 = grid_search.best_score_\n",
    "KNN_2080_validation.append(validation_acc_KNN_1)\n",
    "print(\"Validation Accuracy:\", validation_acc_KNN_1)"
   ]
  },
  {
   "cell_type": "code",
   "execution_count": null,
   "metadata": {},
   "outputs": [],
   "source": [
    "# Report Testing Accuracy w/ optimal number of neighbors \n",
    "# and Euclidean distance measure\n",
    "classifier = KNeighborsClassifier(n_neighbors=3, p=2)\n",
    "classifier = classifier.fit(X_train_val, Y_train_val)\n",
    "test_acc_KNN_1 = classifier.score(X_test, Y_test)\n",
    "\n",
    "# Add to list of testing accuracies for 20/80\n",
    "KNN_2080_testing.append(test_acc_KNN_1)\n",
    "\n",
    "# Report Accuracy\n",
    "print(\"Test Accuracy:\", test_acc_KNN_1)"
   ]
  },
  {
   "cell_type": "markdown",
   "metadata": {},
   "source": [
    "**TRIAL 2**"
   ]
  },
  {
   "cell_type": "code",
   "execution_count": null,
   "metadata": {},
   "outputs": [],
   "source": [
    "#Shuffle Data and Split data for third trial\n",
    "X_and_Y = df_heart_disease.values \n",
    "X_and_Y = X_and_Y.astype('float')\n",
    "np.random.shuffle(X_and_Y)   \n",
    "X = X_and_Y[:, 0:-1]          \n",
    "Y = X_and_Y[:, -1]"
   ]
  },
  {
   "cell_type": "code",
   "execution_count": null,
   "metadata": {},
   "outputs": [],
   "source": [
    "#80/20 Training and Testing Split\n",
    "X_train_val = X[:int(0.8*len(X))] # Get features from train + val set.\n",
    "X_test      = X[int(0.8*len(X)):] # Get features from test set.     \n",
    "Y_train_val = Y[:int(0.8*len(Y))] # Get labels from train + val set.\n",
    "Y_test      = Y[int(0.8*len(Y)):] # Get labels from test set.\n",
    "print(X_train_val.shape, X_test.shape, Y_train_val.shape, Y_test.shape)"
   ]
  },
  {
   "cell_type": "markdown",
   "metadata": {},
   "source": [
    "**SVM w/ RBF Kernel**"
   ]
  },
  {
   "cell_type": "code",
   "execution_count": null,
   "metadata": {
    "scrolled": true
   },
   "outputs": [],
   "source": [
    "#initialize SVM with rbf kernel\n",
    "classifier = svm.SVC(kernel='rbf')\n",
    "C_list     = [0.1, 1, 10, 100] # Different C to try.\n",
    "gamma_list = [1e-7, 1e-6, 1e-5, 1e-4] # Different gamma to try.\n",
    "#create parameter grid to be used in GridSearchCV\n",
    "param_grid = {'C': C_list,\"gamma\": gamma_list,'kernel':['rbf']}\n",
    "\n",
    "#Search for optimal C and Gamma values\n",
    "grid_search = GridSearchCV(classifier, param_grid, scoring='accuracy', cv= 3)\n",
    "grid_search = grid_search.fit(X_train_val, Y_train_val)\n",
    "\n",
    "#append training accuracy\n",
    "result = grid_search.cv_results_\n",
    "SVM_8020_training_acc = max(result['mean_train_score']) \n",
    "SVM_8020_training.append(SVM_8020_training_acc)\n",
    "\n",
    "#print accuracy score and optimal parameter\n",
    "print(\"Best Parameters:\", grid_search.best_params_)\n",
    "\n",
    "#Report Validation Accuracy\n",
    "validation_acc_SVM_1 = grid_search.best_score_\n",
    "SVM_8020_validation.append(validation_acc_SVM_1)\n",
    "print(\"Validation Accuracy:\", grid_search.best_score_)\n",
    "\n",
    "#Report Training Accuracy\n",
    "print(\"Training Accuracy:\", SVM_8020_training_acc)"
   ]
  },
  {
   "cell_type": "code",
   "execution_count": null,
   "metadata": {},
   "outputs": [],
   "source": [
    "#Report Testing Accuracy for SVM w/ Optimal Hyperparameters\n",
    "classifier = svm.SVC(C = 1,kernel='rbf', gamma=.00001)\n",
    "classifier = classifier.fit(X_train_val, Y_train_val)\n",
    "test_acc_SVM_1 = classifier.score(X_test, Y_test)\n",
    "\n",
    "# Add to list of testing accuracies for 80/20\n",
    "SVM_8020_testing.append(test_acc_SVM_1)\n",
    "\n",
    "#Report Accuracy\n",
    "print('Test accuracy:',test_acc_SVM_1)"
   ]
  },
  {
   "cell_type": "markdown",
   "metadata": {},
   "source": [
    "**Decision Tree**"
   ]
  },
  {
   "cell_type": "code",
   "execution_count": null,
   "metadata": {},
   "outputs": [],
   "source": [
    "#Define Parameters\n",
    "D_list = [1,2,3,4,5]\n",
    "param_grid = {'max_depth': D_list}\n",
    "#create tree classifier using sklearn\n",
    "classifier = tree.DecisionTreeClassifier(criterion=\"entropy\")\n",
    "#Use grid search to find the best D using 5 fold validation \n",
    "grid_search = GridSearchCV(classifier, param_grid, scoring='accuracy', cv= 5)\n",
    "grid_search = grid_search.fit(X_train_val, Y_train_val)\n",
    "\n",
    "\n",
    "#print accuracy score and optimal parameter\n",
    "print(\"Best Parameters:\", grid_search.best_params_)\n",
    "\n",
    "#append training accuracy\n",
    "result = grid_search.cv_results_\n",
    "DT_8020_training_acc = max(result['mean_train_score']) \n",
    "DT_8020_training.append(DT_8020_training_acc)\n",
    "\n",
    "#Report Validation Accuracy\n",
    "validation_acc_DT_1 = grid_search.best_score_\n",
    "DT_8020_validation.append(validation_acc_DT_1)\n",
    "\n",
    "#Report Validation Accuracy\n",
    "validation_acc_DT_1 = grid_search.best_score_\n",
    "DT_8020_validation.append(validation_acc_DT_1)\n",
    "print(\"Validation Accuracy:\", grid_search.best_score_)\n"
   ]
  },
  {
   "cell_type": "code",
   "execution_count": null,
   "metadata": {},
   "outputs": [],
   "source": [
    "#Report Testing Accuracy for Decision Tree w/ Optimal Depth\n",
    "classifier = tree.DecisionTreeClassifier(criterion=\"entropy\", max_depth=3)\n",
    "classifier = classifier.fit(X_train_val, Y_train_val)\n",
    "test_acc_DT_1 = classifier.score(X_test, Y_test)\n",
    "\n",
    "# Add to list of testing accuracies for 80/20\n",
    "DT_8020_testing.append(test_acc_DT_1)\n",
    "\n",
    "#Report Accuracy\n",
    "print(\"Test accuracy:\", test_acc_DT_1)"
   ]
  },
  {
   "cell_type": "markdown",
   "metadata": {},
   "source": [
    "**K Nearest Neighbors**"
   ]
  },
  {
   "cell_type": "code",
   "execution_count": null,
   "metadata": {},
   "outputs": [],
   "source": [
    "#Initialize KNN classifier using sklearn\n",
    "k_list = [1,2,3,4,5,6]\n",
    "param_grid = {'n_neighbors': k_list}\n",
    "#create KNN classifier using euclidean distance\n",
    "clf = KNeighborsClassifier(p=2)\n",
    "#Use grid search to find optimal K\n",
    "grid_search = GridSearchCV(clf, param_grid, scoring='accuracy', cv= 5)\n",
    "grid_search = grid_search.fit(X_train_val, Y_train_val)\n",
    "\n",
    "#Obtain Training Accuracy from Cross Validation\n",
    "train_acc_array = np.reshape(grid_search.cv_results_[\"mean_train_score\"],(-1,1))\n",
    "\n",
    "#Obtrain Validation Accuracy from Cross Validation\n",
    "val_acc_array = np.reshape(grid_search.cv_results_[\"mean_test_score\"],(-1,1))\n",
    "\n",
    "#append training accuracy\n",
    "result = grid_search.cv_results_\n",
    "KNN_8020_training_acc = max(result['mean_train_score']) \n",
    "KNN_8020_training.append(KNN_8020_training_acc)\n",
    "\n",
    "#Print Optimal Parameters and Accuracy\n",
    "print(\"Best Parameter:\",  grid_search.best_params_)\n",
    "\n",
    "#Report Validation Accuracy\n",
    "validation_acc_KNN_1 = grid_search.best_score_\n",
    "KNN_8020_validation.append(validation_acc_KNN_1)\n",
    "print(\"Validation Accuracy:\", validation_acc_KNN_1)"
   ]
  },
  {
   "cell_type": "code",
   "execution_count": null,
   "metadata": {},
   "outputs": [],
   "source": [
    "# Report Testing Accuracy w/ optimal number of neighbors \n",
    "# and Euclidean distance measure\n",
    "classifier = KNeighborsClassifier(n_neighbors=4, p=2)\n",
    "classifier = classifier.fit(X_train_val, Y_train_val)\n",
    "test_acc_KNN_1 = classifier.score(X_test, Y_test)\n",
    "\n",
    "# Add to list of testing accuracies for 80/20\n",
    "KNN_8020_testing.append(test_acc_KNN_1)\n",
    "\n",
    "# Report Accuracy\n",
    "print(\"Test Accuracy:\", test_acc_KNN_1)"
   ]
  },
  {
   "cell_type": "code",
   "execution_count": null,
   "metadata": {},
   "outputs": [],
   "source": [
    "#50/50 Training and Testing Split\n",
    "X_train_val = X[:int(0.5*len(X))] # Get features from train + val set.\n",
    "X_test      = X[int(0.5*len(X)):] # Get features from test set.     \n",
    "Y_train_val = Y[:int(0.5*len(Y))] # Get labels from train + val set.\n",
    "Y_test      = Y[int(0.5*len(Y)):] # Get labels from test set.\n",
    "print(X_train_val.shape, X_test.shape, Y_train_val.shape, Y_test.shape)"
   ]
  },
  {
   "cell_type": "markdown",
   "metadata": {},
   "source": [
    "**SVM w/ RBF Kernel**"
   ]
  },
  {
   "cell_type": "code",
   "execution_count": null,
   "metadata": {},
   "outputs": [],
   "source": [
    "#initialize SVM with rbf kernel\n",
    "classifier = svm.SVC(kernel='rbf')\n",
    "C_list     = [0.1, 1, 10, 100] # Different C to try.\n",
    "gamma_list = [1e-7, 1e-6, 1e-5, 1e-4] # Different gamma to try.\n",
    "#create parameter grid to be used in GridSearchCV\n",
    "param_grid = {'C': C_list,\"gamma\": gamma_list,'kernel':['rbf']}\n",
    "\n",
    "#Search for optimal C and Gamma values\n",
    "grid_search = GridSearchCV(classifier, param_grid, scoring='accuracy', cv= 3)\n",
    "grid_search = grid_search.fit(X_train_val, Y_train_val)\n",
    "\n",
    "#append training accuracy\n",
    "result = grid_search.cv_results_\n",
    "SVM_5050_training_acc = max(result['mean_train_score']) \n",
    "SVM_5050_training.append(SVM_5050_training_acc)\n",
    "\n",
    "#print accuracy score and optimal parameter\n",
    "print(\"Best Parameters:\", grid_search.best_params_)\n",
    "\n",
    "#Report Validation Accuracy\n",
    "validation_acc_SVM_1 = grid_search.best_score_\n",
    "SVM_5050_validation.append(validation_acc_SVM_1)\n",
    "print(\"Validation Accuracy:\", grid_search.best_score_)\n",
    "\n",
    "#Report Training Accuracy\n",
    "print(\"Training Accuracy:\", SVM_5050_training_acc)"
   ]
  },
  {
   "cell_type": "code",
   "execution_count": null,
   "metadata": {},
   "outputs": [],
   "source": [
    "#Report Testing Accuracy for SVM w/ Optimal Hyperparameters\n",
    "classifier = svm.SVC(C = 100,kernel='rbf', gamma=.00001)\n",
    "classifier = classifier.fit(X_train_val, Y_train_val)\n",
    "test_acc_SVM_1 = classifier.score(X_test, Y_test)\n",
    "\n",
    "# Add to list of testing accuracies for 50/50\n",
    "SVM_5050_testing.append(test_acc_SVM_1)\n",
    "\n",
    "#Report Accuracy\n",
    "print('Test accuracy:',test_acc_SVM_1)"
   ]
  },
  {
   "cell_type": "markdown",
   "metadata": {},
   "source": [
    "**Decision Tree**"
   ]
  },
  {
   "cell_type": "code",
   "execution_count": null,
   "metadata": {},
   "outputs": [],
   "source": [
    "#Define Parameters\n",
    "D_list = [1,2,3,4,5]\n",
    "param_grid = {'max_depth': D_list}\n",
    "#create tree classifier using sklearn\n",
    "classifier = tree.DecisionTreeClassifier(criterion=\"entropy\")\n",
    "#Use grid search to find the best D using 5 fold validation \n",
    "grid_search = GridSearchCV(classifier, param_grid, scoring='accuracy', cv= 5)\n",
    "grid_search = grid_search.fit(X_train_val, Y_train_val)\n",
    "\n",
    "\n",
    "#print accuracy score and optimal parameter\n",
    "print(\"Best Parameters:\", grid_search.best_params_)\n",
    "\n",
    "#append training accuracy\n",
    "result = grid_search.cv_results_\n",
    "DT_5050_training_acc = max(result['mean_train_score']) \n",
    "DT_5050_training.append(DT_2080_training_acc)\n",
    "\n",
    "#Report Validation Accuracy\n",
    "validation_acc_DT_1 = grid_search.best_score_\n",
    "DT_5050_validation.append(validation_acc_DT_1)\n",
    "\n",
    "#Report Validation Accuracy\n",
    "validation_acc_DT_1 = grid_search.best_score_\n",
    "DT_5050_validation.append(validation_acc_DT_1)\n",
    "print(\"Validation Accuracy:\", grid_search.best_score_)"
   ]
  },
  {
   "cell_type": "code",
   "execution_count": null,
   "metadata": {},
   "outputs": [],
   "source": [
    "#Report Testing Accuracy for Decision Tree w/ Optimal Depth\n",
    "classifier = tree.DecisionTreeClassifier(criterion=\"entropy\", max_depth=5)\n",
    "classifier = classifier.fit(X_train_val, Y_train_val)\n",
    "test_acc_DT_1 = classifier.score(X_test, Y_test)\n",
    "\n",
    "# Add to list of testing accuracies for 20/80\n",
    "DT_5050_testing.append(test_acc_DT_1)\n",
    "\n",
    "#Report Accuracy\n",
    "print(\"Test accuracy:\", test_acc_DT_1)"
   ]
  },
  {
   "cell_type": "markdown",
   "metadata": {},
   "source": [
    "**K Nearest Neighbors**"
   ]
  },
  {
   "cell_type": "code",
   "execution_count": null,
   "metadata": {},
   "outputs": [],
   "source": [
    "#Initialize KNN classifier using sklearn\n",
    "k_list = [1,2,3,4,5,6]\n",
    "param_grid = {'n_neighbors': k_list}\n",
    "#create KNN classifier using euclidean distance\n",
    "clf = KNeighborsClassifier(p=2)\n",
    "#Use grid search to find optimal K\n",
    "grid_search = GridSearchCV(clf, param_grid, scoring='accuracy', cv= 5)\n",
    "grid_search = grid_search.fit(X_train_val, Y_train_val)\n",
    "\n",
    "#Obtain Training Accuracy from Cross Validation\n",
    "train_acc_array = np.reshape(grid_search.cv_results_[\"mean_train_score\"],(-1,1))\n",
    "\n",
    "#Obtrain Validation Accuracy from Cross Validation\n",
    "val_acc_array = np.reshape(grid_search.cv_results_[\"mean_test_score\"],(-1,1))\n",
    "\n",
    "#append training accuracy\n",
    "result = grid_search.cv_results_\n",
    "KNN_5050_training_acc = max(result['mean_train_score']) \n",
    "KNN_5050_training.append(KNN_5050_training_acc)\n",
    "\n",
    "#Print Optimal Parameters and Accuracy\n",
    "print(\"Best Parameter:\",  grid_search.best_params_)\n",
    "\n",
    "#Report Validation Accuracy\n",
    "validation_acc_KNN_1 = grid_search.best_score_\n",
    "KNN_5050_validation.append(validation_acc_KNN_1)\n",
    "print(\"Validation Accuracy:\", validation_acc_KNN_1)"
   ]
  },
  {
   "cell_type": "code",
   "execution_count": null,
   "metadata": {},
   "outputs": [],
   "source": [
    "# Report Testing Accuracy w/ optimal number of neighbors \n",
    "# and Euclidean distance measure\n",
    "classifier = KNeighborsClassifier(n_neighbors=6, p=2)\n",
    "classifier = classifier.fit(X_train_val, Y_train_val)\n",
    "test_acc_KNN_1 = classifier.score(X_test, Y_test)\n",
    "\n",
    "# Add to list of testing accuracies for 50/50\n",
    "KNN_5050_testing.append(test_acc_KNN_1)\n",
    "\n",
    "# Report Accuracy\n",
    "print(\"Test Accuracy:\", test_acc_KNN_1)"
   ]
  },
  {
   "cell_type": "code",
   "execution_count": null,
   "metadata": {},
   "outputs": [],
   "source": [
    "#20/80 Training and Testing Split\n",
    "X_train_val = X[:int(0.2*len(X))] # Get features from train + val set.\n",
    "X_test      = X[int(0.2*len(X)):] # Get features from test set.     \n",
    "Y_train_val = Y[:int(0.2*len(Y))] # Get labels from train + val set.\n",
    "Y_test      = Y[int(0.2*len(Y)):] # Get labels from test set.\n",
    "print(X_train_val.shape, X_test.shape, Y_train_val.shape, Y_test.shape)"
   ]
  },
  {
   "cell_type": "markdown",
   "metadata": {},
   "source": [
    "**SVM w/ RBF Kernel**"
   ]
  },
  {
   "cell_type": "code",
   "execution_count": null,
   "metadata": {
    "scrolled": true
   },
   "outputs": [],
   "source": [
    "#initialize SVM with rbf kernel\n",
    "classifier = svm.SVC(kernel='rbf')\n",
    "C_list     = [0.1, 1, 10, 100] # Different C to try.\n",
    "gamma_list = [1e-7, 1e-6, 1e-5, 1e-4] # Different gamma to try.\n",
    "#create parameter grid to be used in GridSearchCV\n",
    "param_grid = {'C': C_list,\"gamma\": gamma_list,'kernel':['rbf']}\n",
    "\n",
    "#Search for optimal C and Gamma values\n",
    "grid_search = GridSearchCV(classifier, param_grid, scoring='accuracy', cv= 3)\n",
    "grid_search = grid_search.fit(X_train_val, Y_train_val)\n",
    "\n",
    "#append training accuracy\n",
    "result = grid_search.cv_results_\n",
    "SVM_2080_training_acc = max(result['mean_train_score']) \n",
    "SVM_2080_training.append(SVM_2080_training_acc)\n",
    "\n",
    "#print accuracy score and optimal parameter\n",
    "print(\"Best Parameters:\", grid_search.best_params_)\n",
    "\n",
    "#Report Validation Accuracy\n",
    "validation_acc_SVM_1 = grid_search.best_score_\n",
    "SVM_2080_validation.append(validation_acc_SVM_1)\n",
    "print(\"Validation Accuracy:\", grid_search.best_score_)\n",
    "\n",
    "#Report Training Accuracy\n",
    "print(\"Training Accuracy:\", SVM_2080_training_acc)"
   ]
  },
  {
   "cell_type": "code",
   "execution_count": null,
   "metadata": {},
   "outputs": [],
   "source": [
    "#Report Testing Accuracy for SVM w/ Optimal Hyperparameters\n",
    "classifier = svm.SVC(C = 10,kernel='rbf', gamma=.0001)\n",
    "classifier = classifier.fit(X_train_val, Y_train_val)\n",
    "test_acc_SVM_1 = classifier.score(X_test, Y_test)\n",
    "\n",
    "# Add to list of testing accuracies for 20/80\n",
    "SVM_2080_testing.append(test_acc_SVM_1)\n",
    "\n",
    "#Report Accuracy\n",
    "print('Test accuracy:',test_acc_SVM_1)"
   ]
  },
  {
   "cell_type": "markdown",
   "metadata": {},
   "source": [
    "**Decision Tree**"
   ]
  },
  {
   "cell_type": "code",
   "execution_count": null,
   "metadata": {},
   "outputs": [],
   "source": [
    "#Define Parameters\n",
    "D_list = [1,2,3,4,5]\n",
    "param_grid = {'max_depth': D_list}\n",
    "#create tree classifier using sklearn\n",
    "classifier = tree.DecisionTreeClassifier(criterion=\"entropy\")\n",
    "#Use grid search to find the best D using 5 fold validation \n",
    "grid_search = GridSearchCV(classifier, param_grid, scoring='accuracy', cv= 5)\n",
    "grid_search = grid_search.fit(X_train_val, Y_train_val)\n",
    "\n",
    "\n",
    "#print accuracy score and optimal parameter\n",
    "print(\"Best Parameters:\", grid_search.best_params_)\n",
    "\n",
    "#append training accuracy\n",
    "result = grid_search.cv_results_\n",
    "DT_2080_training_acc = max(result['mean_train_score']) \n",
    "DT_2080_training.append(DT_2080_training_acc)\n",
    "\n",
    "#Report Validation Accuracy\n",
    "validation_acc_DT_1 = grid_search.best_score_\n",
    "DT_2080_validation.append(validation_acc_DT_1)\n",
    "\n",
    "#Report Validation Accuracy\n",
    "validation_acc_DT_1 = grid_search.best_score_\n",
    "DT_2080_validation.append(validation_acc_DT_1)\n",
    "print(\"Validation Accuracy:\", grid_search.best_score_)"
   ]
  },
  {
   "cell_type": "code",
   "execution_count": null,
   "metadata": {},
   "outputs": [],
   "source": [
    "#Report Testing Accuracy for Decision Tree w/ Optimal Depth\n",
    "classifier = tree.DecisionTreeClassifier(criterion=\"entropy\", max_depth=5)\n",
    "classifier = classifier.fit(X_train_val, Y_train_val)\n",
    "test_acc_DT_1 = classifier.score(X_test, Y_test)\n",
    "\n",
    "# Add to list of testing accuracies for 20/80\n",
    "DT_2080_testing.append(test_acc_DT_1)\n",
    "\n",
    "#Report Accuracy\n",
    "print(\"Test accuracy:\", test_acc_DT_1)"
   ]
  },
  {
   "cell_type": "markdown",
   "metadata": {},
   "source": [
    "**K Nearest Neighbors**"
   ]
  },
  {
   "cell_type": "code",
   "execution_count": null,
   "metadata": {},
   "outputs": [],
   "source": [
    "#Initialize KNN classifier using sklearn\n",
    "k_list = [1,2,3,4,5,6]\n",
    "param_grid = {'n_neighbors': k_list}\n",
    "#create KNN classifier using euclidean distance\n",
    "clf = KNeighborsClassifier(p=2)\n",
    "#Use grid search to find optimal K\n",
    "grid_search = GridSearchCV(clf, param_grid, scoring='accuracy', cv= 5)\n",
    "grid_search = grid_search.fit(X_train_val, Y_train_val)\n",
    "\n",
    "#Obtain Training Accuracy from Cross Validation\n",
    "train_acc_array = np.reshape(grid_search.cv_results_[\"mean_train_score\"],(-1,1))\n",
    "\n",
    "#Obtrain Validation Accuracy from Cross Validation\n",
    "val_acc_array = np.reshape(grid_search.cv_results_[\"mean_test_score\"],(-1,1))\n",
    "\n",
    "#append training accuracy\n",
    "result = grid_search.cv_results_\n",
    "KNN_2080_training_acc = max(result['mean_train_score']) \n",
    "KNN_2080_training.append(KNN_2080_training_acc)\n",
    "\n",
    "#Print Optimal Parameters and Accuracy\n",
    "print(\"Best Parameter:\",  grid_search.best_params_)\n",
    "\n",
    "#Report Validation Accuracy\n",
    "validation_acc_KNN_1 = grid_search.best_score_\n",
    "KNN_2080_validation.append(validation_acc_KNN_1)\n",
    "print(\"Validation Accuracy:\", validation_acc_KNN_1)"
   ]
  },
  {
   "cell_type": "code",
   "execution_count": null,
   "metadata": {},
   "outputs": [],
   "source": [
    "# Report Testing Accuracy w/ optimal number of neighbors \n",
    "# and Euclidean distance measure\n",
    "classifier = KNeighborsClassifier(n_neighbors=2, p=2)\n",
    "classifier = classifier.fit(X_train_val, Y_train_val)\n",
    "test_acc_KNN_1 = classifier.score(X_test, Y_test)\n",
    "\n",
    "# Add to list of testing accuracies for 20/80\n",
    "KNN_2080_testing.append(test_acc_KNN_1)\n",
    "\n",
    "# Report Accuracy\n",
    "print(\"Test Accuracy:\", test_acc_KNN_1)"
   ]
  },
  {
   "cell_type": "markdown",
   "metadata": {},
   "source": [
    "**TRIAL 3**"
   ]
  },
  {
   "cell_type": "code",
   "execution_count": null,
   "metadata": {},
   "outputs": [],
   "source": [
    "#Shuffle Data and Split data for third trial\n",
    "X_and_Y = df_heart_disease.values \n",
    "X_and_Y = X_and_Y.astype('float')\n",
    "np.random.shuffle(X_and_Y)   \n",
    "X = X_and_Y[:, 0:-1]          \n",
    "Y = X_and_Y[:, -1]"
   ]
  },
  {
   "cell_type": "code",
   "execution_count": null,
   "metadata": {},
   "outputs": [],
   "source": [
    "#80/20 Training and Testing Split\n",
    "X_train_val = X[:int(0.8*len(X))] # Get features from train + val set.\n",
    "X_test      = X[int(0.8*len(X)):] # Get features from test set.     \n",
    "Y_train_val = Y[:int(0.8*len(Y))] # Get labels from train + val set.\n",
    "Y_test      = Y[int(0.8*len(Y)):] # Get labels from test set.\n",
    "print(X_train_val.shape, X_test.shape, Y_train_val.shape, Y_test.shape)"
   ]
  },
  {
   "cell_type": "markdown",
   "metadata": {},
   "source": [
    "**SVM w/ RBF Kernel**"
   ]
  },
  {
   "cell_type": "code",
   "execution_count": null,
   "metadata": {},
   "outputs": [],
   "source": [
    "#initialize SVM with rbf kernel\n",
    "classifier = svm.SVC(kernel='rbf')\n",
    "C_list     = [0.1, 1, 10, 100] # Different C to try.\n",
    "gamma_list = [1e-7, 1e-6, 1e-5, 1e-4] # Different gamma to try.\n",
    "#create parameter grid to be used in GridSearchCV\n",
    "param_grid = {'C': C_list,\"gamma\": gamma_list,'kernel':['rbf']}\n",
    "\n",
    "#Search for optimal C and Gamma values\n",
    "grid_search = GridSearchCV(classifier, param_grid, scoring='accuracy', cv= 3)\n",
    "grid_search = grid_search.fit(X_train_val, Y_train_val)\n",
    "\n",
    "#append training accuracy\n",
    "result = grid_search.cv_results_\n",
    "SVM_8020_training_acc = max(result['mean_train_score']) \n",
    "SVM_8020_training.append(SVM_8020_training_acc)\n",
    "\n",
    "#print accuracy score and optimal parameter\n",
    "print(\"Best Parameters:\", grid_search.best_params_)\n",
    "\n",
    "#Report Validation Accuracy\n",
    "validation_acc_SVM_1 = grid_search.best_score_\n",
    "SVM_8020_validation.append(validation_acc_SVM_1)\n",
    "print(\"Validation Accuracy:\", grid_search.best_score_)\n",
    "\n",
    "#Report Training Accuracy\n",
    "print(\"Training Accuracy:\", SVM_8020_training_acc)"
   ]
  },
  {
   "cell_type": "code",
   "execution_count": null,
   "metadata": {},
   "outputs": [],
   "source": [
    "#Report Testing Accuracy for SVM w/ Optimal Hyperparameters\n",
    "classifier = svm.SVC(C = 100,kernel='rbf', gamma=.001)\n",
    "classifier = classifier.fit(X_train_val, Y_train_val)\n",
    "test_acc_SVM_1 = classifier.score(X_test, Y_test)\n",
    "\n",
    "# Add to list of testing accuracies for 80/20\n",
    "SVM_8020_testing.append(test_acc_SVM_1)\n",
    "\n",
    "#Report Accuracy\n",
    "print('Test accuracy:',test_acc_SVM_1)"
   ]
  },
  {
   "cell_type": "markdown",
   "metadata": {},
   "source": [
    "**Decision Tree**"
   ]
  },
  {
   "cell_type": "code",
   "execution_count": null,
   "metadata": {},
   "outputs": [],
   "source": [
    "#Define Parameters\n",
    "D_list = [1,2,3,4,5]\n",
    "param_grid = {'max_depth': D_list}\n",
    "#create tree classifier using sklearn\n",
    "classifier = tree.DecisionTreeClassifier(criterion=\"entropy\")\n",
    "#Use grid search to find the best D using 5 fold validation \n",
    "grid_search = GridSearchCV(classifier, param_grid, scoring='accuracy', cv= 5)\n",
    "grid_search = grid_search.fit(X_train_val, Y_train_val)\n",
    "\n",
    "\n",
    "#print accuracy score and optimal parameter\n",
    "print(\"Best Parameters:\", grid_search.best_params_)\n",
    "\n",
    "#append training accuracy\n",
    "result = grid_search.cv_results_\n",
    "DT_8020_training_acc = max(result['mean_train_score']) \n",
    "DT_8020_training.append(DT_8020_training_acc)\n",
    "\n",
    "#Report Validation Accuracy\n",
    "validation_acc_DT_1 = grid_search.best_score_\n",
    "DT_8020_validation.append(validation_acc_DT_1)\n",
    "\n",
    "#Report Validation Accuracy\n",
    "validation_acc_DT_1 = grid_search.best_score_\n",
    "DT_8020_validation.append(validation_acc_DT_1)\n",
    "print(\"Validation Accuracy:\", grid_search.best_score_)"
   ]
  },
  {
   "cell_type": "code",
   "execution_count": null,
   "metadata": {},
   "outputs": [],
   "source": [
    "#Report Testing Accuracy for Decision Tree w/ Optimal Depth\n",
    "classifier = tree.DecisionTreeClassifier(criterion=\"entropy\", max_depth=3)\n",
    "classifier = classifier.fit(X_train_val, Y_train_val)\n",
    "test_acc_DT_1 = classifier.score(X_test, Y_test)\n",
    "\n",
    "# Add to list of testing accuracies for 80/20\n",
    "DT_8020_testing.append(test_acc_DT_1)\n",
    "\n",
    "#Report Accuracy\n",
    "print(\"Test accuracy:\", test_acc_DT_1)"
   ]
  },
  {
   "cell_type": "markdown",
   "metadata": {},
   "source": [
    "**K Nearest Neighbors**"
   ]
  },
  {
   "cell_type": "code",
   "execution_count": null,
   "metadata": {},
   "outputs": [],
   "source": [
    "#Initialize KNN classifier using sklearn\n",
    "k_list = [1,2,3,4,5,6]\n",
    "param_grid = {'n_neighbors': k_list}\n",
    "#create KNN classifier using euclidean distance\n",
    "clf = KNeighborsClassifier(p=2)\n",
    "#Use grid search to find optimal K\n",
    "grid_search = GridSearchCV(clf, param_grid, scoring='accuracy', cv= 5)\n",
    "grid_search = grid_search.fit(X_train_val, Y_train_val)\n",
    "\n",
    "#Obtain Training Accuracy from Cross Validation\n",
    "train_acc_array = np.reshape(grid_search.cv_results_[\"mean_train_score\"],(-1,1))\n",
    "\n",
    "#Obtrain Validation Accuracy from Cross Validation\n",
    "val_acc_array = np.reshape(grid_search.cv_results_[\"mean_test_score\"],(-1,1))\n",
    "\n",
    "#append training accuracy\n",
    "result = grid_search.cv_results_\n",
    "KNN_8020_training_acc = max(result['mean_train_score']) \n",
    "KNN_8020_training.append(KNN_8020_training_acc)\n",
    "\n",
    "#Print Optimal Parameters and Accuracy\n",
    "print(\"Best Parameter:\",  grid_search.best_params_)\n",
    "\n",
    "#Report Validation Accuracy\n",
    "validation_acc_KNN_1 = grid_search.best_score_\n",
    "KNN_8020_validation.append(validation_acc_KNN_1)\n",
    "print(\"Validation Accuracy:\", validation_acc_KNN_1)"
   ]
  },
  {
   "cell_type": "code",
   "execution_count": null,
   "metadata": {},
   "outputs": [],
   "source": [
    "# Report Testing Accuracy w/ optimal number of neighbors \n",
    "# and Euclidean distance measure\n",
    "classifier = KNeighborsClassifier(n_neighbors=5, p=2)\n",
    "classifier = classifier.fit(X_train_val, Y_train_val)\n",
    "test_acc_KNN_1 = classifier.score(X_test, Y_test)\n",
    "\n",
    "# Add to list of testing accuracies for 80/20\n",
    "KNN_8020_testing.append(test_acc_KNN_1)\n",
    "\n",
    "# Report Accuracy\n",
    "print(\"Test Accuracy:\", test_acc_KNN_1)"
   ]
  },
  {
   "cell_type": "code",
   "execution_count": null,
   "metadata": {},
   "outputs": [],
   "source": [
    "#50/50 Training and Testing Split\n",
    "X_train_val = X[:int(0.5*len(X))] # Get features from train + val set.\n",
    "X_test      = X[int(0.5*len(X)):] # Get features from test set.     \n",
    "Y_train_val = Y[:int(0.5*len(Y))] # Get labels from train + val set.\n",
    "Y_test      = Y[int(0.5*len(Y)):] # Get labels from test set.\n",
    "print(X_train_val.shape, X_test.shape, Y_train_val.shape, Y_test.shape)"
   ]
  },
  {
   "cell_type": "markdown",
   "metadata": {},
   "source": [
    "**SVM w/ RBF Kernel**"
   ]
  },
  {
   "cell_type": "code",
   "execution_count": null,
   "metadata": {},
   "outputs": [],
   "source": [
    "#initialize SVM with rbf kernel\n",
    "classifier = svm.SVC(kernel='rbf')\n",
    "C_list     = [0.1, 1, 10, 100] # Different C to try.\n",
    "gamma_list = [1e-7, 1e-6, 1e-5, 1e-4] # Different gamma to try.\n",
    "#create parameter grid to be used in GridSearchCV\n",
    "param_grid = {'C': C_list,\"gamma\": gamma_list,'kernel':['rbf']}\n",
    "\n",
    "#Search for optimal C and Gamma values\n",
    "grid_search = GridSearchCV(classifier, param_grid, scoring='accuracy', cv= 3)\n",
    "grid_search = grid_search.fit(X_train_val, Y_train_val)\n",
    "\n",
    "#append training accuracy\n",
    "result = grid_search.cv_results_\n",
    "SVM_5050_training_acc = max(result['mean_train_score']) \n",
    "SVM_5050_training.append(SVM_5050_training_acc)\n",
    "\n",
    "#print accuracy score and optimal parameter\n",
    "print(\"Best Parameters:\", grid_search.best_params_)\n",
    "\n",
    "#Report Validation Accuracy\n",
    "validation_acc_SVM_1 = grid_search.best_score_\n",
    "SVM_5050_validation.append(validation_acc_SVM_1)\n",
    "print(\"Validation Accuracy:\", grid_search.best_score_)\n",
    "\n",
    "#Report Training Accuracy\n",
    "print(\"Training Accuracy:\", SVM_5050_training_acc)"
   ]
  },
  {
   "cell_type": "code",
   "execution_count": null,
   "metadata": {},
   "outputs": [],
   "source": [
    "#Report Testing Accuracy for SVM w/ Optimal Hyperparameters\n",
    "classifier = svm.SVC(C = 100,kernel='rbf', gamma=.0001)\n",
    "classifier = classifier.fit(X_train_val, Y_train_val)\n",
    "test_acc_SVM_1 = classifier.score(X_test, Y_test)\n",
    "\n",
    "# Add to list of testing accuracies for 50/50\n",
    "SVM_5050_testing.append(test_acc_SVM_1)\n",
    "\n",
    "#Report Accuracy\n",
    "print('Test accuracy:',test_acc_SVM_1)"
   ]
  },
  {
   "cell_type": "markdown",
   "metadata": {},
   "source": [
    "**Decision Tree**"
   ]
  },
  {
   "cell_type": "code",
   "execution_count": null,
   "metadata": {},
   "outputs": [],
   "source": [
    "#Define Parameters\n",
    "D_list = [1,2,3,4,5]\n",
    "param_grid = {'max_depth': D_list}\n",
    "#create tree classifier using sklearn\n",
    "classifier = tree.DecisionTreeClassifier(criterion=\"entropy\")\n",
    "#Use grid search to find the best D using 5 fold validation \n",
    "grid_search = GridSearchCV(classifier, param_grid, scoring='accuracy', cv= 5)\n",
    "grid_search = grid_search.fit(X_train_val, Y_train_val)\n",
    "\n",
    "\n",
    "#print accuracy score and optimal parameter\n",
    "print(\"Best Parameters:\", grid_search.best_params_)\n",
    "\n",
    "#append training accuracy\n",
    "result = grid_search.cv_results_\n",
    "DT_5050_training_acc = max(result['mean_train_score']) \n",
    "DT_5050_training.append(DT_2080_training_acc)\n",
    "\n",
    "#Report Validation Accuracy\n",
    "validation_acc_DT_1 = grid_search.best_score_\n",
    "DT_5050_validation.append(validation_acc_DT_1)\n",
    "\n",
    "#Report Validation Accuracy\n",
    "validation_acc_DT_1 = grid_search.best_score_\n",
    "DT_5050_validation.append(validation_acc_DT_1)\n",
    "print(\"Validation Accuracy:\", grid_search.best_score_)"
   ]
  },
  {
   "cell_type": "code",
   "execution_count": null,
   "metadata": {},
   "outputs": [],
   "source": [
    "#Report Testing Accuracy for Decision Tree w/ Optimal Depth\n",
    "classifier = tree.DecisionTreeClassifier(criterion=\"entropy\", max_depth=3)\n",
    "classifier = classifier.fit(X_train_val, Y_train_val)\n",
    "test_acc_DT_1 = classifier.score(X_test, Y_test)\n",
    "\n",
    "# Add to list of testing accuracies for 20/80\n",
    "DT_5050_testing.append(test_acc_DT_1)\n",
    "\n",
    "#Report Accuracy\n",
    "print(\"Test accuracy:\", test_acc_DT_1)"
   ]
  },
  {
   "cell_type": "markdown",
   "metadata": {},
   "source": [
    "**K Nearest Neighbors**"
   ]
  },
  {
   "cell_type": "code",
   "execution_count": null,
   "metadata": {},
   "outputs": [],
   "source": [
    "#Initialize KNN classifier using sklearn\n",
    "k_list = [1,2,3,4,5,6]\n",
    "param_grid = {'n_neighbors': k_list}\n",
    "#create KNN classifier using euclidean distance\n",
    "clf = KNeighborsClassifier(p=2)\n",
    "#Use grid search to find optimal K\n",
    "grid_search = GridSearchCV(clf, param_grid, scoring='accuracy', cv= 5)\n",
    "grid_search = grid_search.fit(X_train_val, Y_train_val)\n",
    "\n",
    "#Obtain Training Accuracy from Cross Validation\n",
    "train_acc_array = np.reshape(grid_search.cv_results_[\"mean_train_score\"],(-1,1))\n",
    "\n",
    "#Obtrain Validation Accuracy from Cross Validation\n",
    "val_acc_array = np.reshape(grid_search.cv_results_[\"mean_test_score\"],(-1,1))\n",
    "\n",
    "#append training accuracy\n",
    "result = grid_search.cv_results_\n",
    "KNN_5050_training_acc = max(result['mean_train_score']) \n",
    "KNN_5050_training.append(KNN_5050_training_acc)\n",
    "\n",
    "#Print Optimal Parameters and Accuracy\n",
    "print(\"Best Parameter:\",  grid_search.best_params_)\n",
    "\n",
    "#Report Validation Accuracy\n",
    "validation_acc_KNN_1 = grid_search.best_score_\n",
    "KNN_5050_validation.append(validation_acc_KNN_1)\n",
    "print(\"Validation Accuracy:\", validation_acc_KNN_1)\n",
    "\n",
    "\n",
    "#Print training accuracy \n",
    "print(\"Training Accuracy:\", )"
   ]
  },
  {
   "cell_type": "code",
   "execution_count": null,
   "metadata": {},
   "outputs": [],
   "source": [
    "# Report Testing Accuracy w/ optimal number of neighbors \n",
    "# and Euclidean distance measure\n",
    "classifier = KNeighborsClassifier(n_neighbors=3, p=2)\n",
    "classifier = classifier.fit(X_train_val, Y_train_val)\n",
    "test_acc_KNN_1 = classifier.score(X_test, Y_test)\n",
    "\n",
    "# Add to list of testing accuracies for 50/50\n",
    "KNN_5050_testing.append(test_acc_KNN_1)\n",
    "\n",
    "# Report Accuracy\n",
    "print(\"Test Accuracy:\", test_acc_KNN_1)"
   ]
  },
  {
   "cell_type": "code",
   "execution_count": null,
   "metadata": {},
   "outputs": [],
   "source": [
    "#20/80 Training and Testing Split\n",
    "X_train_val = X[:int(0.2*len(X))] # Get features from train + val set.\n",
    "X_test      = X[int(0.2*len(X)):] # Get features from test set.     \n",
    "Y_train_val = Y[:int(0.2*len(Y))] # Get labels from train + val set.\n",
    "Y_test      = Y[int(0.2*len(Y)):] # Get labels from test set.\n",
    "print(X_train_val.shape, X_test.shape, Y_train_val.shape, Y_test.shape)"
   ]
  },
  {
   "cell_type": "markdown",
   "metadata": {},
   "source": [
    "**SVM w/ RBF Kernel**"
   ]
  },
  {
   "cell_type": "code",
   "execution_count": null,
   "metadata": {},
   "outputs": [],
   "source": [
    "#initialize SVM with rbf kernel\n",
    "classifier = svm.SVC(kernel='rbf')\n",
    "C_list     = [0.1, 1, 10, 100] # Different C to try.\n",
    "gamma_list = [1e-7, 1e-6, 1e-5, 1e-4] # Different gamma to try.\n",
    "#create parameter grid to be used in GridSearchCV\n",
    "param_grid = {'C': C_list,\"gamma\": gamma_list,'kernel':['rbf']}\n",
    "\n",
    "#Search for optimal C and Gamma values\n",
    "grid_search = GridSearchCV(classifier, param_grid, scoring='accuracy', cv= 3)\n",
    "grid_search = grid_search.fit(X_train_val, Y_train_val)\n",
    "\n",
    "#append training accuracy\n",
    "result = grid_search.cv_results_\n",
    "SVM_2080_training_acc = max(result['mean_train_score']) \n",
    "SVM_2080_training.append(SVM_2080_training_acc)\n",
    "\n",
    "#print accuracy score and optimal parameter\n",
    "print(\"Best Parameters:\", grid_search.best_params_)\n",
    "\n",
    "#Report Validation Accuracy\n",
    "validation_acc_SVM_1 = grid_search.best_score_\n",
    "SVM_2080_validation.append(validation_acc_SVM_1)\n",
    "print(\"Validation Accuracy:\", grid_search.best_score_)\n",
    "\n",
    "#Report Training Accuracy\n",
    "print(\"Training Accuracy:\", SVM_2080_training_acc)"
   ]
  },
  {
   "cell_type": "code",
   "execution_count": null,
   "metadata": {},
   "outputs": [],
   "source": [
    "#Report Testing Accuracy for SVM w/ Optimal Hyperparameters\n",
    "classifier = svm.SVC(C = 1,kernel='rbf', gamma=.0001)\n",
    "classifier = classifier.fit(X_train_val, Y_train_val)\n",
    "test_acc_SVM_1 = classifier.score(X_test, Y_test)\n",
    "\n",
    "# Add to list of testing accuracies for 20/80\n",
    "SVM_2080_testing.append(test_acc_SVM_1)\n",
    "\n",
    "#Report Accuracy\n",
    "print('Test accuracy:',test_acc_SVM_1)"
   ]
  },
  {
   "cell_type": "markdown",
   "metadata": {},
   "source": [
    "**Decision Tree**"
   ]
  },
  {
   "cell_type": "code",
   "execution_count": null,
   "metadata": {},
   "outputs": [],
   "source": [
    "#Define Parameters\n",
    "D_list = [1,2,3,4,5]\n",
    "param_grid = {'max_depth': D_list}\n",
    "#create tree classifier using sklearn\n",
    "classifier = tree.DecisionTreeClassifier(criterion=\"entropy\")\n",
    "#Use grid search to find the best D using 5 fold validation \n",
    "grid_search = GridSearchCV(classifier, param_grid, scoring='accuracy', cv= 5)\n",
    "grid_search = grid_search.fit(X_train_val, Y_train_val)\n",
    "\n",
    "\n",
    "#print accuracy score and optimal parameter\n",
    "print(\"Best Parameters:\", grid_search.best_params_)\n",
    "\n",
    "#append training accuracy\n",
    "result = grid_search.cv_results_\n",
    "DT_2080_training_acc = max(result['mean_train_score']) \n",
    "DT_2080_training.append(DT_2080_training_acc)\n",
    "\n",
    "#Report Validation Accuracy\n",
    "validation_acc_DT_1 = grid_search.best_score_\n",
    "DT_2080_validation.append(validation_acc_DT_1)\n",
    "\n",
    "#Report Validation Accuracy\n",
    "validation_acc_DT_1 = grid_search.best_score_\n",
    "DT_2080_validation.append(validation_acc_DT_1)\n",
    "print(\"Validation Accuracy:\", grid_search.best_score_)"
   ]
  },
  {
   "cell_type": "code",
   "execution_count": null,
   "metadata": {},
   "outputs": [],
   "source": [
    "#Report Testing Accuracy for Decision Tree w/ Optimal Depth\n",
    "classifier = tree.DecisionTreeClassifier(criterion=\"entropy\", max_depth=4)\n",
    "classifier = classifier.fit(X_train_val, Y_train_val)\n",
    "test_acc_DT_1 = classifier.score(X_test, Y_test)\n",
    "\n",
    "# Add to list of testing accuracies for 20/80\n",
    "DT_2080_testing.append(test_acc_DT_1)\n",
    "\n",
    "#Report Accuracy\n",
    "print(\"Test accuracy:\", test_acc_DT_1)"
   ]
  },
  {
   "cell_type": "markdown",
   "metadata": {},
   "source": [
    "**K Nearest Neighbors**"
   ]
  },
  {
   "cell_type": "code",
   "execution_count": null,
   "metadata": {},
   "outputs": [],
   "source": [
    "#Initialize KNN classifier using sklearn\n",
    "k_list = [1,2,3,4,5,6]\n",
    "param_grid = {'n_neighbors': k_list}\n",
    "#create KNN classifier using euclidean distance\n",
    "clf = KNeighborsClassifier(p=2)\n",
    "#Use grid search to find optimal K\n",
    "grid_search = GridSearchCV(clf, param_grid, scoring='accuracy', cv= 5)\n",
    "grid_search = grid_search.fit(X_train_val, Y_train_val)\n",
    "\n",
    "#Obtain Training Accuracy from Cross Validation\n",
    "train_acc_array = np.reshape(grid_search.cv_results_[\"mean_train_score\"],(-1,1))\n",
    "\n",
    "#Obtrain Validation Accuracy from Cross Validation\n",
    "val_acc_array = np.reshape(grid_search.cv_results_[\"mean_test_score\"],(-1,1))\n",
    "\n",
    "#append training accuracy\n",
    "result = grid_search.cv_results_\n",
    "KNN_2080_training_acc = max(result['mean_train_score']) \n",
    "KNN_2080_training.append(KNN_2080_training_acc)\n",
    "\n",
    "#Print Optimal Parameters and Accuracy\n",
    "print(\"Best Parameter:\",  grid_search.best_params_)\n",
    "\n",
    "#Report Validation Accuracy\n",
    "validation_acc_KNN_1 = grid_search.best_score_\n",
    "KNN_2080_validation.append(validation_acc_KNN_1)\n",
    "print(\"Validation Accuracy:\", validation_acc_KNN_1)\n"
   ]
  },
  {
   "cell_type": "code",
   "execution_count": null,
   "metadata": {},
   "outputs": [],
   "source": [
    "# Report Testing Accuracy w/ optimal number of neighbors \n",
    "# and Euclidean distance measure\n",
    "classifier = KNeighborsClassifier(n_neighbors=5, p=2)\n",
    "classifier = classifier.fit(X_train_val, Y_train_val)\n",
    "test_acc_KNN_1 = classifier.score(X_test, Y_test)\n",
    "\n",
    "# Add to list of testing accuracies for 20/80\n",
    "KNN_2080_testing.append(test_acc_KNN_1)\n",
    "\n",
    "# Report Accuracy\n",
    "print(\"Test Accuracy:\", test_acc_KNN_1)"
   ]
  },
  {
   "cell_type": "markdown",
   "metadata": {},
   "source": [
    "** Accuracies Over Partitions: Heart Disease Dataset **"
   ]
  },
  {
   "cell_type": "markdown",
   "metadata": {},
   "source": [
    "**SVM Test, Training, and Validation Accuracies **"
   ]
  },
  {
   "cell_type": "code",
   "execution_count": null,
   "metadata": {},
   "outputs": [],
   "source": [
    "# Report SVM test accuracies by partition\n",
    "print(\"SVM TEST ACCURACIES\")\n",
    "SVM_Testing_Accuracy_8020_heart_disease = statistics.mean(SVM_8020_testing)\n",
    "print(\"SVM 80/20 Testing Accuracy:\", SVM_Testing_Accuracy_8020_heart_disease)\n",
    "\n",
    "SVM_Testing_Accuracy_5050_heart_disease  = statistics.mean(SVM_5050_testing)\n",
    "print(\"SVM 50/50 Testing Accuracy:\", SVM_Testing_Accuracy_8020_heart_disease)\n",
    "\n",
    "SVM_Testing_Accuracy_2080_heart_disease  = statistics.mean(SVM_2080_testing)\n",
    "print(\"SVM 20/80 Testing Accuracy:\", SVM_Testing_Accuracy_8020_heart_disease)\n",
    "\n",
    "print(\"SVM VALIDATION ACCURACIES\")\n",
    "SVM_Validation_Accuracy_8020_heart_disease  = statistics.mean(SVM_8020_validation)\n",
    "print(\"SVM 80/20 Validation Accuracy:\", SVM_Testing_Accuracy_8020_heart_disease)\n",
    "\n",
    "SVM_Validation_Accuracy_5050_heart_disease  = statistics.mean(SVM_5050_validation)\n",
    "print(\"SVM 50/50 Validation Accuracy:\", SVM_Testing_Accuracy_8020_heart_disease)\n",
    "\n",
    "SVM_Validation_Accuracy_2080_heart_disease  = statistics.mean(SVM_2080_validation)\n",
    "print(\"SVM 20/80 Validation Accuracy:\", SVM_Testing_Accuracy_8020_heart_disease)\n",
    "\n",
    "print(\"SVM TRAINING ACCURACIES\")\n",
    "SVM_Training_Accuracy_8020_heart_disease  = statistics.mean(SVM_8020_training)\n",
    "print(\"SVM 80/20 Training Accuracy:\", SVM_Testing_Accuracy_8020_heart_disease)\n",
    "\n",
    "SVM_Training_Accuracy_5050_heart_disease  = statistics.mean(SVM_5050_training)\n",
    "print(\"SVM 50/50 Training Accuracy:\", SVM_Testing_Accuracy_8020_heart_disease)\n",
    "\n",
    "SVM_Training_Accuracy_2080_heart_disease  = statistics.mean(SVM_2080_training)\n",
    "print(\"SVM 20/80 Training Accuracy:\", SVM_Testing_Accuracy_8020_heart_disease)"
   ]
  },
  {
   "cell_type": "markdown",
   "metadata": {},
   "source": [
    "**DT Test, Training, and Validation Accuracies **"
   ]
  },
  {
   "cell_type": "code",
   "execution_count": null,
   "metadata": {},
   "outputs": [],
   "source": [
    "#Report Decision Tree accuracies by partition\n",
    "print(\"DECISION TREE TESTING ACCURACIES\")\n",
    "DT_Testing_Accuracy_8020_heart_disease = statistics.mean(DT_8020_testing)\n",
    "print(\"DT 80/20 Testing Accuracy:\", DT_Testing_Accuracy_8020_heart_disease)\n",
    "\n",
    "DT_Testing_Accuracy_5050_heart_disease = statistics.mean(DT_5050_testing)\n",
    "print(\"DT 50/50 Testing Accuracy:\", DT_Testing_Accuracy_5050_heart_disease)\n",
    "\n",
    "DT_Testing_Accuracy_2080_heart_disease = statistics.mean(DT_2080_testing)\n",
    "print(\"DT 20/80 Testing Accuracy:\", DT_Testing_Accuracy_2080_heart_disease)\n",
    "\n",
    "print(\"DECISION TREE VALIDATION ACCURACIES\")\n",
    "DT_Validation_Accuracy_8020_heart_disease = statistics.mean(DT_8020_validation)\n",
    "print(\"DT 80/20 Validation Accuracy:\", DT_Validation_Accuracy_8020_heart_disease)\n",
    "\n",
    "DT_Validation_Accuracy_5050_heart_disease = statistics.mean(DT_5050_validation)\n",
    "print(\"DT 50/50 Validation Accuracy:\", DT_Validation_Accuracy_5050_heart_disease)\n",
    "\n",
    "DT_Validation_Accuracy_2080_heart_disease = statistics.mean(DT_2080_validation)\n",
    "print(\"DT 20/80 Validation Accuracy:\", DT_Validation_Accuracy_2080_heart_disease)\n",
    "\n",
    "print(\"DECISION TREE TRAINING ACCURACIES\")\n",
    "DT_Training_Accuracy_8020_heart_disease = statistics.mean(DT_8020_training)\n",
    "print(\"DT 80/20 Training Accuracy:\", DT_Training_Accuracy_8020_heart_disease)\n",
    "\n",
    "DT_Training_Accuracy_5050_heart_disease = statistics.mean(DT_5050_training)\n",
    "print(\"DT 50/50 Training Accuracy:\", DT_Training_Accuracy_5050_heart_disease)\n",
    "\n",
    "DT_Training_Accuracy_2080_heart_disease = statistics.mean(DT_2080_training)\n",
    "print(\"DT 20/80 Training Accuracy:\", DT_Training_Accuracy_2080_heart_disease)\n"
   ]
  },
  {
   "cell_type": "markdown",
   "metadata": {},
   "source": [
    "**KNN Test, Training, and Validation Accuracies **"
   ]
  },
  {
   "cell_type": "code",
   "execution_count": null,
   "metadata": {},
   "outputs": [],
   "source": [
    "#Report KNN accuracies by partition\n",
    "print(\"KNN TESTING ACCURACIES\")\n",
    "KNN_Testing_Accuracy_8020_heart_disease = statistics.mean(KNN_8020_testing)\n",
    "print(\"KNN 80/20 Testing Accuracy:\", KNN_Testing_Accuracy_8020_heart_disease)\n",
    "\n",
    "KNN_Testing_Accuracy_5050_heart_disease = statistics.mean(KNN_5050_testing)\n",
    "print(\"KNN 50/50 Testing Accuracy:\", KNN_Testing_Accuracy_5050_heart_disease)\n",
    "\n",
    "KNN_Testing_Accuracy_2080_heart_disease = statistics.mean(KNN_2080_testing)\n",
    "print(\"KNN 20/80 Testing Accuracy:\", KNN_Testing_Accuracy_2080_heart_disease)\n",
    "\n",
    "print(\"KNN VALIDATION ACCURACIES\")\n",
    "KNN_Accuracy_Validation_8020_heart_disease = statistics.mean(KNN_8020_validation)\n",
    "print(\"KNN 80/20 Validation Accuracy:\", KNN_Accuracy_Validation_8020_heart_disease)\n",
    "\n",
    "KNN_Accuracy_Validation_5050_heart_disease = statistics.mean(KNN_5050_validation)\n",
    "print(\"KNN 50/50 Validation Accuracy:\", KNN_Accuracy_Validation_5050_heart_disease)\n",
    "\n",
    "KNN_Accuracy_Validation_2080_heart_disease = statistics.mean(KNN_2080_validation)\n",
    "print(\"KNN 20/80 Validation Accuracy:\", KNN_Accuracy_Validation_2080_heart_disease)\n",
    "\n",
    "print(\"KNN TRAINING ACCURACIES\")\n",
    "KNN_Accuracy_Training_8020_heart_disease = statistics.mean(KNN_8020_training)\n",
    "print(\"KNN 80/20 Training Accuracy:\", KNN_Accuracy_Training_8020_heart_disease)\n",
    "\n",
    "KNN_Accuracy_Training_5050_heart_disease = statistics.mean(KNN_5050_training)\n",
    "print(\"KNN 50/50 Training Accuracy:\", KNN_Accuracy_Training_5050_heart_disease)\n",
    "\n",
    "KNN_Accuracy_Training_2080_heart_disease = statistics.mean(KNN_2080_training)\n",
    "print(\"KNN 20/80 Training Accuracy:\", KNN_Accuracy_Training_2080_heart_disease)"
   ]
  },
  {
   "cell_type": "markdown",
   "metadata": {},
   "source": [
    "## Wine Quality Dataset"
   ]
  },
  {
   "cell_type": "code",
   "execution_count": null,
   "metadata": {},
   "outputs": [],
   "source": [
    "#Load in data\n",
    "df_wine_quality = pd.read_csv('winequality.csv',';',header=None)\n",
    "df_wine_quality.columns = ['fixed acidity','volatile acidity','citric acid','residual sugar','chlorides','free sulfur dioxide', \\\n",
    "                          'total sulfur dioxide','density','ph','sulphates','alcohol','quality']\n",
    "#Drop the first row\n",
    "df_wine_quality = df_wine_quality.iloc[1:]\n",
    "\n",
    "#Adjust labels to fit biary classification\n",
    "df_wine_quality['quality'] = pd.to_numeric(df_wine_quality['quality'],downcast='integer')\n",
    "df_wine_quality['quality'].replace([0,1,2,3,4,5],0,inplace=True)\n",
    "df_wine_quality['quality'].replace([6,7,8,9,10],1,inplace=True)\n",
    "\n",
    "# Load Data\n",
    "X_and_Y = df_wine_quality.values \n",
    "X_and_Y = X_and_Y.astype('float')\n",
    "np.random.shuffle(X_and_Y)   # Shuffle the data.\n",
    "X = X_and_Y[:, 0:-1]         # First column to second last column: Features (numerical values) \n",
    "Y = X_and_Y[:, -1]           # Last column: Labels (0 or 1)\n",
    "print(X.shape, Y.shape)      # Check the shapes."
   ]
  },
  {
   "cell_type": "code",
   "execution_count": null,
   "metadata": {},
   "outputs": [],
   "source": [
    "#Initialize lists for results section\n",
    "SVM_8020_testing = []\n",
    "SVM_5050_testing = []\n",
    "SVM_2080_testing = []\n",
    "\n",
    "DT_8020_testing = []\n",
    "DT_5050_testing = []\n",
    "DT_2080_testing = []\n",
    "\n",
    "KNN_8020_testing = []\n",
    "KNN_5050_testing = []\n",
    "KNN_2080_testing = []\n",
    "\n",
    "SVM_8020_training = []\n",
    "SVM_5050_training = []\n",
    "SVM_2080_training = []\n",
    "\n",
    "DT_8020_training = []\n",
    "DT_5050_training = []\n",
    "DT_2080_training = []\n",
    "\n",
    "KNN_8020_training = []\n",
    "KNN_5050_training = []\n",
    "KNN_2080_training = []\n",
    "\n",
    "SVM_8020_validation = []\n",
    "SVM_5050_validation = []\n",
    "SVM_2080_validation = []\n",
    "\n",
    "DT_8020_validation = []\n",
    "DT_5050_validation = []\n",
    "DT_2080_validation = []\n",
    "\n",
    "KNN_8020_validation = []\n",
    "KNN_5050_validation = []\n",
    "KNN_2080_validation = []"
   ]
  },
  {
   "cell_type": "markdown",
   "metadata": {},
   "source": [
    "**TRIAL 1**"
   ]
  },
  {
   "cell_type": "code",
   "execution_count": null,
   "metadata": {},
   "outputs": [],
   "source": [
    "# 2) SPLIT DATA 80/20\n",
    "X_train_val = X[:int(0.8*len(X))] # Get features from train + val set.\n",
    "X_test      = X[int(0.8*len(X)):] # Get features from test set.     \n",
    "Y_train_val = Y[:int(0.8*len(Y))] # Get labels from train + val set.\n",
    "Y_test      = Y[int(0.8*len(Y)):] # Get labels from test set.\n",
    "print(X_train_val.shape, X_test.shape, Y_train_val.shape, Y_test.shape)"
   ]
  },
  {
   "cell_type": "markdown",
   "metadata": {},
   "source": [
    "**SVM with RBF Kernel**"
   ]
  },
  {
   "cell_type": "code",
   "execution_count": null,
   "metadata": {},
   "outputs": [],
   "source": [
    "#initialize SVM with rbf kernel\n",
    "classifier = svm.SVC(kernel='rbf')\n",
    "C_list     = [0.1, 1, 10, 100] # Different C to try.\n",
    "gamma_list = [1e-7, 1e-6, 1e-5, 1e-4] # Different gamma to try.\n",
    "#create parameter grid to be used in GridSearchCV\n",
    "param_grid = {'C': C_list,\"gamma\": gamma_list,'kernel':['rbf']}\n",
    "\n",
    "#Search for optimal C and Gamma values\n",
    "grid_search = GridSearchCV(classifier, param_grid, scoring='accuracy', cv= 3)\n",
    "grid_search = grid_search.fit(X_train_val, Y_train_val)\n",
    "\n",
    "#append training accuracy\n",
    "result = grid_search.cv_results_\n",
    "SVM_8020_training_acc = max(result['mean_train_score']) \n",
    "SVM_8020_training.append(SVM_8020_training_acc)\n",
    "\n",
    "#print accuracy score and optimal parameter\n",
    "print(\"Best Parameters:\", grid_search.best_params_)\n",
    "\n",
    "#Report Validation Accuracy\n",
    "validation_acc_SVM_1 = grid_search.best_score_\n",
    "SVM_8020_validation.append(validation_acc_SVM_1)\n",
    "print(\"Validation Accuracy:\", grid_search.best_score_)\n",
    "\n",
    "#Report Training Accuracy\n",
    "print(\"Training Accuracy:\", SVM_8020_training_acc)\n",
    "\n",
    "#Report Testing Accuracy for SVM w/ Optimal Hyperparameters\n",
    "classifier = svm.SVC(C = 100,kernel='rbf', gamma=.0001)\n",
    "classifier = classifier.fit(X_train_val, Y_train_val)\n",
    "test_acc_SVM_1 = classifier.score(X_test, Y_test)\n",
    "\n",
    "# Add to list of testing accuracies for 80/20\n",
    "SVM_8020_testing.append(test_acc_SVM_1)\n",
    "\n",
    "#Report Accuracy\n",
    "print('Test accuracy:',test_acc_SVM_1)"
   ]
  },
  {
   "cell_type": "markdown",
   "metadata": {},
   "source": [
    "**Decision Tree**"
   ]
  },
  {
   "cell_type": "code",
   "execution_count": null,
   "metadata": {},
   "outputs": [],
   "source": [
    "#Define Parameters\n",
    "D_list = [1,2,3,4,5]\n",
    "param_grid = {'max_depth': D_list}\n",
    "#create tree classifier using sklearn\n",
    "classifier = tree.DecisionTreeClassifier(criterion=\"entropy\")\n",
    "#Use grid search to find the best D using 5 fold validation \n",
    "grid_search = GridSearchCV(classifier, param_grid, scoring='accuracy', cv= 5)\n",
    "grid_search = grid_search.fit(X_train_val, Y_train_val)\n",
    "\n",
    "\n",
    "#print accuracy score and optimal parameter\n",
    "print(\"Best Parameters:\", grid_search.best_params_)\n",
    "\n",
    "#append training accuracy\n",
    "result = grid_search.cv_results_\n",
    "DT_8020_training_acc = max(result['mean_train_score']) \n",
    "DT_8020_training.append(DT_8020_training_acc)\n",
    "\n",
    "#Report Validation Accuracy\n",
    "validation_acc_DT_1 = grid_search.best_score_\n",
    "DT_8020_validation.append(validation_acc_DT_1)\n",
    "\n",
    "#Report Validation Accuracy\n",
    "validation_acc_DT_1 = grid_search.best_score_\n",
    "DT_8020_validation.append(validation_acc_DT_1)\n",
    "print(\"Validation Accuracy:\", grid_search.best_score_)"
   ]
  },
  {
   "cell_type": "code",
   "execution_count": null,
   "metadata": {},
   "outputs": [],
   "source": [
    "#Report Testing Accuracy for Decision Tree w/ Optimal Depth\n",
    "classifier = tree.DecisionTreeClassifier(criterion=\"entropy\", max_depth=4)\n",
    "classifier = classifier.fit(X_train_val, Y_train_val)\n",
    "test_acc_DT_1 = classifier.score(X_test, Y_test)\n",
    "\n",
    "# Add to list of testing accuracies for 80/20\n",
    "DT_8020_testing.append(test_acc_DT_1)\n",
    "\n",
    "#Report Accuracy\n",
    "print(\"Test accuracy:\", test_acc_DT_1)"
   ]
  },
  {
   "cell_type": "markdown",
   "metadata": {},
   "source": [
    "**K-Nearest Neighbors (KNN)**"
   ]
  },
  {
   "cell_type": "code",
   "execution_count": null,
   "metadata": {},
   "outputs": [],
   "source": [
    "#Initialize KNN classifier using sklearn\n",
    "k_list = [1,2,3,4,5,6]\n",
    "param_grid = {'n_neighbors': k_list}\n",
    "#create KNN classifier using euclidean distance\n",
    "clf = KNeighborsClassifier(p=2)\n",
    "#Use grid search to find optimal K\n",
    "grid_search = GridSearchCV(clf, param_grid, scoring='accuracy', cv= 5)\n",
    "grid_search = grid_search.fit(X_train_val, Y_train_val)\n",
    "\n",
    "#Obtain Training Accuracy from Cross Validation\n",
    "train_acc_array = np.reshape(grid_search.cv_results_[\"mean_train_score\"],(-1,1))\n",
    "\n",
    "#Obtrain Validation Accuracy from Cross Validation\n",
    "val_acc_array = np.reshape(grid_search.cv_results_[\"mean_test_score\"],(-1,1))\n",
    "\n",
    "#append training accuracy\n",
    "result = grid_search.cv_results_\n",
    "KNN_8020_training_acc = max(result['mean_train_score']) \n",
    "KNN_8020_training.append(KNN_8020_training_acc)\n",
    "\n",
    "#Print Optimal Parameters and Accuracy\n",
    "print(\"Best Parameter:\",  grid_search.best_params_)\n",
    "\n",
    "#Report Validation Accuracy\n",
    "validation_acc_KNN_1 = grid_search.best_score_\n",
    "KNN_8020_validation.append(validation_acc_KNN_1)\n",
    "print(\"Validation Accuracy:\", validation_acc_KNN_1)"
   ]
  },
  {
   "cell_type": "code",
   "execution_count": null,
   "metadata": {},
   "outputs": [],
   "source": [
    "# Report Testing Accuracy w/ optimal number of neighbors \n",
    "# and Euclidean distance measure\n",
    "classifier = KNeighborsClassifier(n_neighbors=1, p=2)\n",
    "classifier = classifier.fit(X_train_val, Y_train_val)\n",
    "test_acc_KNN_1 = classifier.score(X_test, Y_test)\n",
    "\n",
    "# Add to list of testing accuracies for 80/20\n",
    "KNN_8020_testing.append(test_acc_KNN_1)\n",
    "\n",
    "# Report Accuracy\n",
    "print(\"Test Accuracy:\", test_acc_KNN_1)"
   ]
  },
  {
   "cell_type": "code",
   "execution_count": null,
   "metadata": {},
   "outputs": [],
   "source": [
    "# 2) SPLIT DATA 50/50\n",
    "X_train_val = X[:int(0.5*len(X))] # Get features from train + val set.\n",
    "X_test      = X[int(0.5*len(X)):] # Get features from test set.     \n",
    "Y_train_val = Y[:int(0.5*len(Y))] # Get labels from train + val set.\n",
    "Y_test      = Y[int(0.5*len(Y)):] # Get labels from test set.\n",
    "print(X_train_val.shape, X_test.shape, Y_train_val.shape, Y_test.shape)"
   ]
  },
  {
   "cell_type": "markdown",
   "metadata": {},
   "source": [
    "**SVM w/ RBF Kernel**"
   ]
  },
  {
   "cell_type": "code",
   "execution_count": null,
   "metadata": {},
   "outputs": [],
   "source": [
    "#initialize SVM with rbf kernel\n",
    "classifier = svm.SVC(kernel='rbf')\n",
    "C_list     = [0.1, 1, 10, 100] # Different C to try.\n",
    "gamma_list = [1e-7, 1e-6, 1e-5, 1e-4] # Different gamma to try.\n",
    "#create parameter grid to be used in GridSearchCV\n",
    "param_grid = {'C': C_list,\"gamma\": gamma_list,'kernel':['rbf']}\n",
    "\n",
    "#Search for optimal C and Gamma values\n",
    "grid_search = GridSearchCV(classifier, param_grid, scoring='accuracy', cv= 3)\n",
    "grid_search = grid_search.fit(X_train_val, Y_train_val)\n",
    "\n",
    "#append training accuracy\n",
    "result = grid_search.cv_results_\n",
    "SVM_5050_training_acc = max(result['mean_train_score']) \n",
    "SVM_5050_training.append(SVM_5050_training_acc)\n",
    "\n",
    "#print accuracy score and optimal parameter\n",
    "print(\"Best Parameters:\", grid_search.best_params_)\n",
    "\n",
    "#Report Validation Accuracy\n",
    "validation_acc_SVM_1 = grid_search.best_score_\n",
    "SVM_5050_validation.append(validation_acc_SVM_1)\n",
    "print(\"Validation Accuracy:\", grid_search.best_score_)\n",
    "\n",
    "#Report Training Accuracy\n",
    "print(\"Training Accuracy:\", SVM_5050_training_acc)"
   ]
  },
  {
   "cell_type": "code",
   "execution_count": null,
   "metadata": {},
   "outputs": [],
   "source": [
    "#Report Testing Accuracy for SVM w/ Optimal Hyperparameters\n",
    "classifier = svm.SVC(C = 100,kernel='rbf', gamma=.0001)\n",
    "classifier = classifier.fit(X_train_val, Y_train_val)\n",
    "test_acc_SVM_1 = classifier.score(X_test, Y_test)\n",
    "\n",
    "# Add to list of testing accuracies for 50/50\n",
    "SVM_5050_testing.append(test_acc_SVM_1)\n",
    "\n",
    "#Report Accuracy\n",
    "print('Test accuracy:',test_acc_SVM_1)"
   ]
  },
  {
   "cell_type": "markdown",
   "metadata": {},
   "source": [
    "**Decision Tree**"
   ]
  },
  {
   "cell_type": "code",
   "execution_count": null,
   "metadata": {
    "scrolled": true
   },
   "outputs": [],
   "source": [
    "#Define Parameters\n",
    "D_list = [1,2,3,4,5]\n",
    "param_grid = {'max_depth': D_list}\n",
    "#create tree classifier using sklearn\n",
    "classifier = tree.DecisionTreeClassifier(criterion=\"entropy\")\n",
    "#Use grid search to find the best D using 5 fold validation \n",
    "grid_search = GridSearchCV(classifier, param_grid, scoring='accuracy', cv= 5)\n",
    "grid_search = grid_search.fit(X_train_val, Y_train_val)\n",
    "\n",
    "\n",
    "#print accuracy score and optimal parameter\n",
    "print(\"Best Parameters:\", grid_search.best_params_)\n",
    "\n",
    "#append training accuracy\n",
    "result = grid_search.cv_results_\n",
    "DT_5050_training_acc = max(result['mean_train_score']) \n",
    "DT_5050_training.append(DT_2080_training_acc)\n",
    "\n",
    "#Report Validation Accuracy\n",
    "validation_acc_DT_1 = grid_search.best_score_\n",
    "DT_5050_validation.append(validation_acc_DT_1)\n",
    "\n",
    "#Report Validation Accuracy\n",
    "validation_acc_DT_1 = grid_search.best_score_\n",
    "DT_5050_validation.append(validation_acc_DT_1)\n",
    "print(\"Validation Accuracy:\", grid_search.best_score_)\n",
    "\n",
    "#Print training accuracy \n",
    "print(\"Training Accuracy:\", )"
   ]
  },
  {
   "cell_type": "code",
   "execution_count": null,
   "metadata": {},
   "outputs": [],
   "source": [
    "#Report Testing Accuracy for Decision Tree w/ Optimal Depth\n",
    "classifier = tree.DecisionTreeClassifier(criterion=\"entropy\", max_depth=5)\n",
    "classifier = classifier.fit(X_train_val, Y_train_val)\n",
    "test_acc_DT_1 = classifier.score(X_test, Y_test)\n",
    "\n",
    "# Add to list of testing accuracies for 20/80\n",
    "DT_5050_testing.append(test_acc_DT_1)\n",
    "\n",
    "#Report Accuracy\n",
    "print(\"Test accuracy:\", test_acc_DT_1)"
   ]
  },
  {
   "cell_type": "markdown",
   "metadata": {},
   "source": [
    "**K Nearest Neighbors**"
   ]
  },
  {
   "cell_type": "code",
   "execution_count": null,
   "metadata": {},
   "outputs": [],
   "source": [
    "#Initialize KNN classifier using sklearn\n",
    "k_list = [1,2,3,4,5,6]\n",
    "param_grid = {'n_neighbors': k_list}\n",
    "#create KNN classifier using euclidean distance\n",
    "clf = KNeighborsClassifier(p=2)\n",
    "#Use grid search to find optimal K\n",
    "grid_search = GridSearchCV(clf, param_grid, scoring='accuracy', cv= 5)\n",
    "grid_search = grid_search.fit(X_train_val, Y_train_val)\n",
    "\n",
    "#Obtain Training Accuracy from Cross Validation\n",
    "train_acc_array = np.reshape(grid_search.cv_results_[\"mean_train_score\"],(-1,1))\n",
    "\n",
    "#Obtrain Validation Accuracy from Cross Validation\n",
    "val_acc_array = np.reshape(grid_search.cv_results_[\"mean_test_score\"],(-1,1))\n",
    "\n",
    "#append training accuracy\n",
    "result = grid_search.cv_results_\n",
    "KNN_5050_training_acc = max(result['mean_train_score']) \n",
    "KNN_5050_training.append(KNN_5050_training_acc)\n",
    "\n",
    "#Print Optimal Parameters and Accuracy\n",
    "print(\"Best Parameter:\",  grid_search.best_params_)\n",
    "\n",
    "#Report Validation Accuracy\n",
    "validation_acc_KNN_1 = grid_search.best_score_\n",
    "KNN_5050_validation.append(validation_acc_KNN_1)\n",
    "print(\"Validation Accuracy:\", validation_acc_KNN_1)"
   ]
  },
  {
   "cell_type": "code",
   "execution_count": null,
   "metadata": {},
   "outputs": [],
   "source": [
    "# Report Testing Accuracy w/ optimal number of neighbors \n",
    "# and Euclidean distance measure\n",
    "classifier = KNeighborsClassifier(n_neighbors=1, p=2)\n",
    "classifier = classifier.fit(X_train_val, Y_train_val)\n",
    "test_acc_KNN_1 = classifier.score(X_test, Y_test)\n",
    "\n",
    "# Add to list of testing accuracies for 50/50\n",
    "KNN_5050_testing.append(test_acc_KNN_1)\n",
    "\n",
    "# Report Accuracy\n",
    "print(\"Test Accuracy:\", test_acc_KNN_1)"
   ]
  },
  {
   "cell_type": "code",
   "execution_count": null,
   "metadata": {},
   "outputs": [],
   "source": [
    "# 2) SPLIT DATA 20/80\n",
    "X_train_val = X[:int(0.2*len(X))] # Get features from train + val set.\n",
    "X_test      = X[int(0.2*len(X)):] # Get features from test set.     \n",
    "Y_train_val = Y[:int(0.2*len(Y))] # Get labels from train + val set.\n",
    "Y_test      = Y[int(0.2*len(Y)):] # Get labels from test set.\n",
    "print(X_train_val.shape, X_test.shape, Y_train_val.shape, Y_test.shape)"
   ]
  },
  {
   "cell_type": "markdown",
   "metadata": {},
   "source": [
    "**SVM w/ RBF Kernel**"
   ]
  },
  {
   "cell_type": "code",
   "execution_count": null,
   "metadata": {},
   "outputs": [],
   "source": [
    "#initialize SVM with rbf kernel\n",
    "classifier = svm.SVC(kernel='rbf')\n",
    "C_list     = [0.1, 1, 10, 100] # Different C to try.\n",
    "gamma_list = [1e-7, 1e-6, 1e-5, 1e-4] # Different gamma to try.\n",
    "#create parameter grid to be used in GridSearchCV\n",
    "param_grid = {'C': C_list,\"gamma\": gamma_list,'kernel':['rbf']}\n",
    "\n",
    "#Search for optimal C and Gamma values\n",
    "grid_search = GridSearchCV(classifier, param_grid, scoring='accuracy', cv= 3)\n",
    "grid_search = grid_search.fit(X_train_val, Y_train_val)\n",
    "\n",
    "#append training accuracy\n",
    "result = grid_search.cv_results_\n",
    "SVM_2080_training_acc = max(result['mean_train_score']) \n",
    "SVM_2080_training.append(SVM_2080_training_acc)\n",
    "\n",
    "#print accuracy score and optimal parameter\n",
    "print(\"Best Parameters:\", grid_search.best_params_)\n",
    "\n",
    "#Report Validation Accuracy\n",
    "validation_acc_SVM_1 = grid_search.best_score_\n",
    "SVM_2080_validation.append(validation_acc_SVM_1)\n",
    "print(\"Validation Accuracy:\", grid_search.best_score_)\n",
    "\n",
    "#Report Training Accuracy\n",
    "print(\"Training Accuracy:\", SVM_2080_training_acc)"
   ]
  },
  {
   "cell_type": "code",
   "execution_count": null,
   "metadata": {},
   "outputs": [],
   "source": [
    "#Report Testing Accuracy for SVM w/ Optimal Hyperparameters\n",
    "classifier = svm.SVC(C = 100,kernel='rbf', gamma=.001)\n",
    "classifier = classifier.fit(X_train_val, Y_train_val)\n",
    "test_acc_SVM_1 = classifier.score(X_test, Y_test)\n",
    "\n",
    "# Add to list of testing accuracies for 20/80\n",
    "SVM_2080_testing.append(test_acc_SVM_1)\n",
    "\n",
    "#Report Accuracy\n",
    "print('Test accuracy:',test_acc_SVM_1)"
   ]
  },
  {
   "cell_type": "markdown",
   "metadata": {},
   "source": [
    "**Decision Tree**"
   ]
  },
  {
   "cell_type": "code",
   "execution_count": null,
   "metadata": {},
   "outputs": [],
   "source": [
    "#Define Parameters\n",
    "D_list = [1,2,3,4,5]\n",
    "param_grid = {'max_depth': D_list}\n",
    "#create tree classifier using sklearn\n",
    "classifier = tree.DecisionTreeClassifier(criterion=\"entropy\")\n",
    "#Use grid search to find the best D using 5 fold validation \n",
    "grid_search = GridSearchCV(classifier, param_grid, scoring='accuracy', cv= 5)\n",
    "grid_search = grid_search.fit(X_train_val, Y_train_val)\n",
    "\n",
    "#print accuracy score and optimal parameter\n",
    "print(\"Best Parameters:\", grid_search.best_params_)\n",
    "\n",
    "#append training accuracy\n",
    "result = grid_search.cv_results_\n",
    "DT_2080_training_acc = max(result['mean_train_score']) \n",
    "DT_2080_training.append(DT_2080_training_acc)\n",
    "\n",
    "#Report Validation Accuracy\n",
    "validation_acc_DT_1 = grid_search.best_score_\n",
    "DT_2080_validation.append(validation_acc_DT_1)\n",
    "\n",
    "#Report Validation Accuracy\n",
    "validation_acc_DT_1 = grid_search.best_score_\n",
    "DT_2080_validation.append(validation_acc_DT_1)\n",
    "print(\"Validation Accuracy:\", grid_search.best_score_)"
   ]
  },
  {
   "cell_type": "code",
   "execution_count": null,
   "metadata": {},
   "outputs": [],
   "source": [
    "#Report Testing Accuracy for Decision Tree w/ Optimal Depth\n",
    "classifier = tree.DecisionTreeClassifier(criterion=\"entropy\", max_depth=3)\n",
    "classifier = classifier.fit(X_train_val, Y_train_val)\n",
    "test_acc_DT_1 = classifier.score(X_test, Y_test)\n",
    "\n",
    "# Add to list of testing accuracies for 20/80\n",
    "DT_2080_testing.append(test_acc_DT_1)\n",
    "\n",
    "#Report Accuracy\n",
    "print(\"Test accuracy:\", test_acc_DT_1)"
   ]
  },
  {
   "cell_type": "markdown",
   "metadata": {},
   "source": [
    "**K Nearest Neighbors**"
   ]
  },
  {
   "cell_type": "code",
   "execution_count": null,
   "metadata": {},
   "outputs": [],
   "source": [
    "#Initialize KNN classifier using sklearn\n",
    "k_list = [1,2,3,4,5,6]\n",
    "param_grid = {'n_neighbors': k_list}\n",
    "#create KNN classifier using euclidean distance\n",
    "clf = KNeighborsClassifier(p=2)\n",
    "#Use grid search to find optimal K\n",
    "grid_search = GridSearchCV(clf, param_grid, scoring='accuracy', cv= 5)\n",
    "grid_search = grid_search.fit(X_train_val, Y_train_val)\n",
    "\n",
    "#Obtain Training Accuracy from Cross Validation\n",
    "train_acc_array = np.reshape(grid_search.cv_results_[\"mean_train_score\"],(-1,1))\n",
    "\n",
    "#Obtrain Validation Accuracy from Cross Validation\n",
    "val_acc_array = np.reshape(grid_search.cv_results_[\"mean_test_score\"],(-1,1))\n",
    "\n",
    "#append training accuracy\n",
    "result = grid_search.cv_results_\n",
    "KNN_2080_training_acc = max(result['mean_train_score']) \n",
    "KNN_2080_training.append(KNN_2080_training_acc)\n",
    "\n",
    "#Print Optimal Parameters and Accuracy\n",
    "print(\"Best Parameter:\",  grid_search.best_params_)\n",
    "\n",
    "#Report Validation Accuracy\n",
    "validation_acc_KNN_1 = grid_search.best_score_\n",
    "KNN_2080_validation.append(validation_acc_KNN_1)\n",
    "print(\"Validation Accuracy:\", validation_acc_KNN_1)"
   ]
  },
  {
   "cell_type": "code",
   "execution_count": null,
   "metadata": {},
   "outputs": [],
   "source": [
    "# Report Testing Accuracy w/ optimal number of neighbors \n",
    "# and Euclidean distance measure\n",
    "classifier = KNeighborsClassifier(n_neighbors=6, p=2)\n",
    "classifier = classifier.fit(X_train_val, Y_train_val)\n",
    "test_acc_KNN_1 = classifier.score(X_test, Y_test)\n",
    "\n",
    "# Add to list of testing accuracies for 20/80\n",
    "KNN_2080_testing.append(test_acc_KNN_1)\n",
    "\n",
    "# Report Accuracy\n",
    "print(\"Test Accuracy:\", test_acc_KNN_1)"
   ]
  },
  {
   "cell_type": "markdown",
   "metadata": {},
   "source": [
    "** TRIAL 2 **"
   ]
  },
  {
   "cell_type": "code",
   "execution_count": null,
   "metadata": {},
   "outputs": [],
   "source": [
    "# Load Data\n",
    "X_and_Y = df_wine_quality.values \n",
    "X_and_Y = X_and_Y.astype('float')\n",
    "np.random.shuffle(X_and_Y)   # Shuffle the data.\n",
    "X = X_and_Y[:, 0:-1]         # First column to second last column: Features (numerical values) \n",
    "Y = X_and_Y[:, -1]           # Last column: Labels (0 or 1)"
   ]
  },
  {
   "cell_type": "code",
   "execution_count": null,
   "metadata": {},
   "outputs": [],
   "source": [
    "# 2) SPLIT DATA 80/20\n",
    "X_train_val = X[:int(0.8*len(X))] # Get features from train + val set.\n",
    "X_test      = X[int(0.8*len(X)):] # Get features from test set.     \n",
    "Y_train_val = Y[:int(0.8*len(Y))] # Get labels from train + val set.\n",
    "Y_test      = Y[int(0.8*len(Y)):] # Get labels from test set.\n",
    "print(X_train_val.shape, X_test.shape, Y_train_val.shape, Y_test.shape)"
   ]
  },
  {
   "cell_type": "markdown",
   "metadata": {},
   "source": [
    "**SVM w/ RBF Kernel**"
   ]
  },
  {
   "cell_type": "code",
   "execution_count": null,
   "metadata": {
    "scrolled": true
   },
   "outputs": [],
   "source": [
    "#initialize SVM with rbf kernel\n",
    "classifier = svm.SVC(kernel='rbf')\n",
    "C_list     = [0.1, 1, 10, 100] # Different C to try.\n",
    "gamma_list = [1e-7, 1e-6, 1e-5, 1e-4] # Different gamma to try.\n",
    "#create parameter grid to be used in GridSearchCV\n",
    "param_grid = {'C': C_list,\"gamma\": gamma_list,'kernel':['rbf']}\n",
    "\n",
    "#Search for optimal C and Gamma values\n",
    "grid_search = GridSearchCV(classifier, param_grid, scoring='accuracy', cv= 3)\n",
    "grid_search = grid_search.fit(X_train_val, Y_train_val)\n",
    "\n",
    "#append training accuracy\n",
    "result = grid_search.cv_results_\n",
    "SVM_8020_training_acc = max(result['mean_train_score']) \n",
    "SVM_8020_training.append(SVM_8020_training_acc)\n",
    "\n",
    "#print accuracy score and optimal parameter\n",
    "print(\"Best Parameters:\", grid_search.best_params_)\n",
    "\n",
    "#Report Validation Accuracy\n",
    "validation_acc_SVM_1 = grid_search.best_score_\n",
    "SVM_8020_validation.append(validation_acc_SVM_1)\n",
    "print(\"Validation Accuracy:\", grid_search.best_score_)\n",
    "\n",
    "#Report Training Accuracy\n",
    "print(\"Training Accuracy:\", SVM_8020_training_acc)"
   ]
  },
  {
   "cell_type": "code",
   "execution_count": null,
   "metadata": {},
   "outputs": [],
   "source": [
    "#Report Testing Accuracy for SVM w/ Optimal Hyperparameters\n",
    "classifier = svm.SVC(C = 100,kernel='rbf', gamma=.0001)\n",
    "classifier = classifier.fit(X_train_val, Y_train_val)\n",
    "test_acc_SVM_1 = classifier.score(X_test, Y_test)\n",
    "\n",
    "# Add to list of testing accuracies for 80/20\n",
    "SVM_8020_testing.append(test_acc_SVM_1)\n",
    "\n",
    "#Report Accuracy\n",
    "print('Test accuracy:',test_acc_SVM_1)"
   ]
  },
  {
   "cell_type": "markdown",
   "metadata": {},
   "source": [
    "**Decision Tree**"
   ]
  },
  {
   "cell_type": "code",
   "execution_count": null,
   "metadata": {
    "scrolled": true
   },
   "outputs": [],
   "source": [
    "#Define Parameters\n",
    "D_list = [1,2,3,4,5]\n",
    "param_grid = {'max_depth': D_list}\n",
    "#create tree classifier using sklearn\n",
    "classifier = tree.DecisionTreeClassifier(criterion=\"entropy\")\n",
    "#Use grid search to find the best D using 5 fold validation \n",
    "grid_search = GridSearchCV(classifier, param_grid, scoring='accuracy', cv= 5)\n",
    "grid_search = grid_search.fit(X_train_val, Y_train_val)\n",
    "\n",
    "#print accuracy score and optimal parameter\n",
    "print(\"Best Parameters:\", grid_search.best_params_)\n",
    "\n",
    "#append training accuracy\n",
    "result = grid_search.cv_results_\n",
    "DT_8020_training_acc = max(result['mean_train_score']) \n",
    "DT_8020_training.append(DT_8020_training_acc)\n",
    "\n",
    "#Report Validation Accuracy\n",
    "validation_acc_DT_1 = grid_search.best_score_\n",
    "DT_8020_validation.append(validation_acc_DT_1)\n",
    "\n",
    "#Report Validation Accuracy\n",
    "validation_acc_DT_1 = grid_search.best_score_\n",
    "DT_8020_validation.append(validation_acc_DT_1)\n",
    "print(\"Validation Accuracy:\", grid_search.best_score_)"
   ]
  },
  {
   "cell_type": "code",
   "execution_count": null,
   "metadata": {},
   "outputs": [],
   "source": [
    "#Report Testing Accuracy for Decision Tree w/ Optimal Depth\n",
    "classifier = tree.DecisionTreeClassifier(criterion=\"entropy\", max_depth=5)\n",
    "classifier = classifier.fit(X_train_val, Y_train_val)\n",
    "test_acc_DT_1 = classifier.score(X_test, Y_test)\n",
    "\n",
    "# Add to list of testing accuracies for 80/20\n",
    "DT_8020_testing.append(test_acc_DT_1)\n",
    "\n",
    "#Report Accuracy\n",
    "print(\"Test accuracy:\", test_acc_DT_1)"
   ]
  },
  {
   "cell_type": "markdown",
   "metadata": {},
   "source": [
    "**K Nearest Neighbors**"
   ]
  },
  {
   "cell_type": "code",
   "execution_count": null,
   "metadata": {
    "scrolled": true
   },
   "outputs": [],
   "source": [
    "#Initialize KNN classifier using sklearn\n",
    "k_list = [1,2,3,4,5,6]\n",
    "param_grid = {'n_neighbors': k_list}\n",
    "#create KNN classifier using euclidean distance\n",
    "clf = KNeighborsClassifier(p=2)\n",
    "#Use grid search to find optimal K\n",
    "grid_search = GridSearchCV(clf, param_grid, scoring='accuracy', cv= 5)\n",
    "grid_search = grid_search.fit(X_train_val, Y_train_val)\n",
    "\n",
    "#Obtain Training Accuracy from Cross Validation\n",
    "train_acc_array = np.reshape(grid_search.cv_results_[\"mean_train_score\"],(-1,1))\n",
    "\n",
    "#Obtrain Validation Accuracy from Cross Validation\n",
    "val_acc_array = np.reshape(grid_search.cv_results_[\"mean_test_score\"],(-1,1))\n",
    "\n",
    "#append training accuracy\n",
    "result = grid_search.cv_results_\n",
    "KNN_8020_training_acc = max(result['mean_train_score']) \n",
    "KNN_8020_training.append(KNN_8020_training_acc)\n",
    "\n",
    "#Print Optimal Parameters and Accuracy\n",
    "print(\"Best Parameter:\",  grid_search.best_params_)\n",
    "\n",
    "#Report Validation Accuracy\n",
    "validation_acc_KNN_1 = grid_search.best_score_\n",
    "KNN_8020_validation.append(validation_acc_KNN_1)\n",
    "print(\"Validation Accuracy:\", validation_acc_KNN_1)"
   ]
  },
  {
   "cell_type": "code",
   "execution_count": null,
   "metadata": {},
   "outputs": [],
   "source": [
    "# Report Testing Accuracy w/ optimal number of neighbors \n",
    "# and Euclidean distance measure\n",
    "classifier = KNeighborsClassifier(n_neighbors=1, p=2)\n",
    "classifier = classifier.fit(X_train_val, Y_train_val)\n",
    "test_acc_KNN_1 = classifier.score(X_test, Y_test)\n",
    "\n",
    "# Add to list of testing accuracies for 80/20\n",
    "KNN_8020_testing.append(test_acc_KNN_1)\n",
    "\n",
    "# Report Accuracy\n",
    "print(\"Test Accuracy:\", test_acc_KNN_1)"
   ]
  },
  {
   "cell_type": "code",
   "execution_count": null,
   "metadata": {},
   "outputs": [],
   "source": [
    "# 2) SPLIT DATA 50/50\n",
    "X_train_val = X[:int(0.5*len(X))] # Get features from train + val set.\n",
    "X_test      = X[int(0.5*len(X)):] # Get features from test set.     \n",
    "Y_train_val = Y[:int(0.5*len(Y))] # Get labels from train + val set.\n",
    "Y_test      = Y[int(0.5*len(Y)):] # Get labels from test set.\n",
    "print(X_train_val.shape, X_test.shape, Y_train_val.shape, Y_test.shape)"
   ]
  },
  {
   "cell_type": "markdown",
   "metadata": {},
   "source": [
    "**SVM w/ RBF Kernel**"
   ]
  },
  {
   "cell_type": "code",
   "execution_count": null,
   "metadata": {},
   "outputs": [],
   "source": [
    "#initialize SVM with rbf kernel\n",
    "classifier = svm.SVC(kernel='rbf')\n",
    "C_list     = [0.1, 1, 10, 100] # Different C to try.\n",
    "gamma_list = [1e-7, 1e-6, 1e-5, 1e-4] # Different gamma to try.\n",
    "#create parameter grid to be used in GridSearchCV\n",
    "param_grid = {'C': C_list,\"gamma\": gamma_list,'kernel':['rbf']}\n",
    "\n",
    "#Search for optimal C and Gamma values\n",
    "grid_search = GridSearchCV(classifier, param_grid, scoring='accuracy', cv= 3)\n",
    "grid_search = grid_search.fit(X_train_val, Y_train_val)\n",
    "\n",
    "#append training accuracy\n",
    "result = grid_search.cv_results_\n",
    "SVM_5050_training_acc = max(result['mean_train_score']) \n",
    "SVM_5050_training.append(SVM_5050_training_acc)\n",
    "\n",
    "#print accuracy score and optimal parameter\n",
    "print(\"Best Parameters:\", grid_search.best_params_)\n",
    "\n",
    "#Report Validation Accuracy\n",
    "validation_acc_SVM_1 = grid_search.best_score_\n",
    "SVM_5050_validation.append(validation_acc_SVM_1)\n",
    "print(\"Validation Accuracy:\", grid_search.best_score_)\n",
    "\n",
    "#Report Training Accuracy\n",
    "print(\"Training Accuracy:\", SVM_5050_training_acc)"
   ]
  },
  {
   "cell_type": "code",
   "execution_count": null,
   "metadata": {},
   "outputs": [],
   "source": [
    "#Report Testing Accuracy for SVM w/ Optimal Hyperparameters\n",
    "classifier = svm.SVC(C = 100,kernel='rbf', gamma=.0001)\n",
    "classifier = classifier.fit(X_train_val, Y_train_val)\n",
    "test_acc_SVM_1 = classifier.score(X_test, Y_test)\n",
    "\n",
    "# Add to list of testing accuracies for 50/50\n",
    "SVM_5050_testing.append(test_acc_SVM_1)\n",
    "\n",
    "#Report Accuracy\n",
    "print('Test accuracy:',test_acc_SVM_1)"
   ]
  },
  {
   "cell_type": "markdown",
   "metadata": {},
   "source": [
    "**Decision Tree**"
   ]
  },
  {
   "cell_type": "code",
   "execution_count": null,
   "metadata": {
    "scrolled": true
   },
   "outputs": [],
   "source": [
    "#Define Parameters\n",
    "D_list = [1,2,3,4,5]\n",
    "param_grid = {'max_depth': D_list}\n",
    "#create tree classifier using sklearn\n",
    "classifier = tree.DecisionTreeClassifier(criterion=\"entropy\")\n",
    "#Use grid search to find the best D using 5 fold validation \n",
    "grid_search = GridSearchCV(classifier, param_grid, scoring='accuracy', cv= 5)\n",
    "grid_search = grid_search.fit(X_train_val, Y_train_val)\n",
    "\n",
    "#print accuracy score and optimal parameter\n",
    "print(\"Best Parameters:\", grid_search.best_params_)\n",
    "\n",
    "#append training accuracy\n",
    "result = grid_search.cv_results_\n",
    "DT_5050_training_acc = max(result['mean_train_score']) \n",
    "DT_5050_training.append(DT_2080_training_acc)\n",
    "\n",
    "#Report Validation Accuracy\n",
    "validation_acc_DT_1 = grid_search.best_score_\n",
    "DT_5050_validation.append(validation_acc_DT_1)\n",
    "\n",
    "#Report Validation Accuracy\n",
    "validation_acc_DT_1 = grid_search.best_score_\n",
    "DT_5050_validation.append(validation_acc_DT_1)\n",
    "print(\"Validation Accuracy:\", grid_search.best_score_)"
   ]
  },
  {
   "cell_type": "code",
   "execution_count": null,
   "metadata": {},
   "outputs": [],
   "source": [
    "#Report Testing Accuracy for Decision Tree w/ Optimal Depth\n",
    "classifier = tree.DecisionTreeClassifier(criterion=\"entropy\", max_depth=4)\n",
    "classifier = classifier.fit(X_train_val, Y_train_val)\n",
    "test_acc_DT_1 = classifier.score(X_test, Y_test)\n",
    "\n",
    "# Add to list of testing accuracies for 20/80\n",
    "DT_5050_testing.append(test_acc_DT_1)\n",
    "\n",
    "#Report Accuracy\n",
    "print(\"Test accuracy:\", test_acc_DT_1)"
   ]
  },
  {
   "cell_type": "markdown",
   "metadata": {},
   "source": [
    "**K Nearest Neighbors**"
   ]
  },
  {
   "cell_type": "code",
   "execution_count": null,
   "metadata": {},
   "outputs": [],
   "source": [
    "#Initialize KNN classifier using sklearn\n",
    "k_list = [1,2,3,4,5,6]\n",
    "param_grid = {'n_neighbors': k_list}\n",
    "#create KNN classifier using euclidean distance\n",
    "clf = KNeighborsClassifier(p=2)\n",
    "#Use grid search to find optimal K\n",
    "grid_search = GridSearchCV(clf, param_grid, scoring='accuracy', cv= 5)\n",
    "grid_search = grid_search.fit(X_train_val, Y_train_val)\n",
    "\n",
    "#Obtain Training Accuracy from Cross Validation\n",
    "train_acc_array = np.reshape(grid_search.cv_results_[\"mean_train_score\"],(-1,1))\n",
    "\n",
    "#Obtrain Validation Accuracy from Cross Validation\n",
    "val_acc_array = np.reshape(grid_search.cv_results_[\"mean_test_score\"],(-1,1))\n",
    "\n",
    "#append training accuracy\n",
    "result = grid_search.cv_results_\n",
    "KNN_5050_training_acc = max(result['mean_train_score']) \n",
    "KNN_5050_training.append(KNN_5050_training_acc)\n",
    "\n",
    "#Print Optimal Parameters and Accuracy\n",
    "print(\"Best Parameter:\",  grid_search.best_params_)\n",
    "\n",
    "#Report Validation Accuracy\n",
    "validation_acc_KNN_1 = grid_search.best_score_\n",
    "KNN_5050_validation.append(validation_acc_KNN_1)\n",
    "print(\"Validation Accuracy:\", validation_acc_KNN_1)"
   ]
  },
  {
   "cell_type": "code",
   "execution_count": null,
   "metadata": {},
   "outputs": [],
   "source": [
    "# Report Testing Accuracy w/ optimal number of neighbors \n",
    "# and Euclidean distance measure\n",
    "classifier = KNeighborsClassifier(n_neighbors=1, p=2)\n",
    "classifier = classifier.fit(X_train_val, Y_train_val)\n",
    "test_acc_KNN_1 = classifier.score(X_test, Y_test)\n",
    "\n",
    "# Add to list of testing accuracies for 50/50\n",
    "KNN_5050_testing.append(test_acc_KNN_1)\n",
    "\n",
    "# Report Accuracy\n",
    "print(\"Test Accuracy:\", test_acc_KNN_1)"
   ]
  },
  {
   "cell_type": "code",
   "execution_count": null,
   "metadata": {},
   "outputs": [],
   "source": [
    "# 2) SPLIT DATA 20/80\n",
    "X_train_val = X[:int(0.2*len(X))] # Get features from train + val set.\n",
    "X_test      = X[int(0.2*len(X)):] # Get features from test set.     \n",
    "Y_train_val = Y[:int(0.2*len(Y))] # Get labels from train + val set.\n",
    "Y_test      = Y[int(0.2*len(Y)):] # Get labels from test set.\n",
    "print(X_train_val.shape, X_test.shape, Y_train_val.shape, Y_test.shape)"
   ]
  },
  {
   "cell_type": "markdown",
   "metadata": {},
   "source": [
    "**SVM w/ RBF Kernel**"
   ]
  },
  {
   "cell_type": "code",
   "execution_count": null,
   "metadata": {},
   "outputs": [],
   "source": [
    "#initialize SVM with rbf kernel\n",
    "classifier = svm.SVC(kernel='rbf')\n",
    "C_list     = [0.1, 1, 10, 100] # Different C to try.\n",
    "gamma_list = [1e-7, 1e-6, 1e-5, 1e-4] # Different gamma to try.\n",
    "#create parameter grid to be used in GridSearchCV\n",
    "param_grid = {'C': C_list,\"gamma\": gamma_list,'kernel':['rbf']}\n",
    "\n",
    "#Search for optimal C and Gamma values\n",
    "grid_search = GridSearchCV(classifier, param_grid, scoring='accuracy', cv= 3)\n",
    "grid_search = grid_search.fit(X_train_val, Y_train_val)\n",
    "\n",
    "#append training accuracy\n",
    "result = grid_search.cv_results_\n",
    "SVM_2080_training_acc = max(result['mean_train_score']) \n",
    "SVM_2080_training.append(SVM_2080_training_acc)\n",
    "\n",
    "#print accuracy score and optimal parameter\n",
    "print(\"Best Parameters:\", grid_search.best_params_)\n",
    "\n",
    "#Report Validation Accuracy\n",
    "validation_acc_SVM_1 = grid_search.best_score_\n",
    "SVM_2080_validation.append(validation_acc_SVM_1)\n",
    "print(\"Validation Accuracy:\", grid_search.best_score_)\n",
    "\n",
    "#Report Training Accuracy\n",
    "print(\"Training Accuracy:\", SVM_2080_training_acc)"
   ]
  },
  {
   "cell_type": "code",
   "execution_count": null,
   "metadata": {},
   "outputs": [],
   "source": [
    "#Report Testing Accuracy for SVM w/ Optimal Hyperparameters\n",
    "classifier = svm.SVC(C = 100,kernel='rbf', gamma=.0001)\n",
    "classifier = classifier.fit(X_train_val, Y_train_val)\n",
    "test_acc_SVM_1 = classifier.score(X_test, Y_test)\n",
    "\n",
    "# Add to list of testing accuracies for 20/80\n",
    "SVM_2080_testing.append(test_acc_SVM_1)\n",
    "\n",
    "#Report Accuracy\n",
    "print('Test accuracy:',test_acc_SVM_1)"
   ]
  },
  {
   "cell_type": "markdown",
   "metadata": {},
   "source": [
    "**Decision Tree**"
   ]
  },
  {
   "cell_type": "code",
   "execution_count": null,
   "metadata": {},
   "outputs": [],
   "source": [
    "#Define Parameters\n",
    "D_list = [1,2,3,4,5]\n",
    "param_grid = {'max_depth': D_list}\n",
    "#create tree classifier using sklearn\n",
    "classifier = tree.DecisionTreeClassifier(criterion=\"entropy\")\n",
    "#Use grid search to find the best D using 5 fold validation \n",
    "grid_search = GridSearchCV(classifier, param_grid, scoring='accuracy', cv= 5)\n",
    "grid_search = grid_search.fit(X_train_val, Y_train_val)\n",
    "\n",
    "\n",
    "#print accuracy score and optimal parameter\n",
    "print(\"Best Parameters:\", grid_search.best_params_)\n",
    "\n",
    "#append training accuracy\n",
    "result = grid_search.cv_results_\n",
    "DT_2080_training_acc = max(result['mean_train_score']) \n",
    "DT_2080_training.append(DT_2080_training_acc)\n",
    "\n",
    "#Report Validation Accuracy\n",
    "validation_acc_DT_1 = grid_search.best_score_\n",
    "DT_2080_validation.append(validation_acc_DT_1)\n",
    "\n",
    "#Report Validation Accuracy\n",
    "validation_acc_DT_1 = grid_search.best_score_\n",
    "DT_2080_validation.append(validation_acc_DT_1)\n",
    "print(\"Validation Accuracy:\", grid_search.best_score_)"
   ]
  },
  {
   "cell_type": "code",
   "execution_count": null,
   "metadata": {},
   "outputs": [],
   "source": [
    "#Report Testing Accuracy for Decision Tree w/ Optimal Depth\n",
    "classifier = tree.DecisionTreeClassifier(criterion=\"entropy\", max_depth=3)\n",
    "classifier = classifier.fit(X_train_val, Y_train_val)\n",
    "test_acc_DT_1 = classifier.score(X_test, Y_test)\n",
    "\n",
    "# Add to list of testing accuracies for 20/80\n",
    "DT_2080_testing.append(test_acc_DT_1)\n",
    "\n",
    "#Report Accuracy\n",
    "print(\"Test accuracy:\", test_acc_DT_1)"
   ]
  },
  {
   "cell_type": "markdown",
   "metadata": {},
   "source": [
    "**K Nearest Neighbors**"
   ]
  },
  {
   "cell_type": "code",
   "execution_count": null,
   "metadata": {},
   "outputs": [],
   "source": [
    "#Initialize KNN classifier using sklearn\n",
    "k_list = [1,2,3,4,5,6]\n",
    "param_grid = {'n_neighbors': k_list}\n",
    "#create KNN classifier using euclidean distance\n",
    "clf = KNeighborsClassifier(p=2)\n",
    "#Use grid search to find optimal K\n",
    "grid_search = GridSearchCV(clf, param_grid, scoring='accuracy', cv= 5)\n",
    "grid_search = grid_search.fit(X_train_val, Y_train_val)\n",
    "\n",
    "#Obtain Training Accuracy from Cross Validation\n",
    "train_acc_array = np.reshape(grid_search.cv_results_[\"mean_train_score\"],(-1,1))\n",
    "\n",
    "#Obtrain Validation Accuracy from Cross Validation\n",
    "val_acc_array = np.reshape(grid_search.cv_results_[\"mean_test_score\"],(-1,1))\n",
    "\n",
    "#append training accuracy\n",
    "result = grid_search.cv_results_\n",
    "KNN_2080_training_acc = max(result['mean_train_score']) \n",
    "KNN_2080_training.append(KNN_2080_training_acc)\n",
    "\n",
    "#Print Optimal Parameters and Accuracy\n",
    "print(\"Best Parameter:\",  grid_search.best_params_)\n",
    "\n",
    "#Report Validation Accuracy\n",
    "validation_acc_KNN_1 = grid_search.best_score_\n",
    "KNN_2080_validation.append(validation_acc_KNN_1)\n",
    "print(\"Validation Accuracy:\", validation_acc_KNN_1)"
   ]
  },
  {
   "cell_type": "code",
   "execution_count": null,
   "metadata": {},
   "outputs": [],
   "source": [
    "# Report Testing Accuracy w/ optimal number of neighbors \n",
    "# and Euclidean distance measure\n",
    "classifier = KNeighborsClassifier(n_neighbors=3, p=2)\n",
    "classifier = classifier.fit(X_train_val, Y_train_val)\n",
    "test_acc_KNN_1 = classifier.score(X_test, Y_test)\n",
    "\n",
    "# Add to list of testing accuracies for 20/80\n",
    "KNN_2080_testing.append(test_acc_KNN_1)\n",
    "\n",
    "# Report Accuracy\n",
    "print(\"Test Accuracy:\", test_acc_KNN_1)"
   ]
  },
  {
   "cell_type": "markdown",
   "metadata": {},
   "source": [
    "** TRIAL 3 **"
   ]
  },
  {
   "cell_type": "code",
   "execution_count": null,
   "metadata": {},
   "outputs": [],
   "source": [
    "# Load Data\n",
    "X_and_Y = df_wine_quality.values \n",
    "X_and_Y = X_and_Y.astype('float')\n",
    "np.random.shuffle(X_and_Y)   # Shuffle the data.\n",
    "X = X_and_Y[:, 0:-1]         # First column to second last column: Features (numerical values) \n",
    "Y = X_and_Y[:, -1]           # Last column: Labels (0 or 1)\n",
    "print(X.shape, Y.shape)      # Check the shapes."
   ]
  },
  {
   "cell_type": "code",
   "execution_count": null,
   "metadata": {},
   "outputs": [],
   "source": [
    "# 2) SPLIT DATA 80/20\n",
    "X_train_val = X[:int(0.8*len(X))] # Get features from train + val set.\n",
    "X_test      = X[int(0.8*len(X)):] # Get features from test set.     \n",
    "Y_train_val = Y[:int(0.8*len(Y))] # Get labels from train + val set.\n",
    "Y_test      = Y[int(0.8*len(Y)):] # Get labels from test set.\n",
    "print(X_train_val.shape, X_test.shape, Y_train_val.shape, Y_test.shape)"
   ]
  },
  {
   "cell_type": "markdown",
   "metadata": {},
   "source": [
    "**SVM w/ RBF Kernel**"
   ]
  },
  {
   "cell_type": "code",
   "execution_count": null,
   "metadata": {
    "scrolled": false
   },
   "outputs": [],
   "source": [
    "#initialize SVM with rbf kernel\n",
    "classifier = svm.SVC(kernel='rbf')\n",
    "C_list     = [0.1, 1, 10, 100] # Different C to try.\n",
    "gamma_list = [1e-7, 1e-6, 1e-5, 1e-4] # Different gamma to try.\n",
    "#create parameter grid to be used in GridSearchCV\n",
    "param_grid = {'C': C_list,\"gamma\": gamma_list,'kernel':['rbf']}\n",
    "\n",
    "#Search for optimal C and Gamma values\n",
    "grid_search = GridSearchCV(classifier, param_grid, scoring='accuracy', cv= 3)\n",
    "grid_search = grid_search.fit(X_train_val, Y_train_val)\n",
    "\n",
    "#append training accuracy\n",
    "result = grid_search.cv_results_\n",
    "SVM_8020_training_acc = max(result['mean_train_score']) \n",
    "SVM_8020_training.append(SVM_8020_training_acc)\n",
    "\n",
    "#print accuracy score and optimal parameter\n",
    "print(\"Best Parameters:\", grid_search.best_params_)\n",
    "\n",
    "#Report Validation Accuracy\n",
    "validation_acc_SVM_1 = grid_search.best_score_\n",
    "SVM_8020_validation.append(validation_acc_SVM_1)\n",
    "print(\"Validation Accuracy:\", grid_search.best_score_)\n",
    "\n",
    "#Report Training Accuracy\n",
    "print(\"Training Accuracy:\", SVM_8020_training_acc)"
   ]
  },
  {
   "cell_type": "code",
   "execution_count": null,
   "metadata": {},
   "outputs": [],
   "source": [
    "#Report Testing Accuracy for SVM w/ Optimal Hyperparameters\n",
    "classifier = svm.SVC(C = 100,kernel='rbf', gamma=.0001)\n",
    "classifier = classifier.fit(X_train_val, Y_train_val)\n",
    "test_acc_SVM_1 = classifier.score(X_test, Y_test)\n",
    "\n",
    "# Add to list of testing accuracies for 80/20\n",
    "SVM_8020_testing.append(test_acc_SVM_1)\n",
    "\n",
    "#Report Accuracy\n",
    "print('Test accuracy:',test_acc_SVM_1)"
   ]
  },
  {
   "cell_type": "markdown",
   "metadata": {},
   "source": [
    "**Decision Tree**"
   ]
  },
  {
   "cell_type": "code",
   "execution_count": null,
   "metadata": {
    "scrolled": true
   },
   "outputs": [],
   "source": [
    "#Define Parameters\n",
    "D_list = [1,2,3,4,5]\n",
    "param_grid = {'max_depth': D_list}\n",
    "#create tree classifier using sklearn\n",
    "classifier = tree.DecisionTreeClassifier(criterion=\"entropy\")\n",
    "#Use grid search to find the best D using 5 fold validation \n",
    "grid_search = GridSearchCV(classifier, param_grid, scoring='accuracy', cv= 5)\n",
    "grid_search = grid_search.fit(X_train_val, Y_train_val)\n",
    "\n",
    "\n",
    "#print accuracy score and optimal parameter\n",
    "print(\"Best Parameters:\", grid_search.best_params_)\n",
    "\n",
    "#append training accuracy\n",
    "result = grid_search.cv_results_\n",
    "DT_8020_training_acc = max(result['mean_train_score']) \n",
    "DT_8020_training.append(DT_8020_training_acc)\n",
    "\n",
    "#Report Validation Accuracy\n",
    "validation_acc_DT_1 = grid_search.best_score_\n",
    "DT_8020_validation.append(validation_acc_DT_1)\n",
    "\n",
    "#Report Validation Accuracy\n",
    "validation_acc_DT_1 = grid_search.best_score_\n",
    "DT_8020_validation.append(validation_acc_DT_1)\n",
    "print(\"Validation Accuracy:\", grid_search.best_score_)"
   ]
  },
  {
   "cell_type": "code",
   "execution_count": null,
   "metadata": {},
   "outputs": [],
   "source": [
    "#Report Testing Accuracy for Decision Tree w/ Optimal Depth\n",
    "classifier = tree.DecisionTreeClassifier(criterion=\"entropy\", max_depth=5)\n",
    "classifier = classifier.fit(X_train_val, Y_train_val)\n",
    "test_acc_DT_1 = classifier.score(X_test, Y_test)\n",
    "\n",
    "# Add to list of testing accuracies for 80/20\n",
    "DT_8020_testing.append(test_acc_DT_1)\n",
    "\n",
    "#Report Accuracy\n",
    "print(\"Test accuracy:\", test_acc_DT_1)"
   ]
  },
  {
   "cell_type": "markdown",
   "metadata": {},
   "source": [
    "**K Nearest Neighbors**"
   ]
  },
  {
   "cell_type": "code",
   "execution_count": null,
   "metadata": {
    "scrolled": false
   },
   "outputs": [],
   "source": [
    "#Initialize KNN classifier using sklearn\n",
    "k_list = [1,2,3,4,5,6]\n",
    "param_grid = {'n_neighbors': k_list}\n",
    "#create KNN classifier using euclidean distance\n",
    "clf = KNeighborsClassifier(p=2)\n",
    "#Use grid search to find optimal K\n",
    "grid_search = GridSearchCV(clf, param_grid, scoring='accuracy', cv= 5)\n",
    "grid_search = grid_search.fit(X_train_val, Y_train_val)\n",
    "\n",
    "#Obtain Training Accuracy from Cross Validation\n",
    "train_acc_array = np.reshape(grid_search.cv_results_[\"mean_train_score\"],(-1,1))\n",
    "\n",
    "#Obtrain Validation Accuracy from Cross Validation\n",
    "val_acc_array = np.reshape(grid_search.cv_results_[\"mean_test_score\"],(-1,1))\n",
    "\n",
    "#append training accuracy\n",
    "result = grid_search.cv_results_\n",
    "KNN_8020_training_acc = max(result['mean_train_score']) \n",
    "KNN_8020_training.append(KNN_8020_training_acc)\n",
    "\n",
    "#Print Optimal Parameters and Accuracy\n",
    "print(\"Best Parameter:\",  grid_search.best_params_)\n",
    "\n",
    "#Report Validation Accuracy\n",
    "validation_acc_KNN_1 = grid_search.best_score_\n",
    "KNN_8020_validation.append(validation_acc_KNN_1)\n",
    "print(\"Validation Accuracy:\", validation_acc_KNN_1)"
   ]
  },
  {
   "cell_type": "code",
   "execution_count": null,
   "metadata": {},
   "outputs": [],
   "source": [
    "# Report Testing Accuracy w/ optimal number of neighbors \n",
    "# and Euclidean distance measure\n",
    "classifier = KNeighborsClassifier(n_neighbors=1, p=2)\n",
    "classifier = classifier.fit(X_train_val, Y_train_val)\n",
    "test_acc_KNN_1 = classifier.score(X_test, Y_test)\n",
    "\n",
    "# Add to list of testing accuracies for 80/20\n",
    "KNN_8020_testing.append(test_acc_KNN_1)\n",
    "\n",
    "# Report Accuracy\n",
    "print(\"Test Accuracy:\", test_acc_KNN_1)"
   ]
  },
  {
   "cell_type": "code",
   "execution_count": null,
   "metadata": {},
   "outputs": [],
   "source": [
    "# 2) SPLIT DATA 50/50\n",
    "X_train_val = X[:int(0.5*len(X))] # Get features from train + val set.\n",
    "X_test      = X[int(0.5*len(X)):] # Get features from test set.     \n",
    "Y_train_val = Y[:int(0.5*len(Y))] # Get labels from train + val set.\n",
    "Y_test      = Y[int(0.5*len(Y)):] # Get labels from test set.\n",
    "print(X_train_val.shape, X_test.shape, Y_train_val.shape, Y_test.shape)"
   ]
  },
  {
   "cell_type": "markdown",
   "metadata": {},
   "source": [
    "**SVM w/ RBF**"
   ]
  },
  {
   "cell_type": "code",
   "execution_count": null,
   "metadata": {},
   "outputs": [],
   "source": [
    "#initialize SVM with rbf kernel\n",
    "classifier = svm.SVC(kernel='rbf')\n",
    "C_list     = [0.1, 1, 10, 100] # Different C to try.\n",
    "gamma_list = [1e-7, 1e-6, 1e-5, 1e-4] # Different gamma to try.\n",
    "#create parameter grid to be used in GridSearchCV\n",
    "param_grid = {'C': C_list,\"gamma\": gamma_list,'kernel':['rbf']}\n",
    "\n",
    "#Search for optimal C and Gamma values\n",
    "grid_search = GridSearchCV(classifier, param_grid, scoring='accuracy', cv= 3)\n",
    "grid_search = grid_search.fit(X_train_val, Y_train_val)\n",
    "\n",
    "#append training accuracy\n",
    "result = grid_search.cv_results_\n",
    "SVM_5050_training_acc = max(result['mean_train_score']) \n",
    "SVM_5050_training.append(SVM_5050_training_acc)\n",
    "\n",
    "#print accuracy score and optimal parameter\n",
    "print(\"Best Parameters:\", grid_search.best_params_)\n",
    "\n",
    "#Report Validation Accuracy\n",
    "validation_acc_SVM_1 = grid_search.best_score_\n",
    "SVM_5050_validation.append(validation_acc_SVM_1)\n",
    "print(\"Validation Accuracy:\", grid_search.best_score_)\n",
    "\n",
    "#Report Training Accuracy\n",
    "print(\"Training Accuracy:\", SVM_5050_training_acc)"
   ]
  },
  {
   "cell_type": "code",
   "execution_count": null,
   "metadata": {},
   "outputs": [],
   "source": [
    "#Report Testing Accuracy for SVM w/ Optimal Hyperparameters\n",
    "classifier = svm.SVC(C = 100,kernel='rbf', gamma=.0001)\n",
    "classifier = classifier.fit(X_train_val, Y_train_val)\n",
    "test_acc_SVM_1 = classifier.score(X_test, Y_test)\n",
    "\n",
    "# Add to list of testing accuracies for 50/50\n",
    "SVM_5050_testing.append(test_acc_SVM_1)\n",
    "\n",
    "#Report Accuracy\n",
    "print('Test accuracy:',test_acc_SVM_1)"
   ]
  },
  {
   "cell_type": "markdown",
   "metadata": {},
   "source": [
    "**Decision Tree**"
   ]
  },
  {
   "cell_type": "code",
   "execution_count": null,
   "metadata": {
    "scrolled": true
   },
   "outputs": [],
   "source": [
    "#Define Parameters\n",
    "D_list = [1,2,3,4,5]\n",
    "param_grid = {'max_depth': D_list}\n",
    "#create tree classifier using sklearn\n",
    "classifier = tree.DecisionTreeClassifier(criterion=\"entropy\")\n",
    "#Use grid search to find the best D using 5 fold validation \n",
    "grid_search = GridSearchCV(classifier, param_grid, scoring='accuracy', cv= 5)\n",
    "grid_search = grid_search.fit(X_train_val, Y_train_val)\n",
    "\n",
    "\n",
    "#print accuracy score and optimal parameter\n",
    "print(\"Best Parameters:\", grid_search.best_params_)\n",
    "\n",
    "#append training accuracy\n",
    "result = grid_search.cv_results_\n",
    "DT_5050_training_acc = max(result['mean_train_score']) \n",
    "DT_5050_training.append(DT_2080_training_acc)\n",
    "\n",
    "#Report Validation Accuracy\n",
    "validation_acc_DT_1 = grid_search.best_score_\n",
    "DT_5050_validation.append(validation_acc_DT_1)\n",
    "\n",
    "#Report Validation Accuracy\n",
    "validation_acc_DT_1 = grid_search.best_score_\n",
    "DT_5050_validation.append(validation_acc_DT_1)\n",
    "print(\"Validation Accuracy:\", grid_search.best_score_)"
   ]
  },
  {
   "cell_type": "code",
   "execution_count": null,
   "metadata": {},
   "outputs": [],
   "source": [
    "#Report Testing Accuracy for Decision Tree w/ Optimal Depth\n",
    "classifier = tree.DecisionTreeClassifier(criterion=\"entropy\", max_depth=4)\n",
    "classifier = classifier.fit(X_train_val, Y_train_val)\n",
    "test_acc_DT_1 = classifier.score(X_test, Y_test)\n",
    "\n",
    "# Add to list of testing accuracies for 20/80\n",
    "DT_5050_testing.append(test_acc_DT_1)\n",
    "\n",
    "#Report Accuracy\n",
    "print(\"Test accuracy:\", test_acc_DT_1)"
   ]
  },
  {
   "cell_type": "markdown",
   "metadata": {},
   "source": [
    "**K Nearest Neighbors**"
   ]
  },
  {
   "cell_type": "code",
   "execution_count": null,
   "metadata": {},
   "outputs": [],
   "source": [
    "#Initialize KNN classifier using sklearn\n",
    "k_list = [1,2,3,4,5,6]\n",
    "param_grid = {'n_neighbors': k_list}\n",
    "#create KNN classifier using euclidean distance\n",
    "clf = KNeighborsClassifier(p=2)\n",
    "#Use grid search to find optimal K\n",
    "grid_search = GridSearchCV(clf, param_grid, scoring='accuracy', cv= 5)\n",
    "grid_search = grid_search.fit(X_train_val, Y_train_val)\n",
    "\n",
    "#Obtain Training Accuracy from Cross Validation\n",
    "train_acc_array = np.reshape(grid_search.cv_results_[\"mean_train_score\"],(-1,1))\n",
    "\n",
    "#Obtrain Validation Accuracy from Cross Validation\n",
    "val_acc_array = np.reshape(grid_search.cv_results_[\"mean_test_score\"],(-1,1))\n",
    "\n",
    "#append training accuracy\n",
    "result = grid_search.cv_results_\n",
    "KNN_5050_training_acc = max(result['mean_train_score']) \n",
    "KNN_5050_training.append(KNN_5050_training_acc)\n",
    "\n",
    "#Print Optimal Parameters and Accuracy\n",
    "print(\"Best Parameter:\",  grid_search.best_params_)\n",
    "\n",
    "#Report Validation Accuracy\n",
    "validation_acc_KNN_1 = grid_search.best_score_\n",
    "KNN_5050_validation.append(validation_acc_KNN_1)\n",
    "print(\"Validation Accuracy:\", validation_acc_KNN_1)"
   ]
  },
  {
   "cell_type": "code",
   "execution_count": null,
   "metadata": {},
   "outputs": [],
   "source": [
    "# Report Testing Accuracy w/ optimal number of neighbors \n",
    "# and Euclidean distance measure\n",
    "classifier = KNeighborsClassifier(n_neighbors=1, p=2)\n",
    "classifier = classifier.fit(X_train_val, Y_train_val)\n",
    "test_acc_KNN_1 = classifier.score(X_test, Y_test)\n",
    "\n",
    "# Add to list of testing accuracies for 50/50\n",
    "KNN_5050_testing.append(test_acc_KNN_1)\n",
    "\n",
    "# Report Accuracy\n",
    "print(\"Test Accuracy:\", test_acc_KNN_1)"
   ]
  },
  {
   "cell_type": "code",
   "execution_count": null,
   "metadata": {},
   "outputs": [],
   "source": [
    "# 2) SPLIT DATA 20/80\n",
    "X_train_val = X[:int(0.2*len(X))] # Get features from train + val set.\n",
    "X_test      = X[int(0.2*len(X)):] # Get features from test set.     \n",
    "Y_train_val = Y[:int(0.2*len(Y))] # Get labels from train + val set.\n",
    "Y_test      = Y[int(0.2*len(Y)):] # Get labels from test set.\n",
    "print(X_train_val.shape, X_test.shape, Y_train_val.shape, Y_test.shape)"
   ]
  },
  {
   "cell_type": "markdown",
   "metadata": {},
   "source": [
    "**SVM w/ RBF Kernel**"
   ]
  },
  {
   "cell_type": "code",
   "execution_count": null,
   "metadata": {
    "scrolled": true
   },
   "outputs": [],
   "source": [
    "#initialize SVM with rbf kernel\n",
    "classifier = svm.SVC(kernel='rbf')\n",
    "C_list     = [0.1, 1, 10, 100] # Different C to try.\n",
    "gamma_list = [1e-7, 1e-6, 1e-5, 1e-4] # Different gamma to try.\n",
    "#create parameter grid to be used in GridSearchCV\n",
    "param_grid = {'C': C_list,\"gamma\": gamma_list,'kernel':['rbf']}\n",
    "\n",
    "#Search for optimal C and Gamma values\n",
    "grid_search = GridSearchCV(classifier, param_grid, scoring='accuracy', cv= 3)\n",
    "grid_search = grid_search.fit(X_train_val, Y_train_val)\n",
    "\n",
    "#append training accuracy\n",
    "result = grid_search.cv_results_\n",
    "SVM_2080_training_acc = max(result['mean_train_score']) \n",
    "SVM_2080_training.append(SVM_2080_training_acc)\n",
    "\n",
    "#print accuracy score and optimal parameter\n",
    "print(\"Best Parameters:\", grid_search.best_params_)\n",
    "\n",
    "#Report Validation Accuracy\n",
    "validation_acc_SVM_1 = grid_search.best_score_\n",
    "SVM_2080_validation.append(validation_acc_SVM_1)\n",
    "print(\"Validation Accuracy:\", grid_search.best_score_)\n",
    "\n",
    "#Report Training Accuracy\n",
    "print(\"Training Accuracy:\", SVM_2080_training_acc)"
   ]
  },
  {
   "cell_type": "code",
   "execution_count": null,
   "metadata": {},
   "outputs": [],
   "source": [
    "#Report Testing Accuracy for SVM w/ Optimal Hyperparameters\n",
    "classifier = svm.SVC(C = 100,kernel='rbf', gamma=.0001)\n",
    "classifier = classifier.fit(X_train_val, Y_train_val)\n",
    "test_acc_SVM_1 = classifier.score(X_test, Y_test)\n",
    "\n",
    "# Add to list of testing accuracies for 20/80\n",
    "SVM_2080_testing.append(test_acc_SVM_1)\n",
    "\n",
    "#Report Accuracy\n",
    "print('Test accuracy:',test_acc_SVM_1)"
   ]
  },
  {
   "cell_type": "markdown",
   "metadata": {},
   "source": [
    "**Decision Tree**"
   ]
  },
  {
   "cell_type": "code",
   "execution_count": null,
   "metadata": {},
   "outputs": [],
   "source": [
    "#Define Parameters\n",
    "D_list = [1,2,3,4,5]\n",
    "param_grid = {'max_depth': D_list}\n",
    "#create tree classifier using sklearn\n",
    "classifier = tree.DecisionTreeClassifier(criterion=\"entropy\")\n",
    "#Use grid search to find the best D using 5 fold validation \n",
    "grid_search = GridSearchCV(classifier, param_grid, scoring='accuracy', cv= 5)\n",
    "grid_search = grid_search.fit(X_train_val, Y_train_val)\n",
    "\n",
    "\n",
    "#print accuracy score and optimal parameter\n",
    "print(\"Best Parameters:\", grid_search.best_params_)\n",
    "\n",
    "#append training accuracy\n",
    "result = grid_search.cv_results_\n",
    "DT_2080_training_acc = max(result['mean_train_score']) \n",
    "DT_2080_training.append(DT_2080_training_acc)\n",
    "\n",
    "#Report Validation Accuracy\n",
    "validation_acc_DT_1 = grid_search.best_score_\n",
    "DT_2080_validation.append(validation_acc_DT_1)\n",
    "\n",
    "#Report Validation Accuracy\n",
    "validation_acc_DT_1 = grid_search.best_score_\n",
    "DT_2080_validation.append(validation_acc_DT_1)\n",
    "print(\"Validation Accuracy:\", grid_search.best_score_)"
   ]
  },
  {
   "cell_type": "code",
   "execution_count": null,
   "metadata": {},
   "outputs": [],
   "source": [
    "#Report Testing Accuracy for Decision Tree w/ Optimal Depth\n",
    "classifier = tree.DecisionTreeClassifier(criterion=\"entropy\", max_depth=3)\n",
    "classifier = classifier.fit(X_train_val, Y_train_val)\n",
    "test_acc_DT_1 = classifier.score(X_test, Y_test)\n",
    "\n",
    "# Add to list of testing accuracies for 20/80\n",
    "DT_2080_testing.append(test_acc_DT_1)\n",
    "\n",
    "#Report Accuracy\n",
    "print(\"Test accuracy:\", test_acc_DT_1)"
   ]
  },
  {
   "cell_type": "markdown",
   "metadata": {},
   "source": [
    "**K Nearest Neighbors**"
   ]
  },
  {
   "cell_type": "code",
   "execution_count": null,
   "metadata": {},
   "outputs": [],
   "source": [
    "#Initialize KNN classifier using sklearn\n",
    "k_list = [1,2,3,4,5,6]\n",
    "param_grid = {'n_neighbors': k_list}\n",
    "#create KNN classifier using euclidean distance\n",
    "clf = KNeighborsClassifier(p=2)\n",
    "#Use grid search to find optimal K\n",
    "grid_search = GridSearchCV(clf, param_grid, scoring='accuracy', cv= 5)\n",
    "grid_search = grid_search.fit(X_train_val, Y_train_val)\n",
    "\n",
    "#Obtain Training Accuracy from Cross Validation\n",
    "train_acc_array = np.reshape(grid_search.cv_results_[\"mean_train_score\"],(-1,1))\n",
    "\n",
    "#Obtrain Validation Accuracy from Cross Validation\n",
    "val_acc_array = np.reshape(grid_search.cv_results_[\"mean_test_score\"],(-1,1))\n",
    "\n",
    "#append training accuracy\n",
    "result = grid_search.cv_results_\n",
    "KNN_2080_training_acc = max(result['mean_train_score']) \n",
    "KNN_2080_training.append(KNN_2080_training_acc)\n",
    "\n",
    "#Print Optimal Parameters and Accuracy\n",
    "print(\"Best Parameter:\",  grid_search.best_params_)\n",
    "\n",
    "#Report Validation Accuracy\n",
    "validation_acc_KNN_1 = grid_search.best_score_\n",
    "KNN_2080_validation.append(validation_acc_KNN_1)\n",
    "print(\"Validation Accuracy:\", validation_acc_KNN_1)"
   ]
  },
  {
   "cell_type": "code",
   "execution_count": null,
   "metadata": {},
   "outputs": [],
   "source": [
    "# Report Testing Accuracy w/ optimal number of neighbors \n",
    "# and Euclidean distance measure\n",
    "classifier = KNeighborsClassifier(n_neighbors=3, p=2)\n",
    "classifier = classifier.fit(X_train_val, Y_train_val)\n",
    "test_acc_KNN_1 = classifier.score(X_test, Y_test)\n",
    "\n",
    "# Add to list of testing accuracies for 20/80\n",
    "KNN_2080_testing.append(test_acc_KNN_1)\n",
    "\n",
    "# Report Accuracy\n",
    "print(\"Test Accuracy:\", test_acc_KNN_1)"
   ]
  },
  {
   "cell_type": "markdown",
   "metadata": {},
   "source": [
    "** Accuracies Over Partitions: Wine Quality **"
   ]
  },
  {
   "cell_type": "markdown",
   "metadata": {},
   "source": [
    "**SVM Test, Training, and Validation Accuracies **"
   ]
  },
  {
   "cell_type": "code",
   "execution_count": null,
   "metadata": {
    "scrolled": false
   },
   "outputs": [],
   "source": [
    "# Report SVM test accuracies by partition\n",
    "print(\"SVM TEST ACCURACIES\")\n",
    "SVM_Testing_Accuracy_8020_wine_quality = statistics.mean(SVM_8020_testing)\n",
    "print(\"SVM 80/20 Testing Accuracy:\", SVM_Testing_Accuracy_8020_wine_quality)\n",
    "\n",
    "SVM_Testing_Accuracy_5050_wine_quality = statistics.mean(SVM_5050_testing)\n",
    "print(\"SVM 50/50 Testing Accuracy:\", SVM_Testing_Accuracy_5050_wine_quality)\n",
    "\n",
    "SVM_Testing_Accuracy_2080_wine_quality = statistics.mean(SVM_2080_testing)\n",
    "print(\"SVM 20/80 Testing Accuracy:\", SVM_Testing_Accuracy_2080_wine_quality)\n",
    "\n",
    "print(\"SVM VALIDATION ACCURACIES\")\n",
    "SVM_Validation_Accuracy_8020_wine_quality = statistics.mean(SVM_8020_validation)\n",
    "print(\"SVM 80/20 Validation Accuracy:\", SVM_Validation_Accuracy_8020_wine_quality)\n",
    "\n",
    "SVM_Validation_Accuracy_5050_wine_quality = statistics.mean(SVM_5050_validation)\n",
    "print(\"SVM 50/50 Validation Accuracy:\", SVM_Validation_Accuracy_5050_wine_quality)\n",
    "\n",
    "SVM_Validation_Accuracy_2080_wine_quality = statistics.mean(SVM_2080_validation)\n",
    "print(\"SVM 20/80 Validation Accuracy:\", SVM_Validation_Accuracy_2080_wine_quality)\n",
    "\n",
    "print(\"SVM TRAINING ACCURACIES\")\n",
    "SVM_Training_Accuracy_8020_wine_quality = statistics.mean(SVM_8020_training)\n",
    "print(\"SVM 80/20 Training Accuracy:\", SVM_Training_Accuracy_8020_wine_quality)\n",
    "\n",
    "SVM_Training_Accuracy_5050_wine_quality = statistics.mean(SVM_5050_training)\n",
    "print(\"SVM 50/50 Training Accuracy:\", SVM_Training_Accuracy_5050_wine_quality)\n",
    "\n",
    "SVM_Training_Accuracy_2080_wine_quality = statistics.mean(SVM_2080_training)\n",
    "print(\"SVM 20/80 Training Accuracy:\", SVM_Training_Accuracy_2080_wine_quality)"
   ]
  },
  {
   "cell_type": "markdown",
   "metadata": {},
   "source": [
    "**DT Test, Training, and Validation Accuracies **"
   ]
  },
  {
   "cell_type": "code",
   "execution_count": null,
   "metadata": {
    "scrolled": true
   },
   "outputs": [],
   "source": [
    "#Report Decision Tree accuracies by partition\n",
    "print(\"DECISION TREE TESTING ACCURACIES\")\n",
    "DT_Testing_Accuracy_8020_wine_quality = statistics.mean(DT_8020_testing)\n",
    "print(\"DT 80/20 Testing Accuracy:\", DT_Testing_Accuracy_8020_wine_quality)\n",
    "\n",
    "DT_Testing_Accuracy_5050_wine_quality = statistics.mean(DT_5050_testing)\n",
    "print(\"DT 50/50 Testing Accuracy:\", DT_Testing_Accuracy_5050_wine_quality)\n",
    "\n",
    "DT_Testing_Accuracy_2080_wine_quality = statistics.mean(DT_2080_testing)\n",
    "print(\"DT 20/80 Testing Accuracy:\", DT_Testing_Accuracy_2080_wine_quality)\n",
    "\n",
    "print(\"DECISION TREE VALIDATION ACCURACIES\")\n",
    "DT_Validation_Accuracy_8020_wine_quality = statistics.mean(DT_8020_validation)\n",
    "print(\"DT 80/20 Validation Accuracy:\", DT_Validation_Accuracy_8020_wine_quality)\n",
    "\n",
    "DT_Validation_Accuracy_5050_wine_quality = statistics.mean(DT_5050_validation)\n",
    "print(\"DT 50/50 Validation Accuracy:\", DT_Validation_Accuracy_5050_wine_quality)\n",
    "\n",
    "DT_Validation_Accuracy_2080_wine_quality = statistics.mean(DT_2080_validation)\n",
    "print(\"DT 20/80 Validation Accuracy:\", DT_Validation_Accuracy_2080_wine_quality)\n",
    "\n",
    "print(\"DECISION TREE TRAINING ACCURACIES\")\n",
    "DT_Training_Accuracy_8020_wine_quality = statistics.mean(DT_8020_training)\n",
    "print(\"DT 80/20 Training Accuracy:\", DT_Training_Accuracy_8020_wine_quality)\n",
    "\n",
    "DT_Training_Accuracy_5050_wine_quality = statistics.mean(DT_5050_training)\n",
    "print(\"DT 50/50 Training Accuracy:\", DT_Training_Accuracy_5050_wine_quality)\n",
    "\n",
    "DT_Training_Accuracy_2080_wine_quality = statistics.mean(DT_2080_training)\n",
    "print(\"DT 20/80 Training Accuracy:\", DT_Training_Accuracy_2080_wine_quality)\n"
   ]
  },
  {
   "cell_type": "markdown",
   "metadata": {},
   "source": [
    "**KNN Test, Training, and Validation Accuracies **"
   ]
  },
  {
   "cell_type": "code",
   "execution_count": null,
   "metadata": {},
   "outputs": [],
   "source": [
    "#Report KNN accuracies by partition\n",
    "print(\"KNN TESTING ACCURACIES\")\n",
    "KNN_Testing_Accuracy_8020_wine_quality = statistics.mean(KNN_8020_testing)\n",
    "print(\"KNN 80/20 Testing Accuracy:\", KNN_Testing_Accuracy_8020_wine_quality)\n",
    "\n",
    "KNN_Testing_Accuracy_5050_wine_quality = statistics.mean(KNN_5050_testing)\n",
    "print(\"KNN 50/50 Testing Accuracy:\", KNN_Testing_Accuracy_5050_wine_quality)\n",
    "\n",
    "KNN_Testing_Accuracy_2080_wine_quality = statistics.mean(KNN_2080_testing)\n",
    "print(\"KNN 20/80 Testing Accuracy:\", KNN_Testing_Accuracy_2080_wine_quality)\n",
    "\n",
    "print(\"KNN VALIDATION ACCURACIES\")\n",
    "KNN_Accuracy_Validation_8020_wine_quality = statistics.mean(KNN_8020_validation)\n",
    "print(\"KNN 80/20 Validation Accuracy:\", KNN_Accuracy_Validation_8020_wine_quality)\n",
    "\n",
    "KNN_Accuracy_Validation_5050_wine_quality = statistics.mean(KNN_5050_validation)\n",
    "print(\"KNN 50/50 Validation Accuracy:\", KNN_Accuracy_Validation_5050_wine_quality)\n",
    "\n",
    "KNN_Accuracy_Validation_2080_wine_quality = statistics.mean(KNN_2080_validation)\n",
    "print(\"KNN 20/80 Validation Accuracy:\", KNN_Accuracy_Validation_2080_wine_quality)\n",
    "\n",
    "print(\"KNN TRAINING ACCURACIES\")\n",
    "KNN_Accuracy_Training_8020_wine_quality = statistics.mean(KNN_8020_training)\n",
    "print(\"KNN 80/20 Training Accuracy:\", KNN_Accuracy_Training_8020_wine_quality)\n",
    "\n",
    "KNN_Accuracy_Training_5050_wine_quality = statistics.mean(KNN_5050_training)\n",
    "print(\"KNN 50/50 Training Accuracy:\", KNN_Accuracy_Training_5050_wine_quality)\n",
    "\n",
    "KNN_Accuracy_Training_2080_wine_quality = statistics.mean(KNN_2080_training)\n",
    "print(\"KNN 20/80 Training Accuracy:\", KNN_Accuracy_Training_2080_wine_quality)"
   ]
  },
  {
   "cell_type": "markdown",
   "metadata": {},
   "source": [
    "** Accuracies Over Partition for All Datasets**"
   ]
  },
  {
   "cell_type": "code",
   "execution_count": null,
   "metadata": {},
   "outputs": [],
   "source": [
    "SVM_Validation_5050 = (SVM_Validation_Accuracy_5050_Breast_Cancer + SVM_Validation_Accuracy_5050_wine_quality + SVM_Validation_Accuracy_5050_heart_disease)/3\n",
    "DT_Validation_5050 = (DT_Validation_Accuracy_5050_Breast_Cancer + DT_Validation_Accuracy_5050_wine_quality + DT_Validation_Accuracy_5050_heart_disease)/3\n",
    "KNN_Validation5050 = (KNN_Accuracy_Validation_5050_Breast_Cancer + KNN_Accuracy_Validation_5050_wine_quality + KNN_Accuracy_Validation_5050_heart_disease)/3\n",
    "\n",
    "SVM_Training_2080 = (SVM_Training_Accuracy_2080_Breast_Cancer + SVM_Training_Accuracy_2080_wine_quality + SVM_Training_Accuracy_2080_heart_disease)/3\n",
    "DT_Training_2080 = (DT_Training_Accuracy_2080_Breast_Cancer + DT_Training_Accuracy_2080_wine_quality + DT_Training_Accuracy_2080_heart_disease)/3\n",
    "KNN_Training_2080 = (KNN_Accuracy_Training_2080_Breast_Cancer + KNN_Accuracy_Training_2080_wine_quality + KNN_Accuracy_Training_2080_heart_disease)/3"
   ]
  },
  {
   "cell_type": "code",
   "execution_count": null,
   "metadata": {},
   "outputs": [],
   "source": [
    "#Accuracy per dataset SVM\n",
    "print(\"SVM Testing Accuracy 80/20 Breast Cancer:\",SVM_Testing_Accuracy_8020_Breast_Cancer)\n",
    "print(\"SVM Testing Accuracy 50/50 Breast Cancer:\",SVM_Testing_Accuracy_5050_Breast_Cancer)\n",
    "print(\"SVM Testing Accuracy 20/80 Breast Cancer:\",SVM_Testing_Accuracy_2080_Breast_Cancer)\n",
    "\n",
    "print(\"SVM Testing Accuracy 80/20 Heart Disease:\",SVM_Testing_Accuracy_8020_heart_disease)\n",
    "print(\"SVM Testing Accuracy 50/50 Heart Disease:\",SVM_Testing_Accuracy_5050_heart_disease)\n",
    "print(\"SVM Testing Accuracy 20/80 Heart Disease:\",SVM_Testing_Accuracy_2080_heart_disease)\n",
    "\n",
    "print(\"SVM Testing Accuracy 80/20 Wine Quality:\",SVM_Testing_Accuracy_8020_wine_quality)\n",
    "print(\"SVM Testing Accuracy 50/50 Wine Quality:\",SVM_Testing_Accuracy_5050_wine_quality)\n",
    "print(\"SVM Testing Accuracy 20/80 Wine Quality:\",SVM_Testing_Accuracy_2080_wine_quality)\n",
    "\n",
    "#Accuracy per dataset Decision Tree\n",
    "print(\"DT Testing Accuracy 80/20 Breast Cancer:\",DT_Testing_Accuracy_8020_Breast_Cancer)\n",
    "print(\"DT Testing Accuracy 50/50 Breast Cancer:\",DT_Testing_Accuracy_5050_Breast_Cancer)\n",
    "print(\"DT Testing Accuracy 20/80 Breast Cancer:\",DT_Testing_Accuracy_2080_Breast_Cancer)\n",
    "\n",
    "print(\"DT Testing Accuracy 80/20 Heart Disease:\",DT_Testing_Accuracy_8020_heart_disease)\n",
    "print(\"DT Testing Accuracy 50/50 Heart Disease:\",DT_Testing_Accuracy_5050_heart_disease)\n",
    "print(\"DT Testing Accuracy 20/80 Heart Disease:\",DT_Testing_Accuracy_2080_heart_disease)\n",
    "\n",
    "print(\"DT Testing Accuracy 80/20 Wine Quality:\",DT_Testing_Accuracy_8020_wine_quality)\n",
    "print(\"DT Testing Accuracy 50/50 Wine Quality:\",DT_Testing_Accuracy_5050_wine_quality)\n",
    "print(\"DT Testing Accuracy 20/80 Wine Quality:\",DT_Testing_Accuracy_2080_wine_quality)\n",
    "\n",
    "#Accuracy per dataset KNN\n",
    "print(\"KNN Testing Accuracy 80/20 Breast Cancer:\",KNN_Testing_Accuracy_8020_Breast_Cancer)\n",
    "print(\"KNN Testing Accuracy 50/50 Breast Cancer:\",KNN_Testing_Accuracy_5050_Breast_Cancer)\n",
    "print(\"KNN Testing Accuracy 20/80 Breast Cancer:\",KNN_Testing_Accuracy_2080_Breast_Cancer)\n",
    "\n",
    "print(\"KNN Testing Accuracy 80/20 Heart Disease:\",KNN_Testing_Accuracy_8020_heart_disease)\n",
    "print(\"KNN Testing Accuracy 50/50 Heart Disease:\",KNN_Testing_Accuracy_5050_heart_disease)\n",
    "print(\"KNN Testing Accuracy 20/80 Heart Disease:\",KNN_Testing_Accuracy_2080_heart_disease)\n",
    "\n",
    "print(\"KNN Testing Accuracy 80/20 Wine Quality:\",KNN_Testing_Accuracy_8020_wine_quality)\n",
    "print(\"KNN Testing Accuracy 50/50 Wine Quality:\",KNN_Testing_Accuracy_5050_wine_quality)\n",
    "print(\"KNN Testing Accuracy 20/80 Wine Quality:\",KNN_Testing_Accuracy_2080_wine_quality)"
   ]
  },
  {
   "cell_type": "code",
   "execution_count": null,
   "metadata": {},
   "outputs": [],
   "source": [
    "#Average Accuracy by Partition and Classifier\n",
    "SVM_Testing_8020 = (SVM_Testing_Accuracy_8020_Breast_Cancer + SVM_Testing_Accuracy_8020_wine_quality + SVM_Testing_Accuracy_8020_heart_disease)/3\n",
    "DT_Testing_8020 = (DT_Testing_Accuracy_8020_Breast_Cancer + DT_Testing_Accuracy_8020_wine_quality + DT_Testing_Accuracy_8020_heart_disease)/3\n",
    "KNN_Testing_8020 = (KNN_Testing_Accuracy_8020_Breast_Cancer + KNN_Testing_Accuracy_8020_wine_quality + KNN_Testing_Accuracy_8020_heart_disease)/3\n",
    "\n",
    "#Average Accuracy by Partition and Classifier\n",
    "SVM_Testing_5050 = (SVM_Testing_Accuracy_5050_Breast_Cancer + SVM_Testing_Accuracy_5050_wine_quality + SVM_Testing_Accuracy_5050_heart_disease)/3\n",
    "DT_Testing_5050 = (DT_Testing_Accuracy_5050_Breast_Cancer + DT_Testing_Accuracy_5050_wine_quality + DT_Testing_Accuracy_5050_heart_disease)/3\n",
    "KNN_Testing_5050 = (KNN_Testing_Accuracy_5050_Breast_Cancer + KNN_Testing_Accuracy_5050_wine_quality + KNN_Testing_Accuracy_5050_heart_disease)/3\n",
    "\n",
    "#Average Accuracy by Partition and Classifier\n",
    "SVM_Testing_2080 = (SVM_Testing_Accuracy_2080_Breast_Cancer + SVM_Testing_Accuracy_2080_wine_quality + SVM_Testing_Accuracy_2080_heart_disease)/3\n",
    "DT_Testing_2080 = (DT_Testing_Accuracy_2080_Breast_Cancer + DT_Testing_Accuracy_2080_wine_quality + DT_Testing_Accuracy_2080_heart_disease)/3\n",
    "KNN_Testing_2080 = (KNN_Testing_Accuracy_2080_Breast_Cancer + KNN_Testing_Accuracy_2080_wine_quality + KNN_Testing_Accuracy_2080_heart_disease)/3\n",
    "\n",
    "\n",
    "print(\"SVM Testing Accuracy 80/20:\",SVM_Testing_8020)\n",
    "print(\"Decision Trees Testing Accuracy 80/20:\",DT_Testing_8020)\n",
    "print(\"KNN Testing Accuracy 80/20:\",KNN_Testing_8020)\n",
    "print(\"\")\n",
    "print(\"SVM Testing Accuracy 50/50:\",SVM_Testing_5050)\n",
    "print(\"Decision Trees Testing Accuracy 50/50:\",DT_Testing_5050)\n",
    "print(\"KNN Testing Accuracy 50/50:\",KNN_Testing_5050)\n",
    "print(\"\")\n",
    "print(\"SVM Testing Accuracy 20/80:\",SVM_Testing_2080)\n",
    "print(\"Decision Trees Testing Accuracy 20/80:\",DT_Testing_2080)\n",
    "print(\"KNN Testing Accuracy 20/80:\",KNN_Testing_2080)\n",
    "\n",
    "\n"
   ]
  }
 ],
 "metadata": {
  "kernelspec": {
   "display_name": "Python 3",
   "language": "python",
   "name": "python3"
  },
  "language_info": {
   "codemirror_mode": {
    "name": "ipython",
    "version": 3
   },
   "file_extension": ".py",
   "mimetype": "text/x-python",
   "name": "python",
   "nbconvert_exporter": "python",
   "pygments_lexer": "ipython3",
   "version": "3.6.8"
  }
 },
 "nbformat": 4,
 "nbformat_minor": 2
}
